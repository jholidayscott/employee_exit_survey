{
 "cells": [
  {
   "cell_type": "markdown",
   "id": "97ecc212",
   "metadata": {},
   "source": [
    "# Employee Exit Survey\n",
    "\n",
    "## Aims of Analysis\n",
    "Stakeholders have asked for answers to these questions:\n",
    "\n",
    "Period of Service\n",
    "- Are short serving employees resigning due to dissatisfaction? \n",
    "- Are long serving employees resigning due to dissatisfaction? \n",
    "\n",
    "Age of Employee\n",
    "- Are younger employees resigning due to dissatisfaction?\n",
    "- Are older employees resigning due to dissatisfaction?\n",
    "\n",
    "## Data\n",
    "Two data sets will be used:\n",
    "\n",
    "#### [TAFE employee exit survey](https://data.gov.au/dataset/ds-qld-89970a3b-182b-41ea-aea2-6f9f17b5907e/details?q=exit%20survey)\n",
    "Staff feedback provides the Department with valuable information on the reasons why\n",
    "employees resign or retire. The information is used to inform attraction and retention initiatives\n",
    "and to improve work practices across the Department to ensure the Department is considered\n",
    "an employer of choice.\n",
    "\n",
    "The TAFE Exit Survey was developed to effectively canvass the opinions and attitudes of\n",
    "departing employees to identify a wide range of operational, organisational and personal\n",
    "variables affecting the decision to leave. \n",
    "#### [Employee Exit Survey - DETE](https://data.gov.au/dataset/ds-qld-fe96ff30-d157-4a81-851d-215f2a0fe26d/details?q=exit%20survey)\n",
    "Staff feedback provides the Department with valuable information on the reasons why\n",
    "employees resign or retire. The information is used to inform attraction and retention initiatives\n",
    "and to improve work practices across the Department to ensure the Department is considered\n",
    "an employer of choice.\n",
    "\n",
    "The DETE Exit Survey was developed to effectively canvass the opinions and attitudes of\n",
    "departing employees to identify a wide range of operational, organisational and personal\n",
    "variables affecting the decision to leave\n",
    "\n",
    "## Summary of Results\n",
    "1. Short service\n",
    "2. Long service\n",
    "3. Young\n",
    "4. Older"
   ]
  },
  {
   "cell_type": "code",
   "execution_count": 2,
   "id": "d07ecfbd",
   "metadata": {},
   "outputs": [],
   "source": [
    "import pandas as pd\n",
    "import seaborn as sns\n",
    "import matplotlib as plt"
   ]
  },
  {
   "cell_type": "code",
   "execution_count": 4,
   "id": "379b5340",
   "metadata": {},
   "outputs": [],
   "source": [
    "dete_survey = pd.read_csv('dete_survey_2014.csv', encoding='cp1252')\n",
    "tafe_survey = pd.read_csv('tafe_survey_2013.csv', encoding='cp1252')"
   ]
  }
 ],
 "metadata": {
  "kernelspec": {
   "display_name": "jpython",
   "language": "python",
   "name": "jpython"
  },
  "language_info": {
   "codemirror_mode": {
    "name": "ipython",
    "version": 3
   },
   "file_extension": ".py",
   "mimetype": "text/x-python",
   "name": "python",
   "nbconvert_exporter": "python",
   "pygments_lexer": "ipython3",
   "version": "3.9.2"
  }
 },
 "nbformat": 4,
 "nbformat_minor": 5
}
