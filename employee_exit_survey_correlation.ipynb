{
 "cells": [
  {
   "cell_type": "markdown",
   "id": "cfc02d7e",
   "metadata": {},
   "source": [
    "# Employee Exit Survey\n",
    "\n",
    "## The Client\n",
    "TAFE and DETE are vocational colleges in Australia. They have been doing exit surveys for a while and have now gathered a dataset of about 1600 results which they would like analysed. The client is focussed on internal contributing factors.\n",
    "\n",
    "## Aims of Analysis: Dissatisfaction\n",
    "The client has asked for a report to help them understand the results of their recent exit survey.\n",
    "\n",
    "They wish to understand the profile of employees who cite dissatisfaction as a contributing factor to their exit from the organisation.\n",
    "\n",
    "Leadership wants to understand where to target retention improvement strategies."
   ]
  },
  {
   "cell_type": "markdown",
   "id": "e9938e90",
   "metadata": {},
   "source": [
    "## Conclusions\n",
    "\n",
    "### Correlations Found with Dissatisfied Leavers\n",
    "- Conflict in departments has a fairly strong correlation across the datasets.\n",
    "- Age has a strong correlation at TAFE and a weaker correlation at DETE, but enough to explore more.\n",
    "- Gender has a meaningful correlation across both colleges.\n",
    "\n",
    "### Further Investigations\n",
    "- Conflict: Can this be linked to gender or age? We know there is no correlation to other contributory factors, but it seems plausible that age or gender could be the cause of conflict.\n"
   ]
  },
  {
   "cell_type": "markdown",
   "id": "a4d34495",
   "metadata": {},
   "source": [
    "## Notebooks and Reports\n",
    "The following notebooks and documents are part of this anaylsis:\n",
    "\n",
    "### Jupyter Notebook Filename: Summary\n",
    "- [employee_exit_survey_cleaning_1.csv](https://github.com/jholidayscott/employee_exit_survey/blob/main/employee_exit_survey_cleaning_1.ipynb): Columns drops, missing data, renaming columns, tidying data for consistency\n",
    "- [employee_exit_survey_cleaning_2.csv](https://github.com/jholidayscott/employee_exit_survey/blob/main/employee_exit_survey_cleaning_2.ipynb): Adding calculated columns, adding category columns, further drops\n",
    "- [employee_exit_survey_correlation.csv](https://github.com/jholidayscott/employee_exit_survey/blob/main/employee_exit_survey_correlation.ipynb): Investigating correlations to guide analysis\n",
    "- [employee_exit_survey_gender.csv](https://github.com/jholidayscott/employee_exit_survey/blob/main/employee_exit_survey_gender.ipynb): Aggregation by pivot_table of gender subsets, visualisations\n",
    "- [employee_exit_survey_age.csv](https://github.com/jholidayscott/employee_exit_survey/blob/main/employee_exit_survey_age.ipynb): Aggregation by pivot_table of gender subsets, visualisations\n",
    "- [employee_exit_survey_conflict.csv](https://github.com/jholidayscott/employee_exit_survey/blob/main/employee_exit_survey_conflict.ipynb):  Aggregation by pivot_table of gender subsets, visualisations\n"
   ]
  },
  {
   "cell_type": "code",
   "execution_count": 1,
   "id": "e13e5dfd",
   "metadata": {},
   "outputs": [],
   "source": [
    "import pandas as pd\n",
    "import matplotlib.pyplot as plt\n",
    "import matplotlib.style as style\n",
    "import numpy as np"
   ]
  },
  {
   "cell_type": "code",
   "execution_count": 3,
   "id": "97972c6d",
   "metadata": {},
   "outputs": [],
   "source": [
    "#exit_survey.to_csv('exit_survey_2017.csv')\n",
    "exit_survey = pd.read_csv('employee_exit_survey_clean_final.csv')"
   ]
  },
  {
   "cell_type": "code",
   "execution_count": 4,
   "id": "14a9f1b3",
   "metadata": {},
   "outputs": [
    {
     "data": {
      "text/html": [
       "<div>\n",
       "<style scoped>\n",
       "    .dataframe tbody tr th:only-of-type {\n",
       "        vertical-align: middle;\n",
       "    }\n",
       "\n",
       "    .dataframe tbody tr th {\n",
       "        vertical-align: top;\n",
       "    }\n",
       "\n",
       "    .dataframe thead th {\n",
       "        text-align: right;\n",
       "    }\n",
       "</style>\n",
       "<table border=\"1\" class=\"dataframe\">\n",
       "  <thead>\n",
       "    <tr style=\"text-align: right;\">\n",
       "      <th></th>\n",
       "      <th>Unnamed: 0</th>\n",
       "      <th>index</th>\n",
       "      <th>cf_to_private_sector</th>\n",
       "      <th>cf_health</th>\n",
       "      <th>cf_family</th>\n",
       "      <th>cf_dept_dissatisfaction</th>\n",
       "      <th>cf_job_dissatisfaction</th>\n",
       "      <th>cf_interpersonal_conflict</th>\n",
       "      <th>cf_other</th>\n",
       "      <th>institute_recognition</th>\n",
       "      <th>institute_job_security</th>\n",
       "      <th>dept_workload</th>\n",
       "      <th>dept_work_life_balance</th>\n",
       "      <th>dept_work_environment</th>\n",
       "      <th>exit_year</th>\n",
       "      <th>cf_dept_or_job_dissatisfaction</th>\n",
       "    </tr>\n",
       "  </thead>\n",
       "  <tbody>\n",
       "    <tr>\n",
       "      <th>Unnamed: 0</th>\n",
       "      <td>1.000000</td>\n",
       "      <td>1.000000</td>\n",
       "      <td>-0.059761</td>\n",
       "      <td>0.159205</td>\n",
       "      <td>0.071500</td>\n",
       "      <td>-0.051166</td>\n",
       "      <td>-0.048530</td>\n",
       "      <td>-0.006882</td>\n",
       "      <td>0.097038</td>\n",
       "      <td>-0.073342</td>\n",
       "      <td>-0.150416</td>\n",
       "      <td>-0.103197</td>\n",
       "      <td>0.081554</td>\n",
       "      <td>-0.287864</td>\n",
       "      <td>0.814613</td>\n",
       "      <td>-0.056814</td>\n",
       "    </tr>\n",
       "    <tr>\n",
       "      <th>index</th>\n",
       "      <td>1.000000</td>\n",
       "      <td>1.000000</td>\n",
       "      <td>-0.059761</td>\n",
       "      <td>0.159205</td>\n",
       "      <td>0.071500</td>\n",
       "      <td>-0.051166</td>\n",
       "      <td>-0.048530</td>\n",
       "      <td>-0.006882</td>\n",
       "      <td>0.097038</td>\n",
       "      <td>-0.073342</td>\n",
       "      <td>-0.150416</td>\n",
       "      <td>-0.103197</td>\n",
       "      <td>0.081554</td>\n",
       "      <td>-0.287864</td>\n",
       "      <td>0.814613</td>\n",
       "      <td>-0.056814</td>\n",
       "    </tr>\n",
       "    <tr>\n",
       "      <th>cf_to_private_sector</th>\n",
       "      <td>-0.059761</td>\n",
       "      <td>-0.059761</td>\n",
       "      <td>1.000000</td>\n",
       "      <td>-0.105713</td>\n",
       "      <td>-0.030012</td>\n",
       "      <td>0.014065</td>\n",
       "      <td>0.066957</td>\n",
       "      <td>0.007815</td>\n",
       "      <td>-0.120904</td>\n",
       "      <td>0.024903</td>\n",
       "      <td>0.025662</td>\n",
       "      <td>0.022970</td>\n",
       "      <td>-0.040754</td>\n",
       "      <td>0.072119</td>\n",
       "      <td>-0.043086</td>\n",
       "      <td>0.046568</td>\n",
       "    </tr>\n",
       "    <tr>\n",
       "      <th>cf_health</th>\n",
       "      <td>0.159205</td>\n",
       "      <td>0.159205</td>\n",
       "      <td>-0.105713</td>\n",
       "      <td>1.000000</td>\n",
       "      <td>-0.023230</td>\n",
       "      <td>0.030921</td>\n",
       "      <td>0.000695</td>\n",
       "      <td>0.013150</td>\n",
       "      <td>-0.141528</td>\n",
       "      <td>-0.036189</td>\n",
       "      <td>-0.033907</td>\n",
       "      <td>-0.040208</td>\n",
       "      <td>-0.022595</td>\n",
       "      <td>-0.009234</td>\n",
       "      <td>0.126138</td>\n",
       "      <td>0.023904</td>\n",
       "    </tr>\n",
       "    <tr>\n",
       "      <th>cf_family</th>\n",
       "      <td>0.071500</td>\n",
       "      <td>0.071500</td>\n",
       "      <td>-0.030012</td>\n",
       "      <td>-0.023230</td>\n",
       "      <td>1.000000</td>\n",
       "      <td>-0.013571</td>\n",
       "      <td>-0.032373</td>\n",
       "      <td>0.006855</td>\n",
       "      <td>-0.093963</td>\n",
       "      <td>-0.025735</td>\n",
       "      <td>-0.028121</td>\n",
       "      <td>-0.043384</td>\n",
       "      <td>0.035355</td>\n",
       "      <td>-0.047402</td>\n",
       "      <td>0.041493</td>\n",
       "      <td>-0.030192</td>\n",
       "    </tr>\n",
       "    <tr>\n",
       "      <th>cf_dept_dissatisfaction</th>\n",
       "      <td>-0.051166</td>\n",
       "      <td>-0.051166</td>\n",
       "      <td>0.014065</td>\n",
       "      <td>0.030921</td>\n",
       "      <td>-0.013571</td>\n",
       "      <td>1.000000</td>\n",
       "      <td>0.290847</td>\n",
       "      <td>0.265444</td>\n",
       "      <td>-0.121508</td>\n",
       "      <td>0.059994</td>\n",
       "      <td>-0.032208</td>\n",
       "      <td>-0.016983</td>\n",
       "      <td>-0.043867</td>\n",
       "      <td>-0.029966</td>\n",
       "      <td>-0.052225</td>\n",
       "      <td>0.695678</td>\n",
       "    </tr>\n",
       "    <tr>\n",
       "      <th>cf_job_dissatisfaction</th>\n",
       "      <td>-0.048530</td>\n",
       "      <td>-0.048530</td>\n",
       "      <td>0.066957</td>\n",
       "      <td>0.000695</td>\n",
       "      <td>-0.032373</td>\n",
       "      <td>0.290847</td>\n",
       "      <td>1.000000</td>\n",
       "      <td>0.154247</td>\n",
       "      <td>-0.134933</td>\n",
       "      <td>0.095660</td>\n",
       "      <td>-0.036092</td>\n",
       "      <td>-0.003482</td>\n",
       "      <td>-0.029783</td>\n",
       "      <td>-0.056739</td>\n",
       "      <td>-0.039030</td>\n",
       "      <td>0.806694</td>\n",
       "    </tr>\n",
       "    <tr>\n",
       "      <th>cf_interpersonal_conflict</th>\n",
       "      <td>-0.006882</td>\n",
       "      <td>-0.006882</td>\n",
       "      <td>0.007815</td>\n",
       "      <td>0.013150</td>\n",
       "      <td>0.006855</td>\n",
       "      <td>0.265444</td>\n",
       "      <td>0.154247</td>\n",
       "      <td>1.000000</td>\n",
       "      <td>-0.081322</td>\n",
       "      <td>0.032920</td>\n",
       "      <td>0.005031</td>\n",
       "      <td>-0.031572</td>\n",
       "      <td>-0.018393</td>\n",
       "      <td>-0.043921</td>\n",
       "      <td>-0.039908</td>\n",
       "      <td>0.232604</td>\n",
       "    </tr>\n",
       "    <tr>\n",
       "      <th>cf_other</th>\n",
       "      <td>0.097038</td>\n",
       "      <td>0.097038</td>\n",
       "      <td>-0.120904</td>\n",
       "      <td>-0.141528</td>\n",
       "      <td>-0.093963</td>\n",
       "      <td>-0.121508</td>\n",
       "      <td>-0.134933</td>\n",
       "      <td>-0.081322</td>\n",
       "      <td>1.000000</td>\n",
       "      <td>-0.055930</td>\n",
       "      <td>-0.032663</td>\n",
       "      <td>-0.123622</td>\n",
       "      <td>-0.185102</td>\n",
       "      <td>-0.001794</td>\n",
       "      <td>0.061978</td>\n",
       "      <td>-0.171958</td>\n",
       "    </tr>\n",
       "    <tr>\n",
       "      <th>institute_recognition</th>\n",
       "      <td>-0.073342</td>\n",
       "      <td>-0.073342</td>\n",
       "      <td>0.024903</td>\n",
       "      <td>-0.036189</td>\n",
       "      <td>-0.025735</td>\n",
       "      <td>0.059994</td>\n",
       "      <td>0.095660</td>\n",
       "      <td>0.032920</td>\n",
       "      <td>-0.055930</td>\n",
       "      <td>1.000000</td>\n",
       "      <td>0.399842</td>\n",
       "      <td>0.257985</td>\n",
       "      <td>0.188996</td>\n",
       "      <td>0.292634</td>\n",
       "      <td>-0.068798</td>\n",
       "      <td>0.117308</td>\n",
       "    </tr>\n",
       "    <tr>\n",
       "      <th>institute_job_security</th>\n",
       "      <td>-0.150416</td>\n",
       "      <td>-0.150416</td>\n",
       "      <td>0.025662</td>\n",
       "      <td>-0.033907</td>\n",
       "      <td>-0.028121</td>\n",
       "      <td>-0.032208</td>\n",
       "      <td>-0.036092</td>\n",
       "      <td>0.005031</td>\n",
       "      <td>-0.032663</td>\n",
       "      <td>0.399842</td>\n",
       "      <td>1.000000</td>\n",
       "      <td>0.242599</td>\n",
       "      <td>0.175712</td>\n",
       "      <td>0.378895</td>\n",
       "      <td>-0.104590</td>\n",
       "      <td>-0.035307</td>\n",
       "    </tr>\n",
       "    <tr>\n",
       "      <th>dept_workload</th>\n",
       "      <td>-0.103197</td>\n",
       "      <td>-0.103197</td>\n",
       "      <td>0.022970</td>\n",
       "      <td>-0.040208</td>\n",
       "      <td>-0.043384</td>\n",
       "      <td>-0.016983</td>\n",
       "      <td>-0.003482</td>\n",
       "      <td>-0.031572</td>\n",
       "      <td>-0.123622</td>\n",
       "      <td>0.257985</td>\n",
       "      <td>0.242599</td>\n",
       "      <td>1.000000</td>\n",
       "      <td>0.414853</td>\n",
       "      <td>0.427341</td>\n",
       "      <td>-0.027857</td>\n",
       "      <td>-0.000807</td>\n",
       "    </tr>\n",
       "    <tr>\n",
       "      <th>dept_work_life_balance</th>\n",
       "      <td>0.081554</td>\n",
       "      <td>0.081554</td>\n",
       "      <td>-0.040754</td>\n",
       "      <td>-0.022595</td>\n",
       "      <td>0.035355</td>\n",
       "      <td>-0.043867</td>\n",
       "      <td>-0.029783</td>\n",
       "      <td>-0.018393</td>\n",
       "      <td>-0.185102</td>\n",
       "      <td>0.188996</td>\n",
       "      <td>0.175712</td>\n",
       "      <td>0.414853</td>\n",
       "      <td>1.000000</td>\n",
       "      <td>0.279793</td>\n",
       "      <td>0.092513</td>\n",
       "      <td>-0.036536</td>\n",
       "    </tr>\n",
       "    <tr>\n",
       "      <th>dept_work_environment</th>\n",
       "      <td>-0.287864</td>\n",
       "      <td>-0.287864</td>\n",
       "      <td>0.072119</td>\n",
       "      <td>-0.009234</td>\n",
       "      <td>-0.047402</td>\n",
       "      <td>-0.029966</td>\n",
       "      <td>-0.056739</td>\n",
       "      <td>-0.043921</td>\n",
       "      <td>-0.001794</td>\n",
       "      <td>0.292634</td>\n",
       "      <td>0.378895</td>\n",
       "      <td>0.427341</td>\n",
       "      <td>0.279793</td>\n",
       "      <td>1.000000</td>\n",
       "      <td>-0.193669</td>\n",
       "      <td>-0.070168</td>\n",
       "    </tr>\n",
       "    <tr>\n",
       "      <th>exit_year</th>\n",
       "      <td>0.814613</td>\n",
       "      <td>0.814613</td>\n",
       "      <td>-0.043086</td>\n",
       "      <td>0.126138</td>\n",
       "      <td>0.041493</td>\n",
       "      <td>-0.052225</td>\n",
       "      <td>-0.039030</td>\n",
       "      <td>-0.039908</td>\n",
       "      <td>0.061978</td>\n",
       "      <td>-0.068798</td>\n",
       "      <td>-0.104590</td>\n",
       "      <td>-0.027857</td>\n",
       "      <td>0.092513</td>\n",
       "      <td>-0.193669</td>\n",
       "      <td>1.000000</td>\n",
       "      <td>-0.054001</td>\n",
       "    </tr>\n",
       "    <tr>\n",
       "      <th>cf_dept_or_job_dissatisfaction</th>\n",
       "      <td>-0.056814</td>\n",
       "      <td>-0.056814</td>\n",
       "      <td>0.046568</td>\n",
       "      <td>0.023904</td>\n",
       "      <td>-0.030192</td>\n",
       "      <td>0.695678</td>\n",
       "      <td>0.806694</td>\n",
       "      <td>0.232604</td>\n",
       "      <td>-0.171958</td>\n",
       "      <td>0.117308</td>\n",
       "      <td>-0.035307</td>\n",
       "      <td>-0.000807</td>\n",
       "      <td>-0.036536</td>\n",
       "      <td>-0.070168</td>\n",
       "      <td>-0.054001</td>\n",
       "      <td>1.000000</td>\n",
       "    </tr>\n",
       "  </tbody>\n",
       "</table>\n",
       "</div>"
      ],
      "text/plain": [
       "                                Unnamed: 0     index  cf_to_private_sector  \\\n",
       "Unnamed: 0                        1.000000  1.000000             -0.059761   \n",
       "index                             1.000000  1.000000             -0.059761   \n",
       "cf_to_private_sector             -0.059761 -0.059761              1.000000   \n",
       "cf_health                         0.159205  0.159205             -0.105713   \n",
       "cf_family                         0.071500  0.071500             -0.030012   \n",
       "cf_dept_dissatisfaction          -0.051166 -0.051166              0.014065   \n",
       "cf_job_dissatisfaction           -0.048530 -0.048530              0.066957   \n",
       "cf_interpersonal_conflict        -0.006882 -0.006882              0.007815   \n",
       "cf_other                          0.097038  0.097038             -0.120904   \n",
       "institute_recognition            -0.073342 -0.073342              0.024903   \n",
       "institute_job_security           -0.150416 -0.150416              0.025662   \n",
       "dept_workload                    -0.103197 -0.103197              0.022970   \n",
       "dept_work_life_balance            0.081554  0.081554             -0.040754   \n",
       "dept_work_environment            -0.287864 -0.287864              0.072119   \n",
       "exit_year                         0.814613  0.814613             -0.043086   \n",
       "cf_dept_or_job_dissatisfaction   -0.056814 -0.056814              0.046568   \n",
       "\n",
       "                                cf_health  cf_family  cf_dept_dissatisfaction  \\\n",
       "Unnamed: 0                       0.159205   0.071500                -0.051166   \n",
       "index                            0.159205   0.071500                -0.051166   \n",
       "cf_to_private_sector            -0.105713  -0.030012                 0.014065   \n",
       "cf_health                        1.000000  -0.023230                 0.030921   \n",
       "cf_family                       -0.023230   1.000000                -0.013571   \n",
       "cf_dept_dissatisfaction          0.030921  -0.013571                 1.000000   \n",
       "cf_job_dissatisfaction           0.000695  -0.032373                 0.290847   \n",
       "cf_interpersonal_conflict        0.013150   0.006855                 0.265444   \n",
       "cf_other                        -0.141528  -0.093963                -0.121508   \n",
       "institute_recognition           -0.036189  -0.025735                 0.059994   \n",
       "institute_job_security          -0.033907  -0.028121                -0.032208   \n",
       "dept_workload                   -0.040208  -0.043384                -0.016983   \n",
       "dept_work_life_balance          -0.022595   0.035355                -0.043867   \n",
       "dept_work_environment           -0.009234  -0.047402                -0.029966   \n",
       "exit_year                        0.126138   0.041493                -0.052225   \n",
       "cf_dept_or_job_dissatisfaction   0.023904  -0.030192                 0.695678   \n",
       "\n",
       "                                cf_job_dissatisfaction  \\\n",
       "Unnamed: 0                                   -0.048530   \n",
       "index                                        -0.048530   \n",
       "cf_to_private_sector                          0.066957   \n",
       "cf_health                                     0.000695   \n",
       "cf_family                                    -0.032373   \n",
       "cf_dept_dissatisfaction                       0.290847   \n",
       "cf_job_dissatisfaction                        1.000000   \n",
       "cf_interpersonal_conflict                     0.154247   \n",
       "cf_other                                     -0.134933   \n",
       "institute_recognition                         0.095660   \n",
       "institute_job_security                       -0.036092   \n",
       "dept_workload                                -0.003482   \n",
       "dept_work_life_balance                       -0.029783   \n",
       "dept_work_environment                        -0.056739   \n",
       "exit_year                                    -0.039030   \n",
       "cf_dept_or_job_dissatisfaction                0.806694   \n",
       "\n",
       "                                cf_interpersonal_conflict  cf_other  \\\n",
       "Unnamed: 0                                      -0.006882  0.097038   \n",
       "index                                           -0.006882  0.097038   \n",
       "cf_to_private_sector                             0.007815 -0.120904   \n",
       "cf_health                                        0.013150 -0.141528   \n",
       "cf_family                                        0.006855 -0.093963   \n",
       "cf_dept_dissatisfaction                          0.265444 -0.121508   \n",
       "cf_job_dissatisfaction                           0.154247 -0.134933   \n",
       "cf_interpersonal_conflict                        1.000000 -0.081322   \n",
       "cf_other                                        -0.081322  1.000000   \n",
       "institute_recognition                            0.032920 -0.055930   \n",
       "institute_job_security                           0.005031 -0.032663   \n",
       "dept_workload                                   -0.031572 -0.123622   \n",
       "dept_work_life_balance                          -0.018393 -0.185102   \n",
       "dept_work_environment                           -0.043921 -0.001794   \n",
       "exit_year                                       -0.039908  0.061978   \n",
       "cf_dept_or_job_dissatisfaction                   0.232604 -0.171958   \n",
       "\n",
       "                                institute_recognition  institute_job_security  \\\n",
       "Unnamed: 0                                  -0.073342               -0.150416   \n",
       "index                                       -0.073342               -0.150416   \n",
       "cf_to_private_sector                         0.024903                0.025662   \n",
       "cf_health                                   -0.036189               -0.033907   \n",
       "cf_family                                   -0.025735               -0.028121   \n",
       "cf_dept_dissatisfaction                      0.059994               -0.032208   \n",
       "cf_job_dissatisfaction                       0.095660               -0.036092   \n",
       "cf_interpersonal_conflict                    0.032920                0.005031   \n",
       "cf_other                                    -0.055930               -0.032663   \n",
       "institute_recognition                        1.000000                0.399842   \n",
       "institute_job_security                       0.399842                1.000000   \n",
       "dept_workload                                0.257985                0.242599   \n",
       "dept_work_life_balance                       0.188996                0.175712   \n",
       "dept_work_environment                        0.292634                0.378895   \n",
       "exit_year                                   -0.068798               -0.104590   \n",
       "cf_dept_or_job_dissatisfaction               0.117308               -0.035307   \n",
       "\n",
       "                                dept_workload  dept_work_life_balance  \\\n",
       "Unnamed: 0                          -0.103197                0.081554   \n",
       "index                               -0.103197                0.081554   \n",
       "cf_to_private_sector                 0.022970               -0.040754   \n",
       "cf_health                           -0.040208               -0.022595   \n",
       "cf_family                           -0.043384                0.035355   \n",
       "cf_dept_dissatisfaction             -0.016983               -0.043867   \n",
       "cf_job_dissatisfaction              -0.003482               -0.029783   \n",
       "cf_interpersonal_conflict           -0.031572               -0.018393   \n",
       "cf_other                            -0.123622               -0.185102   \n",
       "institute_recognition                0.257985                0.188996   \n",
       "institute_job_security               0.242599                0.175712   \n",
       "dept_workload                        1.000000                0.414853   \n",
       "dept_work_life_balance               0.414853                1.000000   \n",
       "dept_work_environment                0.427341                0.279793   \n",
       "exit_year                           -0.027857                0.092513   \n",
       "cf_dept_or_job_dissatisfaction      -0.000807               -0.036536   \n",
       "\n",
       "                                dept_work_environment  exit_year  \\\n",
       "Unnamed: 0                                  -0.287864   0.814613   \n",
       "index                                       -0.287864   0.814613   \n",
       "cf_to_private_sector                         0.072119  -0.043086   \n",
       "cf_health                                   -0.009234   0.126138   \n",
       "cf_family                                   -0.047402   0.041493   \n",
       "cf_dept_dissatisfaction                     -0.029966  -0.052225   \n",
       "cf_job_dissatisfaction                      -0.056739  -0.039030   \n",
       "cf_interpersonal_conflict                   -0.043921  -0.039908   \n",
       "cf_other                                    -0.001794   0.061978   \n",
       "institute_recognition                        0.292634  -0.068798   \n",
       "institute_job_security                       0.378895  -0.104590   \n",
       "dept_workload                                0.427341  -0.027857   \n",
       "dept_work_life_balance                       0.279793   0.092513   \n",
       "dept_work_environment                        1.000000  -0.193669   \n",
       "exit_year                                   -0.193669   1.000000   \n",
       "cf_dept_or_job_dissatisfaction              -0.070168  -0.054001   \n",
       "\n",
       "                                cf_dept_or_job_dissatisfaction  \n",
       "Unnamed: 0                                           -0.056814  \n",
       "index                                                -0.056814  \n",
       "cf_to_private_sector                                  0.046568  \n",
       "cf_health                                             0.023904  \n",
       "cf_family                                            -0.030192  \n",
       "cf_dept_dissatisfaction                               0.695678  \n",
       "cf_job_dissatisfaction                                0.806694  \n",
       "cf_interpersonal_conflict                             0.232604  \n",
       "cf_other                                             -0.171958  \n",
       "institute_recognition                                 0.117308  \n",
       "institute_job_security                               -0.035307  \n",
       "dept_workload                                        -0.000807  \n",
       "dept_work_life_balance                               -0.036536  \n",
       "dept_work_environment                                -0.070168  \n",
       "exit_year                                            -0.054001  \n",
       "cf_dept_or_job_dissatisfaction                        1.000000  "
      ]
     },
     "execution_count": 4,
     "metadata": {},
     "output_type": "execute_result"
    }
   ],
   "source": [
    "exit_survey.corr(method='pearson')"
   ]
  },
  {
   "cell_type": "code",
   "execution_count": 5,
   "id": "c33ac8d0",
   "metadata": {},
   "outputs": [
    {
     "data": {
      "text/plain": [
       "0.26544364072618015"
      ]
     },
     "execution_count": 5,
     "metadata": {},
     "output_type": "execute_result"
    }
   ],
   "source": [
    "exit_survey['cf_dept_dissatisfaction'].corr(exit_survey['cf_interpersonal_conflict'], method='pearson')"
   ]
  },
  {
   "cell_type": "markdown",
   "id": "eaf32533",
   "metadata": {},
   "source": [
    "## Correlation to **cf_dept_dissatisfaction** or **cf_job_dissatisfaction**\n",
    "The DataFrame.corr() function ignores our primary targets of **age** and **gender** but there is one interesting correlation to explore:\n",
    "\n",
    "- 'cf_dept_dissatisfaction' and 'cf_interpersonal_conflict'\n",
    "\n",
    "0.265 is signficant enough in a binary correlation to explore in more detail."
   ]
  },
  {
   "cell_type": "code",
   "execution_count": 44,
   "id": "3ea0410f",
   "metadata": {},
   "outputs": [
    {
     "name": "stdout",
     "output_type": "stream",
     "text": [
      "<class 'pandas.core.frame.DataFrame'>\n",
      "RangeIndex: 1524 entries, 0 to 1523\n",
      "Data columns (total 18 columns):\n",
      " #   Column                     Non-Null Count  Dtype \n",
      "---  ------                     --------------  ----- \n",
      " 0   index                      1524 non-null   int64 \n",
      " 1   cf_to_private_sector       1524 non-null   bool  \n",
      " 2   cf_health                  1524 non-null   bool  \n",
      " 3   cf_family                  1524 non-null   bool  \n",
      " 4   cf_dept_dissatisfaction    1524 non-null   bool  \n",
      " 5   cf_job_dissatisfaction     1524 non-null   bool  \n",
      " 6   cf_interpersonal_conflict  1524 non-null   bool  \n",
      " 7   cf_other                   1524 non-null   bool  \n",
      " 8   institute_recognition      1524 non-null   bool  \n",
      " 9   institute_job_security     1524 non-null   bool  \n",
      " 10  dept_workload              1524 non-null   bool  \n",
      " 11  dept_work_life_balance     1524 non-null   bool  \n",
      " 12  dept_work_environment      1524 non-null   bool  \n",
      " 13  gender                     1524 non-null   object\n",
      " 14  age                        1407 non-null   object\n",
      " 15  service_years              1293 non-null   object\n",
      " 16  exit_year                  1524 non-null   int64 \n",
      " 17  college                    1524 non-null   object\n",
      "dtypes: bool(12), int64(2), object(4)\n",
      "memory usage: 89.4+ KB\n"
     ]
    }
   ],
   "source": [
    "exit_survey.info()"
   ]
  },
  {
   "cell_type": "markdown",
   "id": "e8adceee",
   "metadata": {},
   "source": [
    "## Age Correlations\n",
    "Because the data is categorical and the contributing factor columns and boolean, correlation is hard to achieve short of getting into Scipy and using more complex correlations such as DICE. However, since it's only one column, we can use exploratory visualisations to see whether we should look deeper."
   ]
  },
  {
   "cell_type": "code",
   "execution_count": 5,
   "id": "1442e16d",
   "metadata": {},
   "outputs": [
    {
     "data": {
      "text/plain": [
       "<AxesSubplot:title={'center':'Dept Dissatisfaction as a CF by Age'}, xlabel='age'>"
      ]
     },
     "execution_count": 5,
     "metadata": {},
     "output_type": "execute_result"
    },
    {
     "data": {
      "image/png": "[encoded data removed]",
      "text/plain": [
       "<Figure size 432x288 with 1 Axes>"
      ]
     },
     "metadata": {
      "needs_background": "light"
     },
     "output_type": "display_data"
    }
   ],
   "source": [
    "pv_age = exit_survey.pivot_table(values='cf_dept_dissatisfaction', index='age', aggfunc=np.sum, margins=True)\n",
    "pv_age.plot(kind='bar', xlim=((0,10)), title='Dept Dissatisfaction as a CF by Age', legend=False)"
   ]
  },
  {
   "cell_type": "code",
   "execution_count": 6,
   "id": "29502488",
   "metadata": {},
   "outputs": [
    {
     "data": {
      "text/plain": [
       "<AxesSubplot:title={'center':'Job Dissatisfaction as a CF by Age'}, xlabel='age'>"
      ]
     },
     "execution_count": 6,
     "metadata": {},
     "output_type": "execute_result"
    },
    {
     "data": {
      "image/png": "[encoded data removed]",
      "text/plain": [
       "<Figure size 432x288 with 1 Axes>"
      ]
     },
     "metadata": {
      "needs_background": "light"
     },
     "output_type": "display_data"
    }
   ],
   "source": [
    "pv_age = exit_survey.pivot_table(values='cf_job_dissatisfaction', index='age', aggfunc=np.sum, margins=True)\n",
    "pv_age.plot(kind='bar', xlim=((0,10)), title='Job Dissatisfaction as a CF by Age', legend=False)"
   ]
  },
  {
   "cell_type": "code",
   "execution_count": 89,
   "id": "4cd20ada",
   "metadata": {},
   "outputs": [
    {
     "name": "stdout",
     "output_type": "stream",
     "text": [
      "<class 'pandas.core.frame.DataFrame'>\n",
      "RangeIndex: 1524 entries, 0 to 1523\n",
      "Data columns (total 20 columns):\n",
      " #   Column                                  Non-Null Count  Dtype \n",
      "---  ------                                  --------------  ----- \n",
      " 0   index                                   1524 non-null   int64 \n",
      " 1   cf_to_private_sector                    1524 non-null   bool  \n",
      " 2   cf_health                               1524 non-null   bool  \n",
      " 3   cf_family                               1524 non-null   bool  \n",
      " 4   cf_dept_dissatisfaction                 1524 non-null   bool  \n",
      " 5   cf_job_dissatisfaction                  1524 non-null   bool  \n",
      " 6   cf_interpersonal_conflict               1524 non-null   bool  \n",
      " 7   cf_other                                1524 non-null   bool  \n",
      " 8   institute_recognition                   1524 non-null   bool  \n",
      " 9   institute_job_security                  1524 non-null   bool  \n",
      " 10  dept_workload                           1524 non-null   bool  \n",
      " 11  dept_work_life_balance                  1524 non-null   bool  \n",
      " 12  dept_work_environment                   1524 non-null   bool  \n",
      " 13  gender                                  1524 non-null   object\n",
      " 14  age                                     1407 non-null   object\n",
      " 15  service_years                           1293 non-null   object\n",
      " 16  exit_year                               1524 non-null   int64 \n",
      " 17  college                                 1524 non-null   object\n",
      " 18  cf_dept_or_job_cf_dept_dissatisfaction  1524 non-null   bool  \n",
      " 19  cf_dept_or_job_dissatisfaction          1524 non-null   bool  \n",
      "dtypes: bool(14), int64(2), object(4)\n",
      "memory usage: 92.4+ KB\n"
     ]
    }
   ],
   "source": [
    "# Since cf_job and cf_dept are broadly the same, we can combine these into one dataframe by OR \n",
    "\n",
    "#exit_survey['cf_dept_or_job_dissatisfaction'] = dissatisfied = exit_survey['cf_dept_dissatisfaction'] | exit_survey['cf_job_dissatisfaction']"
   ]
  },
  {
   "cell_type": "code",
   "execution_count": 94,
   "id": "c42b141d",
   "metadata": {},
   "outputs": [],
   "source": [
    "#exit_survey.drop('cf_dept_or_job_cf_dept_dissatisfaction', axis=1, inplace=True)"
   ]
  },
  {
   "cell_type": "code",
   "execution_count": 24,
   "id": "66001005",
   "metadata": {},
   "outputs": [
    {
     "data": {
      "text/plain": [
       "<AxesSubplot:title={'center':'Dept and Job Dissatisfaction as a CF by Age'}, xlabel='age'>"
      ]
     },
     "execution_count": 24,
     "metadata": {},
     "output_type": "execute_result"
    },
    {
     "data": {
      "image/png": "[encoded data removed]",
      "text/plain": [
       "<Figure size 432x288 with 1 Axes>"
      ]
     },
     "metadata": {
      "needs_background": "light"
     },
     "output_type": "display_data"
    }
   ],
   "source": [
    "pv_age = exit_survey.pivot_table(values='cf_dept_or_job_dissatisfaction', index='age', aggfunc=np.sum, margins=True)\n",
    "pv_age.plot(kind='bar', xlim=((0,10)), title='Dept and Job Dissatisfaction as a CF by Age', legend=False)"
   ]
  },
  {
   "cell_type": "code",
   "execution_count": 26,
   "id": "b1f7468f",
   "metadata": {},
   "outputs": [
    {
     "data": {
      "text/html": [
       "<div>\n",
       "<style scoped>\n",
       "    .dataframe tbody tr th:only-of-type {\n",
       "        vertical-align: middle;\n",
       "    }\n",
       "\n",
       "    .dataframe tbody tr th {\n",
       "        vertical-align: top;\n",
       "    }\n",
       "\n",
       "    .dataframe thead th {\n",
       "        text-align: right;\n",
       "    }\n",
       "</style>\n",
       "<table border=\"1\" class=\"dataframe\">\n",
       "  <thead>\n",
       "    <tr style=\"text-align: right;\">\n",
       "      <th></th>\n",
       "      <th>cf_dept_or_job_dissatisfaction</th>\n",
       "    </tr>\n",
       "    <tr>\n",
       "      <th>age</th>\n",
       "      <th></th>\n",
       "    </tr>\n",
       "  </thead>\n",
       "  <tbody>\n",
       "    <tr>\n",
       "      <th>18-20</th>\n",
       "      <td>2</td>\n",
       "    </tr>\n",
       "    <tr>\n",
       "      <th>21-25</th>\n",
       "      <td>4</td>\n",
       "    </tr>\n",
       "    <tr>\n",
       "      <th>21–25</th>\n",
       "      <td>11</td>\n",
       "    </tr>\n",
       "    <tr>\n",
       "      <th>26-30</th>\n",
       "      <td>12</td>\n",
       "    </tr>\n",
       "    <tr>\n",
       "      <th>26–30</th>\n",
       "      <td>9</td>\n",
       "    </tr>\n",
       "    <tr>\n",
       "      <th>31-35</th>\n",
       "      <td>9</td>\n",
       "    </tr>\n",
       "    <tr>\n",
       "      <th>31–35</th>\n",
       "      <td>8</td>\n",
       "    </tr>\n",
       "    <tr>\n",
       "      <th>36-40</th>\n",
       "      <td>8</td>\n",
       "    </tr>\n",
       "    <tr>\n",
       "      <th>36–40</th>\n",
       "      <td>9</td>\n",
       "    </tr>\n",
       "    <tr>\n",
       "      <th>41-45</th>\n",
       "      <td>9</td>\n",
       "    </tr>\n",
       "    <tr>\n",
       "      <th>41–45</th>\n",
       "      <td>12</td>\n",
       "    </tr>\n",
       "    <tr>\n",
       "      <th>46-50</th>\n",
       "      <td>8</td>\n",
       "    </tr>\n",
       "    <tr>\n",
       "      <th>46–50</th>\n",
       "      <td>14</td>\n",
       "    </tr>\n",
       "    <tr>\n",
       "      <th>51-55</th>\n",
       "      <td>37</td>\n",
       "    </tr>\n",
       "    <tr>\n",
       "      <th>56+</th>\n",
       "      <td>72</td>\n",
       "    </tr>\n",
       "    <tr>\n",
       "      <th>All</th>\n",
       "      <td>224</td>\n",
       "    </tr>\n",
       "  </tbody>\n",
       "</table>\n",
       "</div>"
      ],
      "text/plain": [
       "       cf_dept_or_job_dissatisfaction\n",
       "age                                  \n",
       "18-20                               2\n",
       "21-25                               4\n",
       "21–25                              11\n",
       "26-30                              12\n",
       "26–30                               9\n",
       "31-35                               9\n",
       "31–35                               8\n",
       "36-40                               8\n",
       "36–40                               9\n",
       "41-45                               9\n",
       "41–45                              12\n",
       "46-50                               8\n",
       "46–50                              14\n",
       "51-55                              37\n",
       "56+                                72\n",
       "All                               224"
      ]
     },
     "execution_count": 26,
     "metadata": {},
     "output_type": "execute_result"
    }
   ],
   "source": [
    "pv_age"
   ]
  },
  {
   "cell_type": "markdown",
   "id": "c3e37be8",
   "metadata": {},
   "source": [
    "### Possible Correlation\n",
    "There might be a correlation here as there is a large jump in employees over 55 citing dissatisfaction as a contributing factor.\n",
    "\n",
    "- 51-55 308% more likely to cite dissatisfaction that the next highest age group in the baseline.\n",
    "- 56+ 600% more likely to cite dissatisfaction that the next highest age group in the baseline.\n",
    "\n",
    "However, we need to see what the age distribution is for all employees."
   ]
  },
  {
   "cell_type": "code",
   "execution_count": 27,
   "id": "605086a5",
   "metadata": {},
   "outputs": [
    {
     "data": {
      "text/plain": [
       "<AxesSubplot:title={'center':'TAFE Age Distribution'}>"
      ]
     },
     "execution_count": 27,
     "metadata": {},
     "output_type": "execute_result"
    },
    {
     "data": {
      "image/png": "[encoded data removed]",
      "text/plain": [
       "<Figure size 432x288 with 1 Axes>"
      ]
     },
     "metadata": {
      "needs_background": "light"
     },
     "output_type": "display_data"
    }
   ],
   "source": [
    "values = exit_survey.loc[exit_survey['college'] == 'TAFE','age']\n",
    "values.value_counts().sort_values(ascending=True).plot(kind='bar', title='TAFE Age Distribution')"
   ]
  },
  {
   "cell_type": "markdown",
   "id": "a926ed74",
   "metadata": {},
   "source": [
    "### Strong Correlation Found: Age at TAFE\n",
    "- 51-55 about 130% more common in the TAFE data set, but produce a 308% of dissatisfied leavers.\n",
    "- 56+ about 200% more common in the TAFE data set, but produce 600% of dissatisfied leavers."
   ]
  },
  {
   "cell_type": "code",
   "execution_count": 23,
   "id": "3219f60d",
   "metadata": {},
   "outputs": [
    {
     "data": {
      "text/plain": [
       "<AxesSubplot:title={'center':'DETE Gender Distribution'}>"
      ]
     },
     "execution_count": 23,
     "metadata": {},
     "output_type": "execute_result"
    },
    {
     "data": {
      "image/png": "[encoded data removed]",
      "text/plain": [
       "<Figure size 432x288 with 1 Axes>"
      ]
     },
     "metadata": {
      "needs_background": "light"
     },
     "output_type": "display_data"
    }
   ],
   "source": [
    "values = exit_survey.loc[exit_survey['college'] == 'DETE','age']\n",
    "values.value_counts().sort_values(ascending=True).plot(kind='bar', title='DETE Age Distribution')"
   ]
  },
  {
   "cell_type": "markdown",
   "id": "c2f025a6",
   "metadata": {},
   "source": [
    "### Weaker Correlation Found: Age at DETE\n",
    "- 51-55 about 150% more common in the DETE dataset, but produce 308% of dissatisfied leavers.\n",
    "- 56+ about 400% more common in the DETE dataset, but produce 600% of dissatisfied leavers.\n",
    "\n",
    "### Conlcusion\n",
    "The correlation between age and dissatisfied leavers is strong at TAFE than it is at DETE, where there is a larger number of employees over the age of 65, but there is clearly a surge in dissatisfaction in the this age group that should be explore more.\n"
   ]
  },
  {
   "cell_type": "markdown",
   "id": "b07dac09",
   "metadata": {},
   "source": [
    "## Gender Correlations\n",
    "\n",
    "Because the data is categorical and the contributing factor columns and boolean, correlation is hard to achieve short of getting into Scipy and using more complex correlations such as DICE. However, since it's only one column, we can use exploratory visualisations to see whether we should look deeper."
   ]
  },
  {
   "cell_type": "code",
   "execution_count": 28,
   "id": "27864ad1",
   "metadata": {},
   "outputs": [
    {
     "name": "stdout",
     "output_type": "stream",
     "text": [
      "        cf_dept_or_job_dissatisfaction\n",
      "gender                                \n",
      "Female                             149\n",
      "Male                                92\n",
      "All                                241\n"
     ]
    },
    {
     "data": {
      "text/plain": [
       "<AxesSubplot:title={'center':'Dept Dissatisfaction as a CF by Gender'}, xlabel='gender'>"
      ]
     },
     "execution_count": 28,
     "metadata": {},
     "output_type": "execute_result"
    },
    {
     "data": {
      "image/png": "[encoded data removed]",
      "text/plain": [
       "<Figure size 432x288 with 1 Axes>"
      ]
     },
     "metadata": {
      "needs_background": "light"
     },
     "output_type": "display_data"
    }
   ],
   "source": [
    "pv_gender = exit_survey.pivot_table(values='cf_dept_or_job_dissatisfaction', index='gender', aggfunc=np.sum, margins=True)\n",
    "pv_gender.plot(kind='bar', xlim=((0,10)), title='Dept Dissatisfaction as a CF by Gender', legend=False)"
   ]
  },
  {
   "cell_type": "markdown",
   "id": "455f2c6a",
   "metadata": {},
   "source": [
    "Initially, it looks like there is a greater number of dissatisfied women.\n",
    "\n",
    "However, we need to see the gender distribution across the colleges."
   ]
  },
  {
   "cell_type": "code",
   "execution_count": 35,
   "id": "f0f327bd",
   "metadata": {},
   "outputs": [
    {
     "name": "stdout",
     "output_type": "stream",
     "text": [
      "Female    1045\n",
      "Male       479\n",
      "Name: gender, dtype: int64\n"
     ]
    },
    {
     "data": {
      "text/plain": [
       "<AxesSubplot:title={'center':'TAFE Age Distribution'}>"
      ]
     },
     "execution_count": 35,
     "metadata": {},
     "output_type": "execute_result"
    },
    {
     "data": {
      "image/png": "[encoded data removed]",
      "text/plain": [
       "<Figure size 432x288 with 1 Axes>"
      ]
     },
     "metadata": {
      "needs_background": "light"
     },
     "output_type": "display_data"
    }
   ],
   "source": [
    "gender_values = exit_survey.loc[:,'gender']\n",
    "gender_values.value_counts().sort_values(ascending=True).plot(kind='bar', title='TAFE Age Distribution')"
   ]
  },
  {
   "cell_type": "code",
   "execution_count": 41,
   "id": "410014ca",
   "metadata": {},
   "outputs": [
    {
     "name": "stdout",
     "output_type": "stream",
     "text": [
      "Female    1045\n",
      "Male       479\n",
      "Name: gender, dtype: int64\n",
      "\n",
      "\n",
      "        cf_dept_or_job_dissatisfaction\n",
      "gender                                \n",
      "Female                             149\n",
      "Male                                92\n",
      "All                                241\n"
     ]
    }
   ],
   "source": [
    "print(gender_values.value_counts())\n",
    "print('\\n')\n",
    "print(pv_gender)"
   ]
  },
  {
   "cell_type": "markdown",
   "id": "922ea088",
   "metadata": {},
   "source": [
    "Some quick manual calculations reveal:\n",
    "\n",
    "General Population:\n",
    "- 68% Female\n",
    "- 32% Male\n",
    "\n",
    "Dissatisfied Population\n",
    "- 62% Female\n",
    "- 38% Male\n",
    "\n",
    "### Correlation Found\n",
    "There is a 6% difference between all leavers and dissatisfied leavers.\n"
   ]
  },
  {
   "cell_type": "markdown",
   "id": "eb2c5007",
   "metadata": {},
   "source": [
    "# Conclusions\n",
    "\n",
    "## Correlations Found with Dissatisfied Leavers\n",
    "- Conflict in departments has a fairly strong correlation across the datasets.\n",
    "- Age has a strong correlation at TAFE and a weaker correlation at DETE, but enough to explore more.\n",
    "- Gender has a meaningful correlation across both colleges.\n",
    "\n",
    "## Further Investigations\n",
    "- Conflict: Can this be linked to gender or age? We know there is no correlation to other contributory factors, but it seems plausible that age or gender could be the cause of conflict."
   ]
  }
 ],
 "metadata": {
  "kernelspec": {
   "display_name": "jpython",
   "language": "python",
   "name": "jpython"
  },
  "language_info": {
   "codemirror_mode": {
    "name": "ipython",
    "version": 3
   },
   "file_extension": ".py",
   "mimetype": "text/x-python",
   "name": "python",
   "nbconvert_exporter": "python",
   "pygments_lexer": "ipython3",
   "version": "3.9.2"
  }
 },
 "nbformat": 4,
 "nbformat_minor": 5
}
