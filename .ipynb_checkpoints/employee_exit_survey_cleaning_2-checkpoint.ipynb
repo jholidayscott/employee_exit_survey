{
 "cells": [
  {
   "cell_type": "markdown",
   "id": "07203753",
   "metadata": {},
   "source": [
    "# More Cleaning and Adding Useful Columns\n",
    "This notebook makes a few minor changes:\n",
    "1. Adds a column 'college' so analysis can aggregate by business area.\n",
    "2. Adds 'exit_year' so change of time can be explored."
   ]
  },
  {
   "cell_type": "code",
   "execution_count": 5,
   "id": "9f8bdc16",
   "metadata": {},
   "outputs": [],
   "source": [
    "import pandas as pd\n",
    "\n",
    "dete_all = pd.read_csv('dete_survey_2014.csv', encoding='cp1252', na_values='Not Stated')\n",
    "tafe_all = pd.read_csv('tafe_survey_2013.csv', encoding='cp1252')\n",
    "\n",
    "dete_clean = pd.read_csv('dete_clean.csv')\n",
    "tafe_clean = pd.read_csv('tafe_clean.csv')\n",
    "\n"
   ]
  },
  {
   "cell_type": "code",
   "execution_count": 16,
   "id": "e3499e00",
   "metadata": {},
   "outputs": [],
   "source": [
    "dete_cease = dete_all['Cease Date']\n",
    "\n",
    "pattern =r\"([1-2][0-9][0-9][0-9])\"\n",
    "\n",
    "dete_cease = dete_cease.str.extract(pattern)"
   ]
  },
  {
   "cell_type": "code",
   "execution_count": 23,
   "id": "d01270a4",
   "metadata": {},
   "outputs": [],
   "source": [
    "dete_cease = dete_cease.fillna('0')"
   ]
  },
  {
   "cell_type": "code",
   "execution_count": 24,
   "id": "c34e9ffe",
   "metadata": {},
   "outputs": [],
   "source": [
    "dete_cease = dete_cease.astype('int64')"
   ]
  },
  {
   "cell_type": "code",
   "execution_count": 50,
   "id": "f6a4e42b",
   "metadata": {},
   "outputs": [],
   "source": [
    "years = dete_cease[dete_cease >= 2006]\n",
    "\n",
    "years_mean = years.mean()\n",
    "\n",
    "dete_cease = dete_cease.replace(0,2012)"
   ]
  },
  {
   "cell_type": "code",
   "execution_count": 88,
   "id": "b6d723ec",
   "metadata": {},
   "outputs": [
    {
     "data": {
      "text/plain": [
       "2012    388\n",
       "2013    380\n",
       "2014     51\n",
       "2010      2\n",
       "2006      1\n",
       "Name: exit_year, dtype: int64"
      ]
     },
     "execution_count": 88,
     "metadata": {},
     "output_type": "execute_result"
    }
   ],
   "source": [
    "dete_cease.value_counts(dropna=False)"
   ]
  },
  {
   "cell_type": "code",
   "execution_count": 52,
   "id": "1647e57c",
   "metadata": {},
   "outputs": [],
   "source": [
    "dete_clean['exit_year'] = dete_cease"
   ]
  },
  {
   "cell_type": "code",
   "execution_count": 53,
   "id": "a3261bbe",
   "metadata": {},
   "outputs": [
    {
     "name": "stdout",
     "output_type": "stream",
     "text": [
      "<class 'pandas.core.frame.DataFrame'>\n",
      "RangeIndex: 822 entries, 0 to 821\n",
      "Data columns (total 19 columns):\n",
      " #   Column                     Non-Null Count  Dtype \n",
      "---  ------                     --------------  ----- \n",
      " 0   Unnamed: 0                 822 non-null    int64 \n",
      " 1   Unnamed: 0.1               822 non-null    int64 \n",
      " 2   cf_to_public_sector        822 non-null    bool  \n",
      " 3   cf_to_private_sector       822 non-null    bool  \n",
      " 4   cf_health                  822 non-null    bool  \n",
      " 5   cf_family                  822 non-null    bool  \n",
      " 6   cf_dept_dissatisfaction    822 non-null    bool  \n",
      " 7   cf_job_dissatisfaction     822 non-null    bool  \n",
      " 8   cf_interpersonal_conflict  822 non-null    bool  \n",
      " 9   cf_other                   822 non-null    bool  \n",
      " 10  institute_recognition      822 non-null    bool  \n",
      " 11  institute_job_security     822 non-null    bool  \n",
      " 12  dept_workload              822 non-null    bool  \n",
      " 13  dept_work_life_balance     822 non-null    bool  \n",
      " 14  dept_work_environment      822 non-null    bool  \n",
      " 15  gender                     822 non-null    object\n",
      " 16  age                        811 non-null    object\n",
      " 17  service_years              697 non-null    object\n",
      " 18  exit_year                  822 non-null    int64 \n",
      "dtypes: bool(13), int64(3), object(3)\n",
      "memory usage: 49.1+ KB\n"
     ]
    }
   ],
   "source": [
    "dete_clean.info()"
   ]
  },
  {
   "cell_type": "code",
   "execution_count": 54,
   "id": "7d0cc11c",
   "metadata": {},
   "outputs": [],
   "source": [
    "#dete_clean = dete_clean.drop(dete_clean.columns[0:2], axis=1)"
   ]
  },
  {
   "cell_type": "code",
   "execution_count": 55,
   "id": "847ad153",
   "metadata": {},
   "outputs": [
    {
     "name": "stdout",
     "output_type": "stream",
     "text": [
      "<class 'pandas.core.frame.DataFrame'>\n",
      "RangeIndex: 822 entries, 0 to 821\n",
      "Data columns (total 17 columns):\n",
      " #   Column                     Non-Null Count  Dtype \n",
      "---  ------                     --------------  ----- \n",
      " 0   cf_to_public_sector        822 non-null    bool  \n",
      " 1   cf_to_private_sector       822 non-null    bool  \n",
      " 2   cf_health                  822 non-null    bool  \n",
      " 3   cf_family                  822 non-null    bool  \n",
      " 4   cf_dept_dissatisfaction    822 non-null    bool  \n",
      " 5   cf_job_dissatisfaction     822 non-null    bool  \n",
      " 6   cf_interpersonal_conflict  822 non-null    bool  \n",
      " 7   cf_other                   822 non-null    bool  \n",
      " 8   institute_recognition      822 non-null    bool  \n",
      " 9   institute_job_security     822 non-null    bool  \n",
      " 10  dept_workload              822 non-null    bool  \n",
      " 11  dept_work_life_balance     822 non-null    bool  \n",
      " 12  dept_work_environment      822 non-null    bool  \n",
      " 13  gender                     822 non-null    object\n",
      " 14  age                        811 non-null    object\n",
      " 15  service_years              697 non-null    object\n",
      " 16  exit_year                  822 non-null    int64 \n",
      "dtypes: bool(13), int64(1), object(3)\n",
      "memory usage: 36.2+ KB\n"
     ]
    }
   ],
   "source": [
    "dete_clean.info()"
   ]
  },
  {
   "cell_type": "code",
   "execution_count": 56,
   "id": "f139d941",
   "metadata": {},
   "outputs": [],
   "source": [
    "dete_clean['college'] = 'DETE'"
   ]
  },
  {
   "cell_type": "code",
   "execution_count": 57,
   "id": "61e0a796",
   "metadata": {},
   "outputs": [
    {
     "name": "stdout",
     "output_type": "stream",
     "text": [
      "<class 'pandas.core.frame.DataFrame'>\n",
      "RangeIndex: 822 entries, 0 to 821\n",
      "Data columns (total 18 columns):\n",
      " #   Column                     Non-Null Count  Dtype \n",
      "---  ------                     --------------  ----- \n",
      " 0   cf_to_public_sector        822 non-null    bool  \n",
      " 1   cf_to_private_sector       822 non-null    bool  \n",
      " 2   cf_health                  822 non-null    bool  \n",
      " 3   cf_family                  822 non-null    bool  \n",
      " 4   cf_dept_dissatisfaction    822 non-null    bool  \n",
      " 5   cf_job_dissatisfaction     822 non-null    bool  \n",
      " 6   cf_interpersonal_conflict  822 non-null    bool  \n",
      " 7   cf_other                   822 non-null    bool  \n",
      " 8   institute_recognition      822 non-null    bool  \n",
      " 9   institute_job_security     822 non-null    bool  \n",
      " 10  dept_workload              822 non-null    bool  \n",
      " 11  dept_work_life_balance     822 non-null    bool  \n",
      " 12  dept_work_environment      822 non-null    bool  \n",
      " 13  gender                     822 non-null    object\n",
      " 14  age                        811 non-null    object\n",
      " 15  service_years              697 non-null    object\n",
      " 16  exit_year                  822 non-null    int64 \n",
      " 17  college                    822 non-null    object\n",
      "dtypes: bool(13), int64(1), object(4)\n",
      "memory usage: 42.7+ KB\n"
     ]
    }
   ],
   "source": [
    "dete_clean.info()"
   ]
  },
  {
   "cell_type": "code",
   "execution_count": 58,
   "id": "cde37037",
   "metadata": {},
   "outputs": [],
   "source": [
    "dete_clean.to_csv('dete_clean_13.1127')"
   ]
  },
  {
   "cell_type": "code",
   "execution_count": 60,
   "id": "24537b45",
   "metadata": {},
   "outputs": [
    {
     "name": "stdout",
     "output_type": "stream",
     "text": [
      "<class 'pandas.core.frame.DataFrame'>\n",
      "RangeIndex: 702 entries, 0 to 701\n",
      "Data columns (total 72 columns):\n",
      " #   Column                                                                                                                                                         Non-Null Count  Dtype  \n",
      "---  ------                                                                                                                                                         --------------  -----  \n",
      " 0   Record ID                                                                                                                                                      702 non-null    int64  \n",
      " 1   Institute                                                                                                                                                      702 non-null    object \n",
      " 2   WorkArea                                                                                                                                                       702 non-null    object \n",
      " 3   CESSATION YEAR                                                                                                                                                 695 non-null    float64\n",
      " 4   Reason for ceasing employment                                                                                                                                  701 non-null    object \n",
      " 5   Contributing Factors. Career Move - Public Sector                                                                                                              437 non-null    object \n",
      " 6   Contributing Factors. Career Move - Private Sector                                                                                                             437 non-null    object \n",
      " 7   Contributing Factors. Career Move - Self-employment                                                                                                            437 non-null    object \n",
      " 8   Contributing Factors. Ill Health                                                                                                                               437 non-null    object \n",
      " 9   Contributing Factors. Maternity/Family                                                                                                                         437 non-null    object \n",
      " 10  Contributing Factors. Dissatisfaction                                                                                                                          437 non-null    object \n",
      " 11  Contributing Factors. Job Dissatisfaction                                                                                                                      437 non-null    object \n",
      " 12  Contributing Factors. Interpersonal Conflict                                                                                                                   437 non-null    object \n",
      " 13  Contributing Factors. Study                                                                                                                                    437 non-null    object \n",
      " 14  Contributing Factors. Travel                                                                                                                                   437 non-null    object \n",
      " 15  Contributing Factors. Other                                                                                                                                    437 non-null    object \n",
      " 16  Contributing Factors. NONE                                                                                                                                     437 non-null    object \n",
      " 17  Main Factor.     Which of these was the main factor for leaving?                                                                                               113 non-null    object \n",
      " 18  InstituteViews. Topic:1. I feel the senior leadership had a clear vision and direction                                                                         608 non-null    object \n",
      " 19  InstituteViews. Topic:2. I was given access to skills training to help me do my job better                                                                     613 non-null    object \n",
      " 20  InstituteViews. Topic:3. I was given adequate opportunities for personal development                                                                           610 non-null    object \n",
      " 21  InstituteViews. Topic:4. I was given adequate opportunities for promotion within %Institute]Q25LBL%                                                            608 non-null    object \n",
      " 22  InstituteViews. Topic:5. I felt the salary for the job was right for the responsibilities I had                                                                615 non-null    object \n",
      " 23  InstituteViews. Topic:6. The organisation recognised when staff did good work                                                                                  607 non-null    object \n",
      " 24  InstituteViews. Topic:7. Management was generally supportive of me                                                                                             614 non-null    object \n",
      " 25  InstituteViews. Topic:8. Management was generally supportive of my team                                                                                        608 non-null    object \n",
      " 26  InstituteViews. Topic:9. I was kept informed of the changes in the organisation which would affect me                                                          610 non-null    object \n",
      " 27  InstituteViews. Topic:10. Staff morale was positive within the Institute                                                                                       602 non-null    object \n",
      " 28  InstituteViews. Topic:11. If I had a workplace issue it was dealt with quickly                                                                                 601 non-null    object \n",
      " 29  InstituteViews. Topic:12. If I had a workplace issue it was dealt with efficiently                                                                             597 non-null    object \n",
      " 30  InstituteViews. Topic:13. If I had a workplace issue it was dealt with discreetly                                                                              601 non-null    object \n",
      " 31  WorkUnitViews. Topic:14. I was satisfied with the quality of the management and supervision within my work unit                                                609 non-null    object \n",
      " 32  WorkUnitViews. Topic:15. I worked well with my colleagues                                                                                                      605 non-null    object \n",
      " 33  WorkUnitViews. Topic:16. My job was challenging and interesting                                                                                                607 non-null    object \n",
      " 34  WorkUnitViews. Topic:17. I was encouraged to use my initiative in the course of my work                                                                        610 non-null    object \n",
      " 35  WorkUnitViews. Topic:18. I had sufficient contact with other people in my job                                                                                  613 non-null    object \n",
      " 36  WorkUnitViews. Topic:19. I was given adequate support and co-operation by my peers to enable me to do my job                                                   609 non-null    object \n",
      " 37  WorkUnitViews. Topic:20. I was able to use the full range of my skills in my job                                                                               609 non-null    object \n",
      " 38  WorkUnitViews. Topic:21. I was able to use the full range of my abilities in my job. ; Category:Level of Agreement; Question:YOUR VIEWS ABOUT YOUR WORK UNIT]  608 non-null    object \n",
      " 39  WorkUnitViews. Topic:22. I was able to use the full range of my knowledge in my job                                                                            608 non-null    object \n",
      " 40  WorkUnitViews. Topic:23. My job provided sufficient variety                                                                                                    611 non-null    object \n",
      " 41  WorkUnitViews. Topic:24. I was able to cope with the level of stress and pressure in my job                                                                    610 non-null    object \n",
      " 42  WorkUnitViews. Topic:25. My job allowed me to balance the demands of work and family to my satisfaction                                                        611 non-null    object \n",
      " 43  WorkUnitViews. Topic:26. My supervisor gave me adequate personal recognition and feedback on my performance                                                    606 non-null    object \n",
      " 44  WorkUnitViews. Topic:27. My working environment was satisfactory e.g. sufficient space, good lighting, suitable seating and working area                       610 non-null    object \n",
      " 45  WorkUnitViews. Topic:28. I was given the opportunity to mentor and coach others in order for me to pass on my skills and knowledge prior to my cessation date  609 non-null    object \n",
      " 46  WorkUnitViews. Topic:29. There was adequate communication between staff in my unit                                                                             603 non-null    object \n",
      " 47  WorkUnitViews. Topic:30. Staff morale was positive within my work unit                                                                                         606 non-null    object \n",
      " 48  Induction. Did you undertake Workplace Induction?                                                                                                              619 non-null    object \n",
      " 49  InductionInfo. Topic:Did you undertake a Corporate Induction?                                                                                                  432 non-null    object \n",
      " 50  InductionInfo. Topic:Did you undertake a Institute Induction?                                                                                                  483 non-null    object \n",
      " 51  InductionInfo. Topic: Did you undertake Team Induction?                                                                                                        440 non-null    object \n",
      " 52  InductionInfo. Face to Face Topic:Did you undertake a Corporate Induction; Category:How it was conducted?                                                      555 non-null    object \n",
      " 53  InductionInfo. On-line Topic:Did you undertake a Corporate Induction; Category:How it was conducted?                                                           555 non-null    object \n",
      " 54  InductionInfo. Induction Manual Topic:Did you undertake a Corporate Induction?                                                                                 555 non-null    object \n",
      " 55  InductionInfo. Face to Face Topic:Did you undertake a Institute Induction?                                                                                     530 non-null    object \n",
      " 56  InductionInfo. On-line Topic:Did you undertake a Institute Induction?                                                                                          555 non-null    object \n",
      " 57  InductionInfo. Induction Manual Topic:Did you undertake a Institute Induction?                                                                                 553 non-null    object \n",
      " 58  InductionInfo. Face to Face Topic: Did you undertake Team Induction; Category?                                                                                 555 non-null    object \n",
      " 59  InductionInfo. On-line Topic: Did you undertake Team Induction?process you undertook and how it was conducted.]                                                555 non-null    object \n",
      " 60  InductionInfo. Induction Manual Topic: Did you undertake Team Induction?                                                                                       555 non-null    object \n",
      " 61  Workplace. Topic:Did you and your Manager develop a Performance and Professional Development Plan (PPDP)?                                                      608 non-null    object \n",
      " 62  Workplace. Topic:Does your workplace promote a work culture free from all forms of unlawful discrimination?                                                    594 non-null    object \n",
      " 63  Workplace. Topic:Does your workplace promote and practice the principles of employment equity?                                                                 587 non-null    object \n",
      " 64  Workplace. Topic:Does your workplace value the diversity of its employees?                                                                                     586 non-null    object \n",
      " 65  Workplace. Topic:Would you recommend the Institute as an employer to others?                                                                                   581 non-null    object \n",
      " 66  Gender.     What is your Gender?                                                                                                                               596 non-null    object \n",
      " 67  CurrentAge.     Current Age                                                                                                                                    596 non-null    object \n",
      " 68  Employment Type.     Employment Type                                                                                                                           596 non-null    object \n",
      " 69  Classification.     Classification                                                                                                                             596 non-null    object \n",
      " 70  LengthofServiceOverall. Overall Length of Service at Institute (in years)                                                                                      596 non-null    object \n",
      " 71  LengthofServiceCurrent. Length of Service at current workplace (in years)                                                                                      596 non-null    object \n",
      "dtypes: float64(1), int64(1), object(70)\n",
      "memory usage: 395.0+ KB\n"
     ]
    }
   ],
   "source": [
    "tafe_all.info()"
   ]
  },
  {
   "cell_type": "code",
   "execution_count": 61,
   "id": "35eca06c",
   "metadata": {},
   "outputs": [],
   "source": [
    "tafe_exit = tafe_all['CESSATION YEAR']"
   ]
  },
  {
   "cell_type": "code",
   "execution_count": 63,
   "id": "bd27dda5",
   "metadata": {},
   "outputs": [
    {
     "data": {
      "text/plain": [
       "2011.0    268\n",
       "2012.0    235\n",
       "2010.0    103\n",
       "2013.0     85\n",
       "NaN         7\n",
       "2009.0      4\n",
       "Name: CESSATION YEAR, dtype: int64"
      ]
     },
     "execution_count": 63,
     "metadata": {},
     "output_type": "execute_result"
    }
   ],
   "source": [
    "tafe_exit.value_counts(dropna=False)"
   ]
  },
  {
   "cell_type": "code",
   "execution_count": 64,
   "id": "f972dc73",
   "metadata": {},
   "outputs": [],
   "source": [
    "years = tafe_exit[tafe_exit >= 2009]\n",
    "\n",
    "years_mean = years.mean()"
   ]
  },
  {
   "cell_type": "code",
   "execution_count": 72,
   "id": "9c79d17e",
   "metadata": {},
   "outputs": [
    {
     "data": {
      "text/plain": [
       "2011.4230215827338"
      ]
     },
     "execution_count": 72,
     "metadata": {},
     "output_type": "execute_result"
    }
   ],
   "source": [
    "years_mean"
   ]
  },
  {
   "cell_type": "code",
   "execution_count": 73,
   "id": "37ba3a26",
   "metadata": {},
   "outputs": [],
   "source": [
    "years = years.fillna(0)"
   ]
  },
  {
   "cell_type": "code",
   "execution_count": 74,
   "id": "5f951551",
   "metadata": {},
   "outputs": [],
   "source": [
    "tafe_exit = tafe_exit.replace(0,2011)"
   ]
  },
  {
   "cell_type": "code",
   "execution_count": 76,
   "id": "effb9188",
   "metadata": {},
   "outputs": [
    {
     "data": {
      "text/plain": [
       "2011.0    268\n",
       "2012.0    235\n",
       "2010.0    103\n",
       "2013.0     85\n",
       "2009.0      4\n",
       "Name: CESSATION YEAR, dtype: int64"
      ]
     },
     "execution_count": 76,
     "metadata": {},
     "output_type": "execute_result"
    }
   ],
   "source": [
    "years.value_counts(dropna=False)"
   ]
  },
  {
   "cell_type": "code",
   "execution_count": 77,
   "id": "4ef26170",
   "metadata": {},
   "outputs": [],
   "source": [
    "tafe_clean['exit_year'] = years"
   ]
  },
  {
   "cell_type": "code",
   "execution_count": 87,
   "id": "3b6dfae3",
   "metadata": {},
   "outputs": [
    {
     "data": {
      "text/plain": [
       "2011.0    268\n",
       "2012.0    235\n",
       "2010.0    103\n",
       "2013.0     85\n",
       "NaN         7\n",
       "2009.0      4\n",
       "Name: exit_year, dtype: int64"
      ]
     },
     "execution_count": 87,
     "metadata": {},
     "output_type": "execute_result"
    }
   ],
   "source": [
    "tafe_clean['exit_year'].value_counts(dropna=False)"
   ]
  },
  {
   "cell_type": "code",
   "execution_count": 80,
   "id": "733d2faf",
   "metadata": {},
   "outputs": [],
   "source": [
    "#tafe_clean = tafe_clean.drop(tafe_clean.columns[0], axis=1)"
   ]
  },
  {
   "cell_type": "code",
   "execution_count": 81,
   "id": "6523ec05",
   "metadata": {},
   "outputs": [],
   "source": [
    "#tafe_clean['college'] = 'TAFE'"
   ]
  },
  {
   "cell_type": "code",
   "execution_count": 89,
   "id": "b5f3564f",
   "metadata": {},
   "outputs": [],
   "source": [
    "tafe_clean['exit_year'] = tafe_clean['exit_year'].fillna(2011)"
   ]
  },
  {
   "cell_type": "code",
   "execution_count": 91,
   "id": "d01ac040",
   "metadata": {},
   "outputs": [
    {
     "data": {
      "text/plain": [
       "2011.0    275\n",
       "2012.0    235\n",
       "2010.0    103\n",
       "2013.0     85\n",
       "2009.0      4\n",
       "Name: exit_year, dtype: int64"
      ]
     },
     "execution_count": 91,
     "metadata": {},
     "output_type": "execute_result"
    }
   ],
   "source": [
    "tafe_clean['exit_year'].value_counts(dropna=False)"
   ]
  },
  {
   "cell_type": "code",
   "execution_count": 92,
   "id": "fe231331",
   "metadata": {},
   "outputs": [],
   "source": [
    "tafe_clean['exit_year'] = tafe_clean['exit_year'].astype('int64')"
   ]
  },
  {
   "cell_type": "code",
   "execution_count": 93,
   "id": "53e1f844",
   "metadata": {},
   "outputs": [
    {
     "name": "stdout",
     "output_type": "stream",
     "text": [
      "<class 'pandas.core.frame.DataFrame'>\n",
      "RangeIndex: 702 entries, 0 to 701\n",
      "Data columns (total 18 columns):\n",
      " #   Column                     Non-Null Count  Dtype \n",
      "---  ------                     --------------  ----- \n",
      " 0   cf_to_public_sector        702 non-null    bool  \n",
      " 1   cf_to_private_sector       702 non-null    bool  \n",
      " 2   cf_health                  702 non-null    bool  \n",
      " 3   cf_family                  702 non-null    bool  \n",
      " 4   cf_dept_dissatisfaction    702 non-null    bool  \n",
      " 5   cf_job_dissatisfaction     702 non-null    bool  \n",
      " 6   cf_interpersonal_conflict  702 non-null    bool  \n",
      " 7   cf_other                   702 non-null    bool  \n",
      " 8   institute_recognition      702 non-null    bool  \n",
      " 9   institute_job_security     702 non-null    bool  \n",
      " 10  dept_workload              702 non-null    bool  \n",
      " 11  dept_work_life_balance     702 non-null    bool  \n",
      " 12  dept_work_environment      702 non-null    bool  \n",
      " 13  gender                     702 non-null    object\n",
      " 14  age                        596 non-null    object\n",
      " 15  service_years              596 non-null    object\n",
      " 16  exit_year                  702 non-null    int64 \n",
      " 17  college                    702 non-null    object\n",
      "dtypes: bool(13), int64(1), object(4)\n",
      "memory usage: 36.5+ KB\n"
     ]
    }
   ],
   "source": [
    "tafe_clean.info()"
   ]
  },
  {
   "cell_type": "code",
   "execution_count": 94,
   "id": "0e15fad6",
   "metadata": {},
   "outputs": [],
   "source": [
    "tafe_clean.to_csv('tafe_clean_13.1146')"
   ]
  },
  {
   "cell_type": "code",
   "execution_count": null,
   "id": "c584d0c0",
   "metadata": {},
   "outputs": [],
   "source": []
  }
 ],
 "metadata": {
  "kernelspec": {
   "display_name": "jpython",
   "language": "python",
   "name": "jpython"
  },
  "language_info": {
   "codemirror_mode": {
    "name": "ipython",
    "version": 3
   },
   "file_extension": ".py",
   "mimetype": "text/x-python",
   "name": "python",
   "nbconvert_exporter": "python",
   "pygments_lexer": "ipython3",
   "version": "3.9.2"
  }
 },
 "nbformat": 4,
 "nbformat_minor": 5
}
