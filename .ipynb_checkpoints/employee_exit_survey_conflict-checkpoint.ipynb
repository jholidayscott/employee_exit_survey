{
 "cells": [
  {
   "cell_type": "markdown",
   "id": "6a065ba3",
   "metadata": {},
   "source": [
    "# Employee Exit Survey\n",
    "\n",
    "## The Client\n",
    "TAFE and DETE are vocational colleges in Australia. They have been doing exit surveys for a while and have now gathered a dataset of about 1600 results which they would like analysed. The client is focussed on internal contributing factors.\n",
    "\n",
    "## Aims of Analysis: Dissatisfaction\n",
    "The client has asked for a report to help them understand the results of their recent exit survey.\n",
    "\n",
    "They wish to understand the profile of employees who cite dissatisfaction as a contributing factor to their exit from the organisation.\n",
    "\n",
    "Leadership wants to understand where to target retention improvement strategies."
   ]
  },
  {
   "cell_type": "markdown",
   "id": "80698a73",
   "metadata": {},
   "source": [
    "# Visualisations"
   ]
  },
  {
   "cell_type": "markdown",
   "id": "b0d11d0c",
   "metadata": {},
   "source": [
    "## Notebooks and Reports\n",
    "The following notebooks and documents are part of this anaylsis:\n",
    "\n",
    "### Jupyter Notebook Filename: Summary\n",
    "- [employee_exit_survey_cleaning_1.csv](https://github.com/jholidayscott/employee_exit_survey/blob/main/employee_exit_survey_cleaning_1.ipynb): Columns drops, missing data, renaming columns, tidying data for consistency\n",
    "- [employee_exit_survey_cleaning_2.csv](https://github.com/jholidayscott/employee_exit_survey/blob/main/employee_exit_survey_cleaning_2.ipynb): Adding calculated columns, adding category columns, further drops\n",
    "- [employee_exit_survey_correlation.csv](https://github.com/jholidayscott/employee_exit_survey/blob/main/employee_exit_survey_correlation.ipynb): Investigating correlations to guide analysis\n",
    "- [employee_exit_survey_gender.csv](https://github.com/jholidayscott/employee_exit_survey/blob/main/employee_exit_survey_gender.ipynb): Aggregation by pivot_table of gender subsets, visualisations\n",
    "- [employee_exit_survey_age.csv](https://github.com/jholidayscott/employee_exit_survey/blob/main/employee_exit_survey_age.ipynb): Aggregation by pivot_table of gender subsets, visualisations\n",
    "- [employee_exit_survey_conflict.csv](https://github.com/jholidayscott/employee_exit_survey/blob/main/employee_exit_survey_conflict.ipynb):  Aggregation by pivot_table of gender subsets, visualisations\n"
   ]
  }
 ],
 "metadata": {
  "kernelspec": {
   "display_name": "jpython",
   "language": "python",
   "name": "jpython"
  },
  "language_info": {
   "codemirror_mode": {
    "name": "ipython",
    "version": 3
   },
   "file_extension": ".py",
   "mimetype": "text/x-python",
   "name": "python",
   "nbconvert_exporter": "python",
   "pygments_lexer": "ipython3",
   "version": "3.9.2"
  }
 },
 "nbformat": 4,
 "nbformat_minor": 5
}
