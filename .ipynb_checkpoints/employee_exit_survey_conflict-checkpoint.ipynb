{
 "cells": [
  {
   "cell_type": "markdown",
   "id": "c3ab4f91",
   "metadata": {},
   "source": [
    "# Employee Exit Survey\n",
    "\n",
    "## The Client\n",
    "TAFE and DETE are vocational colleges in Australia. They have been doing exit surveys for a while and have now gathered a dataset of about 1600 results which they would like analysed. The client is focussed on internal contributing factors.\n",
    "\n",
    "## Aims of Analysis: Dissatisfaction\n",
    "The client has asked for a report to help them understand the results of their recent exit survey.\n",
    "\n",
    "They wish to understand the profile of employees who cite dissatisfaction as a contributing factor to their exit from the organisation.\n",
    "\n",
    "Leadership wants to understand where to target retention improvement strategies."
   ]
  },
  {
   "cell_type": "markdown",
   "id": "13556a09",
   "metadata": {},
   "source": [
    "# Visualisations"
   ]
  },
  {
   "cell_type": "markdown",
   "id": "5e6b0f7e",
   "metadata": {},
   "source": [
    "## Notebooks and Reports\n",
    "The following notebooks and documents are part of this anaylsis:\n",
    "\n",
    "### Jupyter Notebook Filename: Summary\n",
    "- [employee_exit_survey_cleaning_1.ibynb](https://github.com/jholidayscott/employee_exit_survey/blob/main/employee_exit_survey_cleaning_1.ipynb): Columns drops, missing data, renaming columns, tidying data for consistency\n",
    "- [employee_exit_survey_cleaning_2.ibynb](https://github.com/jholidayscott/employee_exit_survey/blob/main/employee_exit_survey_cleaning_2.ipynb): Adding calculated columns, adding category columns, further drops\n",
    "- [employee_exit_survey_correlation.ibynb](https://github.com/jholidayscott/employee_exit_survey/blob/main/employee_exit_survey_correlation.ipynb): Investigating correlations to guide analysis\n",
    "- [employee_exit_survey_gender.ibynb](https://github.com/jholidayscott/employee_exit_survey/blob/main/employee_exit_survey_gender.ipynb): Aggregation by pivot_table of gender subsets, visualisations\n",
    "- [employee_exit_survey_age.ibynb](https://github.com/jholidayscott/employee_exit_survey/blob/main/employee_exit_survey_age.ipynb): Aggregation by pivot_table of age subsets, visualisations\n",
    "- [employee_exit_survey_conflict.ibynb](https://github.com/jholidayscott/employee_exit_survey/blob/main/employee_exit_survey_conflict.ipynb): Exploration of conflict as a contributory factor"
   ]
  },
  {
   "cell_type": "code",
   "execution_count": 1,
   "id": "99377405-1f2f-43a2-b3bd-268aee5d5f4e",
   "metadata": {},
   "outputs": [],
   "source": [
    "import pandas as pd\n",
    "import numpy as np\n",
    "import matplotlib.pyplot as plt\n",
    "import matplotlib.style as stye"
   ]
  },
  {
   "cell_type": "code",
   "execution_count": 2,
   "id": "7adf1600-1799-4316-86fd-dd83226fcd0c",
   "metadata": {},
   "outputs": [],
   "source": [
    "survey = pd.read_csv('employee_exit_survey_clean_final.csv')"
   ]
  },
  {
   "cell_type": "code",
   "execution_count": 3,
   "id": "37f63a1f-9cb3-4e8b-a7cf-0c5df3959374",
   "metadata": {},
   "outputs": [],
   "source": [
    "# Slice out the columns we want going forward\n",
    "keep_cols = [\n",
    "    'cf_dept_or_job_dissatisfaction',\n",
    "    'cf_interpersonal_conflict',\n",
    "    'gender',\n",
    "    'age',\n",
    "    'service_years',\n",
    "    'college',\n",
    "]\n",
    "\n",
    "survey = survey[keep_cols]"
   ]
  },
  {
   "cell_type": "code",
   "execution_count": 4,
   "id": "e8148531-5502-4d7d-98f8-809e21fb0ef3",
   "metadata": {},
   "outputs": [
    {
     "name": "stdout",
     "output_type": "stream",
     "text": [
      "<class 'pandas.core.frame.DataFrame'>\n",
      "RangeIndex: 1524 entries, 0 to 1523\n",
      "Data columns (total 6 columns):\n",
      " #   Column                          Non-Null Count  Dtype \n",
      "---  ------                          --------------  ----- \n",
      " 0   cf_dept_or_job_dissatisfaction  1524 non-null   bool  \n",
      " 1   cf_interpersonal_conflict       1524 non-null   bool  \n",
      " 2   gender                          1524 non-null   object\n",
      " 3   age                             1407 non-null   object\n",
      " 4   service_years                   1293 non-null   object\n",
      " 5   college                         1524 non-null   object\n",
      "dtypes: bool(2), object(4)\n",
      "memory usage: 50.7+ KB\n"
     ]
    }
   ],
   "source": [
    "survey.info()"
   ]
  },
  {
   "cell_type": "code",
   "execution_count": 6,
   "id": "964fd30d-d03e-478a-a6b3-1679bc77c30b",
   "metadata": {},
   "outputs": [
    {
     "name": "stdout",
     "output_type": "stream",
     "text": [
      "        cf_interpersonal_conflict\n",
      "gender                           \n",
      "Female                         42\n",
      "Male                           19\n"
     ]
    },
    {
     "data": {
      "text/plain": [
       "Female    1045\n",
       "Male       479\n",
       "Name: gender, dtype: int64"
      ]
     },
     "execution_count": 6,
     "metadata": {},
     "output_type": "execute_result"
    }
   ],
   "source": [
    "pv_gender = survey.pivot_table(values='cf_interpersonal_conflict', index='gender', aggfunc=np.sum, margins=False)\n",
    "print(pv_gender)\n",
    "survey['gender'].value_counts()"
   ]
  },
  {
   "cell_type": "markdown",
   "id": "cad14047-76bd-4251-9dce-b034bce5de84",
   "metadata": {},
   "source": [
    "No connection between interpersonal conflict and gender."
   ]
  },
  {
   "cell_type": "code",
   "execution_count": 7,
   "id": "7e814ee6-64ef-4cf0-bbaa-f475185950d3",
   "metadata": {},
   "outputs": [
    {
     "name": "stdout",
     "output_type": "stream",
     "text": [
      "False    1463\n",
      "True       61\n",
      "Name: cf_interpersonal_conflict, dtype: int64\n",
      "       cf_interpersonal_conflict\n",
      "age                             \n",
      "18-20                          1\n",
      "21-25                          2\n",
      "26-30                          4\n",
      "31-35                          2\n",
      "36-40                          7\n",
      "41-45                          3\n",
      "46-50                          8\n",
      "51-55                         13\n",
      "56+                           14\n"
     ]
    },
    {
     "data": {
      "text/plain": [
       "18-20     17\n",
       "21-25     84\n",
       "26-30    107\n",
       "31-35     91\n",
       "36-40    102\n",
       "41-45    141\n",
       "46-50    122\n",
       "51-55    185\n",
       "56+      558\n",
       "Name: age, dtype: int64"
      ]
     },
     "execution_count": 7,
     "metadata": {},
     "output_type": "execute_result"
    }
   ],
   "source": [
    "print(survey['cf_interpersonal_conflict'].value_counts())\n",
    "pv_age = survey.pivot_table(values='cf_interpersonal_conflict', index='age', aggfunc=np.sum, margins=False)\n",
    "print(pv_age)\n",
    "survey['age'].value_counts().sort_index(ascending=True)"
   ]
  },
  {
   "cell_type": "code",
   "execution_count": 8,
   "id": "73bc1beb-1b81-410f-8162-ec7f95cbb2d3",
   "metadata": {},
   "outputs": [],
   "source": [
    "pv_age['all'] = survey['age'].value_counts().sort_index(ascending=True)"
   ]
  },
  {
   "cell_type": "code",
   "execution_count": 9,
   "id": "2501e294-2bca-4b87-a3d8-2d88e26db032",
   "metadata": {},
   "outputs": [],
   "source": [
    "pv_age.rename(columns={'cf_interpersonal_conflict':'conflict'}, inplace=True)"
   ]
  },
  {
   "cell_type": "code",
   "execution_count": 10,
   "id": "e12039ec-794c-49ed-a313-ffd8f46d2e00",
   "metadata": {},
   "outputs": [],
   "source": [
    "pv_age['perc'] = round(pv_age['conflict']/pv_age['all']*100)"
   ]
  },
  {
   "cell_type": "code",
   "execution_count": 11,
   "id": "fabacccd-6e8b-4e14-b632-f2066c631bc9",
   "metadata": {},
   "outputs": [
    {
     "data": {
      "text/html": [
       "<div>\n",
       "<style scoped>\n",
       "    .dataframe tbody tr th:only-of-type {\n",
       "        vertical-align: middle;\n",
       "    }\n",
       "\n",
       "    .dataframe tbody tr th {\n",
       "        vertical-align: top;\n",
       "    }\n",
       "\n",
       "    .dataframe thead th {\n",
       "        text-align: right;\n",
       "    }\n",
       "</style>\n",
       "<table border=\"1\" class=\"dataframe\">\n",
       "  <thead>\n",
       "    <tr style=\"text-align: right;\">\n",
       "      <th></th>\n",
       "      <th>conflict</th>\n",
       "      <th>all</th>\n",
       "      <th>perc</th>\n",
       "    </tr>\n",
       "    <tr>\n",
       "      <th>age</th>\n",
       "      <th></th>\n",
       "      <th></th>\n",
       "      <th></th>\n",
       "    </tr>\n",
       "  </thead>\n",
       "  <tbody>\n",
       "    <tr>\n",
       "      <th>18-20</th>\n",
       "      <td>1</td>\n",
       "      <td>17</td>\n",
       "      <td>6.0</td>\n",
       "    </tr>\n",
       "    <tr>\n",
       "      <th>21-25</th>\n",
       "      <td>2</td>\n",
       "      <td>84</td>\n",
       "      <td>2.0</td>\n",
       "    </tr>\n",
       "    <tr>\n",
       "      <th>26-30</th>\n",
       "      <td>4</td>\n",
       "      <td>107</td>\n",
       "      <td>4.0</td>\n",
       "    </tr>\n",
       "    <tr>\n",
       "      <th>31-35</th>\n",
       "      <td>2</td>\n",
       "      <td>91</td>\n",
       "      <td>2.0</td>\n",
       "    </tr>\n",
       "    <tr>\n",
       "      <th>36-40</th>\n",
       "      <td>7</td>\n",
       "      <td>102</td>\n",
       "      <td>7.0</td>\n",
       "    </tr>\n",
       "    <tr>\n",
       "      <th>41-45</th>\n",
       "      <td>3</td>\n",
       "      <td>141</td>\n",
       "      <td>2.0</td>\n",
       "    </tr>\n",
       "    <tr>\n",
       "      <th>46-50</th>\n",
       "      <td>8</td>\n",
       "      <td>122</td>\n",
       "      <td>7.0</td>\n",
       "    </tr>\n",
       "    <tr>\n",
       "      <th>51-55</th>\n",
       "      <td>13</td>\n",
       "      <td>185</td>\n",
       "      <td>7.0</td>\n",
       "    </tr>\n",
       "    <tr>\n",
       "      <th>56+</th>\n",
       "      <td>14</td>\n",
       "      <td>558</td>\n",
       "      <td>3.0</td>\n",
       "    </tr>\n",
       "  </tbody>\n",
       "</table>\n",
       "</div>"
      ],
      "text/plain": [
       "       conflict  all  perc\n",
       "age                       \n",
       "18-20         1   17   6.0\n",
       "21-25         2   84   2.0\n",
       "26-30         4  107   4.0\n",
       "31-35         2   91   2.0\n",
       "36-40         7  102   7.0\n",
       "41-45         3  141   2.0\n",
       "46-50         8  122   7.0\n",
       "51-55        13  185   7.0\n",
       "56+          14  558   3.0"
      ]
     },
     "execution_count": 11,
     "metadata": {},
     "output_type": "execute_result"
    }
   ],
   "source": [
    "pv_age"
   ]
  },
  {
   "cell_type": "markdown",
   "id": "3a1a3605-3c8b-4520-bf5e-74f94c0dd419",
   "metadata": {},
   "source": [
    "Small values, so conclusions have to be cautious...\n",
    "\n",
    "But it does seem like some age groups experience high amounts of interpersonal confict compared to others - over triple.\n",
    "\n",
    "Could be worth cross-referencing conflict to age and dissatisfaction analysis.\n",
    "\n"
   ]
  },
  {
   "cell_type": "code",
   "execution_count": 12,
   "id": "99815fcf-a9bc-459a-8855-a4a7b7919105",
   "metadata": {},
   "outputs": [
    {
     "data": {
      "text/html": [
       "<div>\n",
       "<style scoped>\n",
       "    .dataframe tbody tr th:only-of-type {\n",
       "        vertical-align: middle;\n",
       "    }\n",
       "\n",
       "    .dataframe tbody tr th {\n",
       "        vertical-align: top;\n",
       "    }\n",
       "\n",
       "    .dataframe thead th {\n",
       "        text-align: right;\n",
       "    }\n",
       "</style>\n",
       "<table border=\"1\" class=\"dataframe\">\n",
       "  <thead>\n",
       "    <tr style=\"text-align: right;\">\n",
       "      <th></th>\n",
       "      <th>cf_interpersonal_conflict</th>\n",
       "    </tr>\n",
       "    <tr>\n",
       "      <th>service_years</th>\n",
       "      <th></th>\n",
       "    </tr>\n",
       "  </thead>\n",
       "  <tbody>\n",
       "    <tr>\n",
       "      <th>1 to 2 Years</th>\n",
       "      <td>7</td>\n",
       "    </tr>\n",
       "    <tr>\n",
       "      <th>11 to 20 Years</th>\n",
       "      <td>7</td>\n",
       "    </tr>\n",
       "    <tr>\n",
       "      <th>20 Plus Years</th>\n",
       "      <td>9</td>\n",
       "    </tr>\n",
       "    <tr>\n",
       "      <th>3 to 4 Years</th>\n",
       "      <td>10</td>\n",
       "    </tr>\n",
       "    <tr>\n",
       "      <th>5 to 6 Years</th>\n",
       "      <td>6</td>\n",
       "    </tr>\n",
       "    <tr>\n",
       "      <th>7 to 10 Years</th>\n",
       "      <td>5</td>\n",
       "    </tr>\n",
       "    <tr>\n",
       "      <th>Under 1 Year</th>\n",
       "      <td>8</td>\n",
       "    </tr>\n",
       "  </tbody>\n",
       "</table>\n",
       "</div>"
      ],
      "text/plain": [
       "                cf_interpersonal_conflict\n",
       "service_years                            \n",
       "1 to 2 Years                            7\n",
       "11 to 20 Years                          7\n",
       "20 Plus Years                           9\n",
       "3 to 4 Years                           10\n",
       "5 to 6 Years                            6\n",
       "7 to 10 Years                           5\n",
       "Under 1 Year                            8"
      ]
     },
     "execution_count": 12,
     "metadata": {},
     "output_type": "execute_result"
    }
   ],
   "source": [
    "pv_service_conflict = survey.pivot_table(values='cf_interpersonal_conflict', index='service_years', aggfunc=np.sum)\n",
    "pv_service_conflict"
   ]
  },
  {
   "cell_type": "code",
   "execution_count": 13,
   "id": "2216aef8-1ada-4b74-b524-e42d26ee18a6",
   "metadata": {},
   "outputs": [
    {
     "data": {
      "text/plain": [
       "11 to 20 Years    234\n",
       "20 Plus Years     216\n",
       "Under 1 Year      213\n",
       "1 to 2 Years      212\n",
       "3 to 4 Years      185\n",
       "7 to 10 Years     123\n",
       "5 to 6 Years      110\n",
       "Name: service_years, dtype: int64"
      ]
     },
     "execution_count": 13,
     "metadata": {},
     "output_type": "execute_result"
    }
   ],
   "source": [
    "survey['service_years'].value_counts()"
   ]
  },
  {
   "cell_type": "code",
   "execution_count": 14,
   "id": "ebc38c20-f236-4688-bd8b-35b81ae8cadb",
   "metadata": {},
   "outputs": [
    {
     "data": {
      "text/html": [
       "<div>\n",
       "<style scoped>\n",
       "    .dataframe tbody tr th:only-of-type {\n",
       "        vertical-align: middle;\n",
       "    }\n",
       "\n",
       "    .dataframe tbody tr th {\n",
       "        vertical-align: top;\n",
       "    }\n",
       "\n",
       "    .dataframe thead th {\n",
       "        text-align: right;\n",
       "    }\n",
       "</style>\n",
       "<table border=\"1\" class=\"dataframe\">\n",
       "  <thead>\n",
       "    <tr style=\"text-align: right;\">\n",
       "      <th></th>\n",
       "      <th>cf_interpersonal_conflict</th>\n",
       "      <th>all</th>\n",
       "      <th>perc_conf</th>\n",
       "    </tr>\n",
       "    <tr>\n",
       "      <th>service_years</th>\n",
       "      <th></th>\n",
       "      <th></th>\n",
       "      <th></th>\n",
       "    </tr>\n",
       "  </thead>\n",
       "  <tbody>\n",
       "    <tr>\n",
       "      <th>1 to 2 Years</th>\n",
       "      <td>7</td>\n",
       "      <td>212</td>\n",
       "      <td>3.0</td>\n",
       "    </tr>\n",
       "    <tr>\n",
       "      <th>11 to 20 Years</th>\n",
       "      <td>7</td>\n",
       "      <td>234</td>\n",
       "      <td>3.0</td>\n",
       "    </tr>\n",
       "    <tr>\n",
       "      <th>20 Plus Years</th>\n",
       "      <td>9</td>\n",
       "      <td>216</td>\n",
       "      <td>4.0</td>\n",
       "    </tr>\n",
       "    <tr>\n",
       "      <th>3 to 4 Years</th>\n",
       "      <td>10</td>\n",
       "      <td>185</td>\n",
       "      <td>5.0</td>\n",
       "    </tr>\n",
       "    <tr>\n",
       "      <th>5 to 6 Years</th>\n",
       "      <td>6</td>\n",
       "      <td>110</td>\n",
       "      <td>5.0</td>\n",
       "    </tr>\n",
       "    <tr>\n",
       "      <th>7 to 10 Years</th>\n",
       "      <td>5</td>\n",
       "      <td>123</td>\n",
       "      <td>4.0</td>\n",
       "    </tr>\n",
       "    <tr>\n",
       "      <th>Under 1 Year</th>\n",
       "      <td>8</td>\n",
       "      <td>213</td>\n",
       "      <td>4.0</td>\n",
       "    </tr>\n",
       "  </tbody>\n",
       "</table>\n",
       "</div>"
      ],
      "text/plain": [
       "                cf_interpersonal_conflict  all  perc_conf\n",
       "service_years                                            \n",
       "1 to 2 Years                            7  212        3.0\n",
       "11 to 20 Years                          7  234        3.0\n",
       "20 Plus Years                           9  216        4.0\n",
       "3 to 4 Years                           10  185        5.0\n",
       "5 to 6 Years                            6  110        5.0\n",
       "7 to 10 Years                           5  123        4.0\n",
       "Under 1 Year                            8  213        4.0"
      ]
     },
     "execution_count": 14,
     "metadata": {},
     "output_type": "execute_result"
    }
   ],
   "source": [
    "pv_service_conflict['all'] = survey['service_years'].value_counts()\n",
    "pv_service_conflict['perc_conf'] = round(pv_service_conflict['cf_interpersonal_conflict']/pv_service_conflict['all']*100)\n",
    "pv_service_conflict"
   ]
  },
  {
   "cell_type": "code",
   "execution_count": 15,
   "id": "3cec9590-79be-416c-934e-71b0cf785323",
   "metadata": {},
   "outputs": [
    {
     "data": {
      "text/html": [
       "<div>\n",
       "<style scoped>\n",
       "    .dataframe tbody tr th:only-of-type {\n",
       "        vertical-align: middle;\n",
       "    }\n",
       "\n",
       "    .dataframe tbody tr th {\n",
       "        vertical-align: top;\n",
       "    }\n",
       "\n",
       "    .dataframe thead th {\n",
       "        text-align: right;\n",
       "    }\n",
       "</style>\n",
       "<table border=\"1\" class=\"dataframe\">\n",
       "  <thead>\n",
       "    <tr style=\"text-align: right;\">\n",
       "      <th></th>\n",
       "      <th>cf_dept_or_job_dissatisfaction</th>\n",
       "    </tr>\n",
       "    <tr>\n",
       "      <th>service_years</th>\n",
       "      <th></th>\n",
       "    </tr>\n",
       "  </thead>\n",
       "  <tbody>\n",
       "    <tr>\n",
       "      <th>1 to 2 Years</th>\n",
       "      <td>35</td>\n",
       "    </tr>\n",
       "    <tr>\n",
       "      <th>11 to 20 Years</th>\n",
       "      <td>28</td>\n",
       "    </tr>\n",
       "    <tr>\n",
       "      <th>20 Plus Years</th>\n",
       "      <td>39</td>\n",
       "    </tr>\n",
       "    <tr>\n",
       "      <th>3 to 4 Years</th>\n",
       "      <td>37</td>\n",
       "    </tr>\n",
       "    <tr>\n",
       "      <th>5 to 6 Years</th>\n",
       "      <td>20</td>\n",
       "    </tr>\n",
       "    <tr>\n",
       "      <th>7 to 10 Years</th>\n",
       "      <td>23</td>\n",
       "    </tr>\n",
       "    <tr>\n",
       "      <th>Under 1 Year</th>\n",
       "      <td>32</td>\n",
       "    </tr>\n",
       "  </tbody>\n",
       "</table>\n",
       "</div>"
      ],
      "text/plain": [
       "                cf_dept_or_job_dissatisfaction\n",
       "service_years                                 \n",
       "1 to 2 Years                                35\n",
       "11 to 20 Years                              28\n",
       "20 Plus Years                               39\n",
       "3 to 4 Years                                37\n",
       "5 to 6 Years                                20\n",
       "7 to 10 Years                               23\n",
       "Under 1 Year                                32"
      ]
     },
     "execution_count": 15,
     "metadata": {},
     "output_type": "execute_result"
    }
   ],
   "source": [
    "pv_service_diss = survey.pivot_table(values='cf_dept_or_job_dissatisfaction', index='service_years', aggfunc=np.sum)\n",
    "pv_service_diss"
   ]
  },
  {
   "cell_type": "code",
   "execution_count": 16,
   "id": "3771ac6c-6cdd-45b7-af47-cea25131240d",
   "metadata": {},
   "outputs": [
    {
     "data": {
      "text/html": [
       "<div>\n",
       "<style scoped>\n",
       "    .dataframe tbody tr th:only-of-type {\n",
       "        vertical-align: middle;\n",
       "    }\n",
       "\n",
       "    .dataframe tbody tr th {\n",
       "        vertical-align: top;\n",
       "    }\n",
       "\n",
       "    .dataframe thead th {\n",
       "        text-align: right;\n",
       "    }\n",
       "</style>\n",
       "<table border=\"1\" class=\"dataframe\">\n",
       "  <thead>\n",
       "    <tr style=\"text-align: right;\">\n",
       "      <th></th>\n",
       "      <th>cf_dept_or_job_dissatisfaction</th>\n",
       "      <th>all</th>\n",
       "      <th>perc_diss</th>\n",
       "    </tr>\n",
       "    <tr>\n",
       "      <th>service_years</th>\n",
       "      <th></th>\n",
       "      <th></th>\n",
       "      <th></th>\n",
       "    </tr>\n",
       "  </thead>\n",
       "  <tbody>\n",
       "    <tr>\n",
       "      <th>1 to 2 Years</th>\n",
       "      <td>35</td>\n",
       "      <td>212</td>\n",
       "      <td>17.0</td>\n",
       "    </tr>\n",
       "    <tr>\n",
       "      <th>11 to 20 Years</th>\n",
       "      <td>28</td>\n",
       "      <td>234</td>\n",
       "      <td>12.0</td>\n",
       "    </tr>\n",
       "    <tr>\n",
       "      <th>20 Plus Years</th>\n",
       "      <td>39</td>\n",
       "      <td>216</td>\n",
       "      <td>18.0</td>\n",
       "    </tr>\n",
       "    <tr>\n",
       "      <th>3 to 4 Years</th>\n",
       "      <td>37</td>\n",
       "      <td>185</td>\n",
       "      <td>20.0</td>\n",
       "    </tr>\n",
       "    <tr>\n",
       "      <th>5 to 6 Years</th>\n",
       "      <td>20</td>\n",
       "      <td>110</td>\n",
       "      <td>18.0</td>\n",
       "    </tr>\n",
       "    <tr>\n",
       "      <th>7 to 10 Years</th>\n",
       "      <td>23</td>\n",
       "      <td>123</td>\n",
       "      <td>19.0</td>\n",
       "    </tr>\n",
       "    <tr>\n",
       "      <th>Under 1 Year</th>\n",
       "      <td>32</td>\n",
       "      <td>213</td>\n",
       "      <td>15.0</td>\n",
       "    </tr>\n",
       "  </tbody>\n",
       "</table>\n",
       "</div>"
      ],
      "text/plain": [
       "                cf_dept_or_job_dissatisfaction  all  perc_diss\n",
       "service_years                                                 \n",
       "1 to 2 Years                                35  212       17.0\n",
       "11 to 20 Years                              28  234       12.0\n",
       "20 Plus Years                               39  216       18.0\n",
       "3 to 4 Years                                37  185       20.0\n",
       "5 to 6 Years                                20  110       18.0\n",
       "7 to 10 Years                               23  123       19.0\n",
       "Under 1 Year                                32  213       15.0"
      ]
     },
     "execution_count": 16,
     "metadata": {},
     "output_type": "execute_result"
    }
   ],
   "source": [
    "pv_service_diss['all'] = survey['service_years'].value_counts()\n",
    "pv_service_diss['perc_diss'] = round(pv_service_diss['cf_dept_or_job_dissatisfaction']/pv_service_diss['all']*100)\n",
    "pv_service_diss"
   ]
  },
  {
   "cell_type": "code",
   "execution_count": 19,
   "id": "7bda17f5-994a-4764-a484-f0df9a359c3d",
   "metadata": {},
   "outputs": [],
   "source": [
    "pv_service_diss['perc_conf'] = pv_service_conflict['perc_conf']\n",
    "pv_service = pv_service_diss\n",
    "pv_service.drop('cf_dept_or_job_dissatisfaction', axis=1, inplace=True)"
   ]
  },
  {
   "cell_type": "code",
   "execution_count": 30,
   "id": "3edc8074-9410-43ab-b012-2123d3c0f522",
   "metadata": {},
   "outputs": [
    {
     "name": "stdout",
     "output_type": "stream",
     "text": [
      "                all  perc_diss  perc_conf\n",
      "service_years                            \n",
      "1 to 2 Years    212       17.0        3.0\n",
      "11 to 20 Years  234       12.0        3.0\n",
      "20 Plus Years   216       18.0        4.0\n",
      "3 to 4 Years    185       20.0        5.0\n",
      "5 to 6 Years    110       18.0        5.0\n",
      "7 to 10 Years   123       19.0        4.0\n",
      "Under 1 Year    213       15.0        4.0\n"
     ]
    },
    {
     "data": {
      "text/plain": [
       "<AxesSubplot:xlabel='service_years'>"
      ]
     },
     "execution_count": 30,
     "metadata": {},
     "output_type": "execute_result"
    },
    {
     "data": {
      "image/png": "[encoded data removed]",
      "text/plain": [
       "<Figure size 432x288 with 1 Axes>"
      ]
     },
     "metadata": {
      "needs_background": "light"
     },
     "output_type": "display_data"
    }
   ],
   "source": [
    "print(pv_service)\n",
    "pv_service[['perc_diss','perc_conf']].plot(rot=45)"
   ]
  },
  {
   "cell_type": "code",
   "execution_count": 31,
   "id": "2a0a38a0-c444-4be0-8965-5294ddf9f855",
   "metadata": {},
   "outputs": [
    {
     "data": {
      "text/html": [
       "<div>\n",
       "<style scoped>\n",
       "    .dataframe tbody tr th:only-of-type {\n",
       "        vertical-align: middle;\n",
       "    }\n",
       "\n",
       "    .dataframe tbody tr th {\n",
       "        vertical-align: top;\n",
       "    }\n",
       "\n",
       "    .dataframe thead th {\n",
       "        text-align: right;\n",
       "    }\n",
       "</style>\n",
       "<table border=\"1\" class=\"dataframe\">\n",
       "  <thead>\n",
       "    <tr style=\"text-align: right;\">\n",
       "      <th></th>\n",
       "      <th>all</th>\n",
       "      <th>perc_diss</th>\n",
       "      <th>perc_conf</th>\n",
       "    </tr>\n",
       "  </thead>\n",
       "  <tbody>\n",
       "    <tr>\n",
       "      <th>all</th>\n",
       "      <td>1.000000</td>\n",
       "      <td>-0.590364</td>\n",
       "      <td>-0.630406</td>\n",
       "    </tr>\n",
       "    <tr>\n",
       "      <th>perc_diss</th>\n",
       "      <td>-0.590364</td>\n",
       "      <td>1.000000</td>\n",
       "      <td>0.678401</td>\n",
       "    </tr>\n",
       "    <tr>\n",
       "      <th>perc_conf</th>\n",
       "      <td>-0.630406</td>\n",
       "      <td>0.678401</td>\n",
       "      <td>1.000000</td>\n",
       "    </tr>\n",
       "  </tbody>\n",
       "</table>\n",
       "</div>"
      ],
      "text/plain": [
       "                all  perc_diss  perc_conf\n",
       "all        1.000000  -0.590364  -0.630406\n",
       "perc_diss -0.590364   1.000000   0.678401\n",
       "perc_conf -0.630406   0.678401   1.000000"
      ]
     },
     "execution_count": 31,
     "metadata": {},
     "output_type": "execute_result"
    }
   ],
   "source": [
    "pv_service.corr()"
   ]
  },
  {
   "cell_type": "markdown",
   "id": "5c8668b2-3717-4389-9b4c-6c9148c15d7b",
   "metadata": {},
   "source": [
    "Strong correlation found between interpersonal conflict / dissatisfaction and years of service. \n",
    "\n",
    "This means that:\n",
    "- Least conflict in employees between 11 and 20 years of service.\n",
    "- Highest conflict in employees between 3 and 6 years of service.\n",
    "- Conflict creating biggest dissatisfied employee leavers is at 3 to 4 years service."
   ]
  }
 ],
 "metadata": {
  "kernelspec": {
   "display_name": "jpython",
   "language": "python",
   "name": "jpython"
  },
  "language_info": {
   "codemirror_mode": {
    "name": "ipython",
    "version": 3
   },
   "file_extension": ".py",
   "mimetype": "text/x-python",
   "name": "python",
   "nbconvert_exporter": "python",
   "pygments_lexer": "ipython3",
   "version": "3.9.1"
  }
 },
 "nbformat": 4,
 "nbformat_minor": 5
}
