{
 "cells": [
  {
   "cell_type": "markdown",
   "id": "6b4e612d",
   "metadata": {},
   "source": [
    "# Employee Exit Survey\n",
    "\n",
    "## The Client\n",
    "TAFE and DETE are vocational colleges in Australia. They have been doing exit surveys for a while and have now gathered a dataset of about 1600 results which they would like analysed. The client is focussed on internal contributing factors.\n",
    "\n",
    "## Aims of Analysis: Dissatisfaction\n",
    "The client has asked for a report to help them understand the results of their recent exit survey.\n",
    "\n",
    "They wish to understand the profile of employees who cite dissatisfaction as a contributing factor to their exit from the organisation.\n",
    "\n",
    "Leadership wants to understand where to target retention improvement strategies."
   ]
  },
  {
   "cell_type": "markdown",
   "id": "545dfe2b",
   "metadata": {},
   "source": [
    "## Conclusions: Age and Dissatisfaction\n",
    "There is a significant increase in dissatisfaction amongst older employees of both TAFE and DETE compared to young employees.\n",
    "\n",
    "Management should target retention improvement strategies at older employees."
   ]
  },
  {
   "cell_type": "markdown",
   "id": "7ff3bacf",
   "metadata": {},
   "source": [
    "## Notebooks and Reports\n",
    "The following notebooks and documents are part of this anaylsis:\n",
    "\n",
    "### Jupyter Notebook Filename: Summary\n",
    "- [employee_exit_survey_cleaning_1.ibynb](https://github.com/jholidayscott/employee_exit_survey/blob/main/employee_exit_survey_cleaning_1.ipynb): Columns drops, missing data, renaming columns, tidying data for consistency\n",
    "- [employee_exit_survey_cleaning_2.ibynb](https://github.com/jholidayscott/employee_exit_survey/blob/main/employee_exit_survey_cleaning_2.ipynb): Adding calculated columns, adding category columns, further drops\n",
    "- [employee_exit_survey_correlation.ibynb](https://github.com/jholidayscott/employee_exit_survey/blob/main/employee_exit_survey_correlation.ipynb): Investigating correlations to guide analysis\n",
    "- [employee_exit_survey_gender.ibynb](https://github.com/jholidayscott/employee_exit_survey/blob/main/employee_exit_survey_gender.ipynb): Aggregation by pivot_table of gender subsets, visualisations\n",
    "- [employee_exit_survey_age.ibynb](https://github.com/jholidayscott/employee_exit_survey/blob/main/employee_exit_survey_age.ipynb): Aggregation by pivot_table of age subsets, visualisations\n",
    "- [employee_exit_survey_conflict.ibynb](https://github.com/jholidayscott/employee_exit_survey/blob/main/employee_exit_survey_conflict.ipynb): Exploration of conflict as a contributory factor"
   ]
  },
  {
   "cell_type": "code",
   "execution_count": 1,
   "id": "7063f770",
   "metadata": {},
   "outputs": [],
   "source": [
    "import pandas as pd\n",
    "import matplotlib.pyplot as plt\n",
    "import matplotlib.style as style\n",
    "import numpy as np"
   ]
  },
  {
   "cell_type": "code",
   "execution_count": 2,
   "id": "270812e9",
   "metadata": {},
   "outputs": [],
   "source": [
    "survey = pd.read_csv('employee_exit_survey_clean_final.csv')"
   ]
  },
  {
   "cell_type": "code",
   "execution_count": 3,
   "id": "51bf42ae",
   "metadata": {},
   "outputs": [
    {
     "data": {
      "text/html": [
       "<div>\n",
       "<style scoped>\n",
       "    .dataframe tbody tr th:only-of-type {\n",
       "        vertical-align: middle;\n",
       "    }\n",
       "\n",
       "    .dataframe tbody tr th {\n",
       "        vertical-align: top;\n",
       "    }\n",
       "\n",
       "    .dataframe thead th {\n",
       "        text-align: right;\n",
       "    }\n",
       "</style>\n",
       "<table border=\"1\" class=\"dataframe\">\n",
       "  <thead>\n",
       "    <tr style=\"text-align: right;\">\n",
       "      <th></th>\n",
       "      <th>Unnamed: 0</th>\n",
       "      <th>index</th>\n",
       "      <th>cf_to_private_sector</th>\n",
       "      <th>cf_health</th>\n",
       "      <th>cf_family</th>\n",
       "      <th>cf_dept_dissatisfaction</th>\n",
       "      <th>cf_job_dissatisfaction</th>\n",
       "      <th>cf_interpersonal_conflict</th>\n",
       "      <th>cf_other</th>\n",
       "      <th>institute_recognition</th>\n",
       "      <th>institute_job_security</th>\n",
       "      <th>dept_workload</th>\n",
       "      <th>dept_work_life_balance</th>\n",
       "      <th>dept_work_environment</th>\n",
       "      <th>gender</th>\n",
       "      <th>age</th>\n",
       "      <th>service_years</th>\n",
       "      <th>exit_year</th>\n",
       "      <th>college</th>\n",
       "      <th>cf_dept_or_job_dissatisfaction</th>\n",
       "    </tr>\n",
       "  </thead>\n",
       "  <tbody>\n",
       "    <tr>\n",
       "      <th>0</th>\n",
       "      <td>0</td>\n",
       "      <td>0</td>\n",
       "      <td>False</td>\n",
       "      <td>False</td>\n",
       "      <td>False</td>\n",
       "      <td>False</td>\n",
       "      <td>False</td>\n",
       "      <td>False</td>\n",
       "      <td>False</td>\n",
       "      <td>False</td>\n",
       "      <td>False</td>\n",
       "      <td>False</td>\n",
       "      <td>False</td>\n",
       "      <td>False</td>\n",
       "      <td>Female</td>\n",
       "      <td>26–30</td>\n",
       "      <td>1 to 2 Years</td>\n",
       "      <td>2010</td>\n",
       "      <td>TAFE</td>\n",
       "      <td>False</td>\n",
       "    </tr>\n",
       "    <tr>\n",
       "      <th>1</th>\n",
       "      <td>1</td>\n",
       "      <td>1</td>\n",
       "      <td>False</td>\n",
       "      <td>False</td>\n",
       "      <td>False</td>\n",
       "      <td>False</td>\n",
       "      <td>False</td>\n",
       "      <td>False</td>\n",
       "      <td>False</td>\n",
       "      <td>True</td>\n",
       "      <td>True</td>\n",
       "      <td>True</td>\n",
       "      <td>False</td>\n",
       "      <td>True</td>\n",
       "      <td>Female</td>\n",
       "      <td>NaN</td>\n",
       "      <td>NaN</td>\n",
       "      <td>2010</td>\n",
       "      <td>TAFE</td>\n",
       "      <td>False</td>\n",
       "    </tr>\n",
       "    <tr>\n",
       "      <th>2</th>\n",
       "      <td>2</td>\n",
       "      <td>2</td>\n",
       "      <td>False</td>\n",
       "      <td>False</td>\n",
       "      <td>False</td>\n",
       "      <td>False</td>\n",
       "      <td>False</td>\n",
       "      <td>False</td>\n",
       "      <td>False</td>\n",
       "      <td>False</td>\n",
       "      <td>False</td>\n",
       "      <td>False</td>\n",
       "      <td>False</td>\n",
       "      <td>False</td>\n",
       "      <td>Female</td>\n",
       "      <td>NaN</td>\n",
       "      <td>NaN</td>\n",
       "      <td>2010</td>\n",
       "      <td>TAFE</td>\n",
       "      <td>False</td>\n",
       "    </tr>\n",
       "    <tr>\n",
       "      <th>3</th>\n",
       "      <td>3</td>\n",
       "      <td>3</td>\n",
       "      <td>False</td>\n",
       "      <td>False</td>\n",
       "      <td>False</td>\n",
       "      <td>False</td>\n",
       "      <td>False</td>\n",
       "      <td>False</td>\n",
       "      <td>False</td>\n",
       "      <td>False</td>\n",
       "      <td>False</td>\n",
       "      <td>True</td>\n",
       "      <td>True</td>\n",
       "      <td>True</td>\n",
       "      <td>Female</td>\n",
       "      <td>NaN</td>\n",
       "      <td>NaN</td>\n",
       "      <td>2010</td>\n",
       "      <td>TAFE</td>\n",
       "      <td>False</td>\n",
       "    </tr>\n",
       "    <tr>\n",
       "      <th>4</th>\n",
       "      <td>4</td>\n",
       "      <td>4</td>\n",
       "      <td>True</td>\n",
       "      <td>False</td>\n",
       "      <td>False</td>\n",
       "      <td>False</td>\n",
       "      <td>False</td>\n",
       "      <td>False</td>\n",
       "      <td>False</td>\n",
       "      <td>True</td>\n",
       "      <td>False</td>\n",
       "      <td>True</td>\n",
       "      <td>True</td>\n",
       "      <td>True</td>\n",
       "      <td>Male</td>\n",
       "      <td>41–45</td>\n",
       "      <td>3 to 4 Years</td>\n",
       "      <td>2010</td>\n",
       "      <td>TAFE</td>\n",
       "      <td>False</td>\n",
       "    </tr>\n",
       "  </tbody>\n",
       "</table>\n",
       "</div>"
      ],
      "text/plain": [
       "   Unnamed: 0  index  cf_to_private_sector  cf_health  cf_family  \\\n",
       "0           0      0                 False      False      False   \n",
       "1           1      1                 False      False      False   \n",
       "2           2      2                 False      False      False   \n",
       "3           3      3                 False      False      False   \n",
       "4           4      4                  True      False      False   \n",
       "\n",
       "   cf_dept_dissatisfaction  cf_job_dissatisfaction  cf_interpersonal_conflict  \\\n",
       "0                    False                   False                      False   \n",
       "1                    False                   False                      False   \n",
       "2                    False                   False                      False   \n",
       "3                    False                   False                      False   \n",
       "4                    False                   False                      False   \n",
       "\n",
       "   cf_other  institute_recognition  institute_job_security  dept_workload  \\\n",
       "0     False                  False                   False          False   \n",
       "1     False                   True                    True           True   \n",
       "2     False                  False                   False          False   \n",
       "3     False                  False                   False           True   \n",
       "4     False                   True                   False           True   \n",
       "\n",
       "   dept_work_life_balance  dept_work_environment  gender    age service_years  \\\n",
       "0                   False                  False  Female  26–30  1 to 2 Years   \n",
       "1                   False                   True  Female    NaN           NaN   \n",
       "2                   False                  False  Female    NaN           NaN   \n",
       "3                    True                   True  Female    NaN           NaN   \n",
       "4                    True                   True    Male  41–45  3 to 4 Years   \n",
       "\n",
       "   exit_year college  cf_dept_or_job_dissatisfaction  \n",
       "0       2010    TAFE                           False  \n",
       "1       2010    TAFE                           False  \n",
       "2       2010    TAFE                           False  \n",
       "3       2010    TAFE                           False  \n",
       "4       2010    TAFE                           False  "
      ]
     },
     "execution_count": 3,
     "metadata": {},
     "output_type": "execute_result"
    }
   ],
   "source": [
    "survey.head()"
   ]
  },
  {
   "cell_type": "markdown",
   "id": "613297b0",
   "metadata": {},
   "source": [
    "# Exploratory Charts\n",
    "From the initial exploration of correlations, there is a clear tendency for older employees to be more dissatisfied than younger ones.\n",
    "\n",
    "It would be beneficial to explore:\n",
    "- Measure the scale of increase in dissatisfaction as age increases\n",
    "- Link to length of service to see if this is a factor (note initial correlation analysis did not suggest length of servce was correlated directly to dissatisfaction)\n",
    "- Compare TAFE to DETE because there were clear differences."
   ]
  },
  {
   "cell_type": "markdown",
   "id": "f4706c94",
   "metadata": {},
   "source": [
    "## Baseline Age Charts\n",
    "These charts describe the age and dissatisfaction profiles of the two colleges."
   ]
  },
  {
   "cell_type": "code",
   "execution_count": 4,
   "id": "511936c6",
   "metadata": {},
   "outputs": [
    {
     "data": {
      "text/plain": [
       "<AxesSubplot:title={'center':'Dept and Job Dissatisfaction as a CF by Age'}, xlabel='age'>"
      ]
     },
     "execution_count": 4,
     "metadata": {},
     "output_type": "execute_result"
    },
    {
     "data": {
      "image/png": "[encoded data removed]",
      "text/plain": [
       "<Figure size 432x288 with 1 Axes>"
      ]
     },
     "metadata": {
      "needs_background": "light"
     },
     "output_type": "display_data"
    }
   ],
   "source": [
    "pv_age = survey.pivot_table(values='cf_dept_or_job_dissatisfaction', index='age', aggfunc=np.sum, margins=True)\n",
    "pv_age.plot(kind='bar', xlim=((0,10)), title='Dept and Job Dissatisfaction as a CF by Age', legend=False)"
   ]
  },
  {
   "cell_type": "code",
   "execution_count": null,
   "id": "7033f629",
   "metadata": {},
   "outputs": [],
   "source": []
  },
  {
   "cell_type": "code",
   "execution_count": 5,
   "id": "e38dba45",
   "metadata": {},
   "outputs": [
    {
     "data": {
      "text/plain": [
       "<AxesSubplot:title={'center':'TAFE Age Distribution'}>"
      ]
     },
     "execution_count": 5,
     "metadata": {},
     "output_type": "execute_result"
    },
    {
     "data": {
      "image/png": "[encoded data removed]",
      "text/plain": [
       "<Figure size 432x288 with 1 Axes>"
      ]
     },
     "metadata": {
      "needs_background": "light"
     },
     "output_type": "display_data"
    }
   ],
   "source": [
    "values = survey.loc[survey['college'] == 'TAFE','age']\n",
    "values.value_counts().sort_values(ascending=True).plot(kind='bar', title='TAFE Age Distribution')"
   ]
  },
  {
   "cell_type": "code",
   "execution_count": 81,
   "id": "08a5396e",
   "metadata": {},
   "outputs": [
    {
     "name": "stdout",
     "output_type": "stream",
     "text": [
      "  Age Group  Total in Group  Dissatisfied in Group\n",
      "0       56+             162                     21\n",
      "1     51-55             106                     16\n",
      "2     41–45              82                     14\n",
      "3     46–50              80                     13\n",
      "4     31–35              59                     12\n",
      "5     36–40              52                     11\n",
      "6     26–30              51                      9\n",
      "7     21–25              50                      9\n",
      "8     18-20              44                      8\n",
      "  Age Group  Total in Group  Dissatisfied in Group\n",
      "0       56+             396                     51\n",
      "1     51-55             103                     24\n",
      "2     41–45              63                     12\n",
      "3     46–50              61                      9\n",
      "4     31–35              57                      9\n",
      "5     36–40              51                      8\n",
      "6     26–30              40                      8\n",
      "7     21–25              39                      4\n",
      "8     18-20              11                      1\n"
     ]
    },
    {
     "data": {
      "text/plain": [
       "<AxesSubplot:>"
      ]
     },
     "execution_count": 81,
     "metadata": {},
     "output_type": "execute_result"
    },
    {
     "data": {
      "image/png": "[encoded data removed]",
      "text/plain": [
       "<Figure size 432x288 with 1 Axes>"
      ]
     },
     "metadata": {
      "needs_background": "light"
     },
     "output_type": "display_data"
    },
    {
     "data": {
      "image/png": "[encoded data removed]",
      "text/plain": [
       "<Figure size 432x288 with 1 Axes>"
      ]
     },
     "metadata": {
      "needs_background": "light"
     },
     "output_type": "display_data"
    }
   ],
   "source": [
    "# List of the standardised age categories from the original dataset - both TAFE and DETE use the same.\n",
    "x_buckets = survey.loc[survey['college'] == 'TAFE','age'].value_counts().index.tolist()\n",
    "\n",
    "# List of the total number of people in each age category.\n",
    "tafe_age_values = survey.loc[survey['college'] == 'TAFE','age'].value_counts(dropna=False)\n",
    "dete_age_values = survey.loc[survey['college'] == 'DETE','age'].value_counts(dropna=False)\n",
    "\n",
    "# \n",
    "tafe_survey = survey[survey['college'] == 'TAFE']\n",
    "dete_survey = survey[survey['college'] == 'DETE']\n",
    "\n",
    "tafe_diss_values = tafe_survey.loc[survey['cf_dept_or_job_dissatisfaction'] == True,'age'].value_counts(dropna=False)\n",
    "dete_diss_values = dete_survey.loc[survey['cf_dept_or_job_dissatisfaction'] == True,'age'].value_counts(dropna=False)\n",
    "\n",
    "tafe_frame = pd.DataFrame(list(zip(x_buckets,tafe_age_values,tafe_diss_values)), columns =['Age Group', 'Total in Group', 'Dissatisfied in Group'])\n",
    "print(tafe_frame)\n",
    "\n",
    "dete_frame = pd.DataFrame(list(zip(x_buckets,dete_age_values,dete_diss_values)), columns =['Age Group', 'Total in Group', 'Dissatisfied in Group'])\n",
    "print(dete_frame)\n",
    "\n",
    "tafe_frame.plot(kind='bar', stacked=True)\n",
    "dete_frame.plot(kind='bar', stacked=True)"
   ]
  },
  {
   "cell_type": "code",
   "execution_count": 82,
   "id": "dd2170b3",
   "metadata": {},
   "outputs": [
    {
     "name": "stdout",
     "output_type": "stream",
     "text": [
      "  Age Group  Total in Group  Dissatisfied in Group  Satisfied or Other\n",
      "0       56+             162                     21                 141\n",
      "1     51-55             106                     16                  90\n",
      "2     41–45              82                     14                  68\n",
      "3     46–50              80                     13                  67\n",
      "4     31–35              59                     12                  47\n",
      "5     36–40              52                     11                  41\n",
      "6     26–30              51                      9                  42\n",
      "7     21–25              50                      9                  41\n",
      "8     18-20              44                      8                  36\n",
      "  Age Group  Total in Group  Dissatisfied in Group  Satisfied or Other\n",
      "0       56+             396                     51                 345\n",
      "1     51-55             103                     24                  79\n",
      "2     41–45              63                     12                  51\n",
      "3     46–50              61                      9                  52\n",
      "4     31–35              57                      9                  48\n",
      "5     36–40              51                      8                  43\n",
      "6     26–30              40                      8                  32\n",
      "7     21–25              39                      4                  35\n",
      "8     18-20              11                      1                  10\n"
     ]
    }
   ],
   "source": [
    "tafe_frame['Satisfied or Other'] = tafe_frame['Total in Group'] - tafe_frame['Dissatisfied in Group']\n",
    "print(tafe_frame)\n",
    "dete_frame['Satisfied or Other'] = dete_frame['Total in Group'] - dete_frame['Dissatisfied in Group']\n",
    "print(dete_frame)"
   ]
  },
  {
   "cell_type": "code",
   "execution_count": 85,
   "id": "ebe86c03",
   "metadata": {},
   "outputs": [
    {
     "name": "stdout",
     "output_type": "stream",
     "text": [
      "   Dissatisfied in Group  Satisfied or Other\n",
      "0              12.962963           87.037037\n",
      "1              15.094340           84.905660\n",
      "2              17.073171           82.926829\n",
      "3              16.250000           83.750000\n",
      "4              20.338983           79.661017\n",
      "5              21.153846           78.846154\n",
      "6              17.647059           82.352941\n",
      "7              18.000000           82.000000\n",
      "8              18.181818           81.818182\n",
      "   Dissatisfied in Group  Satisfied or Other\n",
      "0              12.878788           87.121212\n",
      "1              23.300971           76.699029\n",
      "2              19.047619           80.952381\n",
      "3              14.754098           85.245902\n",
      "4              15.789474           84.210526\n",
      "5              15.686275           84.313725\n",
      "6              20.000000           80.000000\n",
      "7              10.256410           89.743590\n",
      "8               9.090909           90.909091\n"
     ]
    }
   ],
   "source": [
    "def perc_tafe(col):\n",
    "    div = col / tafe_frame['Total in Group']\n",
    "    return div*100\n",
    "\n",
    "def perc_dete(col):\n",
    "    div = col / dete_frame['Total in Group']\n",
    "    return div*100\n",
    "\n",
    "columns = ['Dissatisfied in Group','Satisfied or Other']\n",
    "tafe_frame_perc = tafe_frame[columns].apply(perc_tafe)\n",
    "dete_frame_perc = dete_frame[columns].apply(perc_dete)\n",
    "\n",
    "print(tafe_frame_perc)\n",
    "print(dete_frame_perc)\n"
   ]
  },
  {
   "cell_type": "code",
   "execution_count": 86,
   "id": "fca7e792",
   "metadata": {},
   "outputs": [
    {
     "data": {
      "image/png": "[encoded data removed]",
      "text/plain": [
       "<Figure size 432x288 with 1 Axes>"
      ]
     },
     "metadata": {
      "needs_background": "light"
     },
     "output_type": "display_data"
    },
    {
     "data": {
      "image/png": "[encoded data removed]",
      "text/plain": [
       "<Figure size 432x288 with 1 Axes>"
      ]
     },
     "metadata": {
      "needs_background": "light"
     },
     "output_type": "display_data"
    }
   ],
   "source": [
    "tafe_frame_perc.plot(kind='bar', stacked=True)\n",
    "plt.show()\n",
    "dete_frame_perc.plot(kind='bar', stacked=True)\n",
    "plt.show()"
   ]
  },
  {
   "cell_type": "markdown",
   "id": "76c30086",
   "metadata": {},
   "source": [
    "# Conclusions\n",
    "\n",
    "There is no correlation between older employees and dissatisfaction. Older employees make a significant portion of the population which initially suggested that there may be a dissatisfaction problem in older employees. However, once adjusted to percentages in each age bucket, it is clear that there are no negative trends in that age group.\n",
    "\n",
    "At TAFE, dissatisfaction is well distributed and there are no discernable patterns.\n",
    "\n",
    "At DETE, there is perhaps a bulge at the yonger end in 21-25 year olds, but it is likely not significant.\n",
    "\n"
   ]
  }
 ],
 "metadata": {
  "kernelspec": {
   "display_name": "jpython",
   "language": "python",
   "name": "jpython"
  },
  "language_info": {
   "codemirror_mode": {
    "name": "ipython",
    "version": 3
   },
   "file_extension": ".py",
   "mimetype": "text/x-python",
   "name": "python",
   "nbconvert_exporter": "python",
   "pygments_lexer": "ipython3",
   "version": "3.9.2"
  }
 },
 "nbformat": 4,
 "nbformat_minor": 5
}
