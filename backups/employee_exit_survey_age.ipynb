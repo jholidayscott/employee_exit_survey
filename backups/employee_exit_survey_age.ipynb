{
 "cells": [
  {
   "cell_type": "markdown",
   "id": "51d88169",
   "metadata": {},
   "source": [
    "# Employee Exit Survey\n",
    "\n",
    "## The Client\n",
    "TAFE and DETE are vocational colleges in Australia. They have been doing exit surveys for a while and have now gathered a dataset of about 1600 results which they would like analysed. The client is focussed on internal contributing factors.\n",
    "\n",
    "## Aims of Analysis: Dissatisfaction\n",
    "The client has asked for a report to help them understand the results of their recent exit survey.\n",
    "\n",
    "They wish to understand the profile of employees who cite dissatisfaction as a contributing factor to their exit from the organisation.\n",
    "\n",
    "Leadership wants to understand where to target retention improvement strategies."
   ]
  },
  {
   "cell_type": "markdown",
   "id": "caf1bc1a",
   "metadata": {},
   "source": [
    "## Conclusions: Age and Dissatisfaction\n",
    "There is a significant increase in dissatisfaction amongst older employees of both TAFE and DETE compared to young employees.\n",
    "\n",
    "Management should target retention improvement strategies at older employees."
   ]
  },
  {
   "cell_type": "markdown",
   "id": "66b6a0ef",
   "metadata": {},
   "source": [
    "## Notebooks and Reports\n",
    "The following notebooks and documents are part of this anaylsis:\n",
    "\n",
    "### Jupyter Notebook Filename: Summary\n",
    "- [employee_exit_survey_cleaning_1.ibynb](https://github.com/jholidayscott/employee_exit_survey/blob/main/employee_exit_survey_cleaning_1.ipynb): Columns drops, missing data, renaming columns, tidying data for consistency\n",
    "- [employee_exit_survey_cleaning_2.ibynb](https://github.com/jholidayscott/employee_exit_survey/blob/main/employee_exit_survey_cleaning_2.ipynb): Adding calculated columns, adding category columns, further drops\n",
    "- [employee_exit_survey_correlation.ibynb](https://github.com/jholidayscott/employee_exit_survey/blob/main/employee_exit_survey_correlation.ipynb): Investigating correlations to guide analysis\n",
    "- [employee_exit_survey_gender.ibynb](https://github.com/jholidayscott/employee_exit_survey/blob/main/employee_exit_survey_gender.ipynb): Aggregation by pivot_table of gender subsets, visualisations\n",
    "- [employee_exit_survey_age.ibynb](https://github.com/jholidayscott/employee_exit_survey/blob/main/employee_exit_survey_age.ipynb): Aggregation by pivot_table of age subsets, visualisations\n",
    "- [employee_exit_survey_conflict.ibynb](https://github.com/jholidayscott/employee_exit_survey/blob/main/employee_exit_survey_conflict.ipynb): Exploration of conflict as a contributory factor"
   ]
  },
  {
   "cell_type": "code",
   "execution_count": 1,
   "id": "efae6983",
   "metadata": {},
   "outputs": [],
   "source": [
    "import pandas as pd\n",
    "import matplotlib.pyplot as plt\n",
    "import matplotlib.style as style\n",
    "import numpy as np"
   ]
  },
  {
   "cell_type": "code",
   "execution_count": 2,
   "id": "544aeaf6",
   "metadata": {},
   "outputs": [],
   "source": [
    "survey = pd.read_csv('employee_exit_survey_clean_final.csv')"
   ]
  },
  {
   "cell_type": "code",
   "execution_count": 3,
   "id": "65278b7c",
   "metadata": {},
   "outputs": [
    {
     "data": {
      "text/html": [
       "<div>\n",
       "<style scoped>\n",
       "    .dataframe tbody tr th:only-of-type {\n",
       "        vertical-align: middle;\n",
       "    }\n",
       "\n",
       "    .dataframe tbody tr th {\n",
       "        vertical-align: top;\n",
       "    }\n",
       "\n",
       "    .dataframe thead th {\n",
       "        text-align: right;\n",
       "    }\n",
       "</style>\n",
       "<table border=\"1\" class=\"dataframe\">\n",
       "  <thead>\n",
       "    <tr style=\"text-align: right;\">\n",
       "      <th></th>\n",
       "      <th>Unnamed: 0</th>\n",
       "      <th>index</th>\n",
       "      <th>cf_to_private_sector</th>\n",
       "      <th>cf_health</th>\n",
       "      <th>cf_family</th>\n",
       "      <th>cf_dept_dissatisfaction</th>\n",
       "      <th>cf_job_dissatisfaction</th>\n",
       "      <th>cf_interpersonal_conflict</th>\n",
       "      <th>cf_other</th>\n",
       "      <th>institute_recognition</th>\n",
       "      <th>institute_job_security</th>\n",
       "      <th>dept_workload</th>\n",
       "      <th>dept_work_life_balance</th>\n",
       "      <th>dept_work_environment</th>\n",
       "      <th>gender</th>\n",
       "      <th>age</th>\n",
       "      <th>service_years</th>\n",
       "      <th>exit_year</th>\n",
       "      <th>college</th>\n",
       "      <th>cf_dept_or_job_dissatisfaction</th>\n",
       "    </tr>\n",
       "  </thead>\n",
       "  <tbody>\n",
       "    <tr>\n",
       "      <th>0</th>\n",
       "      <td>0</td>\n",
       "      <td>0</td>\n",
       "      <td>False</td>\n",
       "      <td>False</td>\n",
       "      <td>False</td>\n",
       "      <td>False</td>\n",
       "      <td>False</td>\n",
       "      <td>False</td>\n",
       "      <td>False</td>\n",
       "      <td>False</td>\n",
       "      <td>False</td>\n",
       "      <td>False</td>\n",
       "      <td>False</td>\n",
       "      <td>False</td>\n",
       "      <td>Female</td>\n",
       "      <td>26–30</td>\n",
       "      <td>1 to 2 Years</td>\n",
       "      <td>2010</td>\n",
       "      <td>TAFE</td>\n",
       "      <td>False</td>\n",
       "    </tr>\n",
       "    <tr>\n",
       "      <th>1</th>\n",
       "      <td>1</td>\n",
       "      <td>1</td>\n",
       "      <td>False</td>\n",
       "      <td>False</td>\n",
       "      <td>False</td>\n",
       "      <td>False</td>\n",
       "      <td>False</td>\n",
       "      <td>False</td>\n",
       "      <td>False</td>\n",
       "      <td>True</td>\n",
       "      <td>True</td>\n",
       "      <td>True</td>\n",
       "      <td>False</td>\n",
       "      <td>True</td>\n",
       "      <td>Female</td>\n",
       "      <td>NaN</td>\n",
       "      <td>NaN</td>\n",
       "      <td>2010</td>\n",
       "      <td>TAFE</td>\n",
       "      <td>False</td>\n",
       "    </tr>\n",
       "    <tr>\n",
       "      <th>2</th>\n",
       "      <td>2</td>\n",
       "      <td>2</td>\n",
       "      <td>False</td>\n",
       "      <td>False</td>\n",
       "      <td>False</td>\n",
       "      <td>False</td>\n",
       "      <td>False</td>\n",
       "      <td>False</td>\n",
       "      <td>False</td>\n",
       "      <td>False</td>\n",
       "      <td>False</td>\n",
       "      <td>False</td>\n",
       "      <td>False</td>\n",
       "      <td>False</td>\n",
       "      <td>Female</td>\n",
       "      <td>NaN</td>\n",
       "      <td>NaN</td>\n",
       "      <td>2010</td>\n",
       "      <td>TAFE</td>\n",
       "      <td>False</td>\n",
       "    </tr>\n",
       "    <tr>\n",
       "      <th>3</th>\n",
       "      <td>3</td>\n",
       "      <td>3</td>\n",
       "      <td>False</td>\n",
       "      <td>False</td>\n",
       "      <td>False</td>\n",
       "      <td>False</td>\n",
       "      <td>False</td>\n",
       "      <td>False</td>\n",
       "      <td>False</td>\n",
       "      <td>False</td>\n",
       "      <td>False</td>\n",
       "      <td>True</td>\n",
       "      <td>True</td>\n",
       "      <td>True</td>\n",
       "      <td>Female</td>\n",
       "      <td>NaN</td>\n",
       "      <td>NaN</td>\n",
       "      <td>2010</td>\n",
       "      <td>TAFE</td>\n",
       "      <td>False</td>\n",
       "    </tr>\n",
       "    <tr>\n",
       "      <th>4</th>\n",
       "      <td>4</td>\n",
       "      <td>4</td>\n",
       "      <td>True</td>\n",
       "      <td>False</td>\n",
       "      <td>False</td>\n",
       "      <td>False</td>\n",
       "      <td>False</td>\n",
       "      <td>False</td>\n",
       "      <td>False</td>\n",
       "      <td>True</td>\n",
       "      <td>False</td>\n",
       "      <td>True</td>\n",
       "      <td>True</td>\n",
       "      <td>True</td>\n",
       "      <td>Male</td>\n",
       "      <td>41–45</td>\n",
       "      <td>3 to 4 Years</td>\n",
       "      <td>2010</td>\n",
       "      <td>TAFE</td>\n",
       "      <td>False</td>\n",
       "    </tr>\n",
       "  </tbody>\n",
       "</table>\n",
       "</div>"
      ],
      "text/plain": [
       "   Unnamed: 0  index  cf_to_private_sector  cf_health  cf_family  \\\n",
       "0           0      0                 False      False      False   \n",
       "1           1      1                 False      False      False   \n",
       "2           2      2                 False      False      False   \n",
       "3           3      3                 False      False      False   \n",
       "4           4      4                  True      False      False   \n",
       "\n",
       "   cf_dept_dissatisfaction  cf_job_dissatisfaction  cf_interpersonal_conflict  \\\n",
       "0                    False                   False                      False   \n",
       "1                    False                   False                      False   \n",
       "2                    False                   False                      False   \n",
       "3                    False                   False                      False   \n",
       "4                    False                   False                      False   \n",
       "\n",
       "   cf_other  institute_recognition  institute_job_security  dept_workload  \\\n",
       "0     False                  False                   False          False   \n",
       "1     False                   True                    True           True   \n",
       "2     False                  False                   False          False   \n",
       "3     False                  False                   False           True   \n",
       "4     False                   True                   False           True   \n",
       "\n",
       "   dept_work_life_balance  dept_work_environment  gender    age service_years  \\\n",
       "0                   False                  False  Female  26–30  1 to 2 Years   \n",
       "1                   False                   True  Female    NaN           NaN   \n",
       "2                   False                  False  Female    NaN           NaN   \n",
       "3                    True                   True  Female    NaN           NaN   \n",
       "4                    True                   True    Male  41–45  3 to 4 Years   \n",
       "\n",
       "   exit_year college  cf_dept_or_job_dissatisfaction  \n",
       "0       2010    TAFE                           False  \n",
       "1       2010    TAFE                           False  \n",
       "2       2010    TAFE                           False  \n",
       "3       2010    TAFE                           False  \n",
       "4       2010    TAFE                           False  "
      ]
     },
     "execution_count": 3,
     "metadata": {},
     "output_type": "execute_result"
    }
   ],
   "source": [
    "survey.head()"
   ]
  },
  {
   "cell_type": "markdown",
   "id": "9e7f7ed3",
   "metadata": {},
   "source": [
    "# Exploratory Charts\n",
    "From the initial exploration of correlations, there is a clear tendency for older employees to be more dissatisfied than younger ones.\n",
    "\n",
    "It would be beneficial to explore:\n",
    "- Measure the scale of increase in dissatisfaction as age increases\n",
    "- Link to length of service to see if this is a factor (note initial correlation analysis did not suggest length of servce was correlated directly to dissatisfaction)\n",
    "- Compare TAFE to DETE because there were clear differences."
   ]
  },
  {
   "cell_type": "markdown",
   "id": "b14b4085",
   "metadata": {},
   "source": [
    "## Baseline Age Charts\n",
    "These charts describe the age and dissatisfaction profiles of the two colleges."
   ]
  },
  {
   "cell_type": "code",
   "execution_count": 87,
   "id": "d75fa09c",
   "metadata": {},
   "outputs": [
    {
     "data": {
      "text/plain": [
       "<AxesSubplot:title={'center':'Dept and Job Dissatisfaction as a CF by Age'}, xlabel='age'>"
      ]
     },
     "execution_count": 87,
     "metadata": {},
     "output_type": "execute_result"
    },
    {
     "data": {
      "image/png": "[encoded data removed]",
      "text/plain": [
       "<Figure size 432x288 with 1 Axes>"
      ]
     },
     "metadata": {
      "needs_background": "light"
     },
     "output_type": "display_data"
    }
   ],
   "source": [
    "pv_age = survey.pivot_table(values='cf_dept_or_job_dissatisfaction', index='age', aggfunc=np.sum, margins=True)\n",
    "pv_age.plot(kind='bar', xlim=((0,10)), title='Dept and Job Dissatisfaction as a CF by Age', legend=False)"
   ]
  },
  {
   "cell_type": "markdown",
   "id": "385c528d",
   "metadata": {},
   "source": [
    "Initially, there appears to be rise in dissatisfaction in older people, and perhaps a small increase in the 20-30 buckets.\n",
    "\n",
    "To see if there is a tendency for these employees to cite dissatisfaction as their reason for leaving more than their peers, these values have to made proportionate to the age distribution."
   ]
  },
  {
   "cell_type": "code",
   "execution_count": 93,
   "id": "d4df8c28",
   "metadata": {},
   "outputs": [
    {
     "data": {
      "text/plain": [
       "<AxesSubplot:title={'center':'TAFE Age Distribution'}>"
      ]
     },
     "execution_count": 93,
     "metadata": {},
     "output_type": "execute_result"
    },
    {
     "data": {
      "image/png": "[encoded data removed]",
      "text/plain": [
       "<Figure size 432x288 with 1 Axes>"
      ]
     },
     "metadata": {
      "needs_background": "light"
     },
     "output_type": "display_data"
    }
   ],
   "source": [
    "values = survey.loc[survey['college'] == 'TAFE','age']\n",
    "values.value_counts().sort_values(ascending=True).plot(kind='bar', title='TAFE Age Distribution')"
   ]
  },
  {
   "cell_type": "code",
   "execution_count": 95,
   "id": "3a1e0fcf",
   "metadata": {},
   "outputs": [
    {
     "data": {
      "text/plain": [
       "<AxesSubplot:title={'center':'DETE Age Distribution'}>"
      ]
     },
     "execution_count": 95,
     "metadata": {},
     "output_type": "execute_result"
    },
    {
     "data": {
      "image/png": "[encoded data removed]",
      "text/plain": [
       "<Figure size 432x288 with 1 Axes>"
      ]
     },
     "metadata": {
      "needs_background": "light"
     },
     "output_type": "display_data"
    }
   ],
   "source": [
    "values = survey.loc[survey['college'] == 'DETE','age']\n",
    "values.value_counts().sort_values(ascending=True).plot(kind='bar', title='DETE Age Distribution')"
   ]
  },
  {
   "cell_type": "markdown",
   "id": "a15c544d",
   "metadata": {},
   "source": [
    "Both TAFE and DETE have many more employees aged 56+ than any other age group.\n",
    "\n",
    "TAFE does not have a higher number of 20-30 year olds to correspond to the slight bulge in dissatisfaction we saw above.\n",
    "\n",
    "Therefore, it is worth pressing on with a fulling proportional analysis."
   ]
  },
  {
   "cell_type": "code",
   "execution_count": 98,
   "id": "6371c9da",
   "metadata": {},
   "outputs": [
    {
     "name": "stdout",
     "output_type": "stream",
     "text": [
      "  Age Group  Total in Group  Dissatisfied in Group\n",
      "0       56+             162                     21\n",
      "1     51-55              82                     14\n",
      "2     41–45              80                     13\n",
      "3     46–50              59                     12\n",
      "4     31–35              52                     11\n",
      "5     36–40              51                      9\n",
      "6     26–30              50                      9\n",
      "7     21–25              44                      8\n",
      "8     18-20              16                      2\n",
      "  Age Group  Total in Group  Dissatisfied in Group\n",
      "0       56+             396                     51\n",
      "1     51-55             103                     24\n",
      "2     41–45              63                     12\n",
      "3     46–50              61                      9\n",
      "4     31–35              57                      9\n",
      "5     36–40              51                      8\n",
      "6     26–30              40                      8\n",
      "7     21–25              39                      4\n"
     ]
    },
    {
     "data": {
      "text/plain": [
       "<AxesSubplot:>"
      ]
     },
     "execution_count": 98,
     "metadata": {},
     "output_type": "execute_result"
    },
    {
     "data": {
      "image/png": "[encoded data removed]",
      "text/plain": [
       "<Figure size 432x288 with 1 Axes>"
      ]
     },
     "metadata": {
      "needs_background": "light"
     },
     "output_type": "display_data"
    },
    {
     "data": {
      "image/png": "[encoded data removed]",
      "text/plain": [
       "<Figure size 432x288 with 1 Axes>"
      ]
     },
     "metadata": {
      "needs_background": "light"
     },
     "output_type": "display_data"
    }
   ],
   "source": [
    "# List of the standardised age categories from the original dataset - both TAFE and DETE use the same.\n",
    "x_buckets = survey.loc[survey['college'] == 'TAFE','age'].value_counts().index.tolist()\n",
    "\n",
    "# List of the total number of people in each age category.\n",
    "tafe_age_values = survey.loc[survey['college'] == 'TAFE','age'].value_counts()\n",
    "dete_age_values = survey.loc[survey['college'] == 'DETE','age'].value_counts()\n",
    "\n",
    "# Slice the colleges into their own datasets.\n",
    "tafe_survey = survey[survey['college'] == 'TAFE']\n",
    "dete_survey = survey[survey['college'] == 'DETE']\n",
    "\n",
    "# Get a frequency table of how many dissatisfied employees there are in each age bucket.\n",
    "tafe_diss_values = tafe_survey.loc[survey['cf_dept_or_job_dissatisfaction'] == True,'age'].value_counts()\n",
    "dete_diss_values = dete_survey.loc[survey['cf_dept_or_job_dissatisfaction'] == True,'age'].value_counts()\n",
    "\n",
    "# DataFrame of dissatisfaction frequency table and age group buckets because it's easier to plot.\n",
    "tafe_frame = pd.DataFrame(list(zip(x_buckets,tafe_age_values,tafe_diss_values)), columns =['Age Group', 'Total in Group', 'Dissatisfied in Group'])\n",
    "print(tafe_frame)\n",
    "\n",
    "dete_frame = pd.DataFrame(list(zip(x_buckets,dete_age_values,dete_diss_values)), columns =['Age Group', 'Total in Group', 'Dissatisfied in Group'])\n",
    "print(dete_frame)\n",
    "\n",
    "# Plot the data to investigate.\n",
    "tafe_frame.plot(kind='bar', stacked=True)\n",
    "dete_frame.plot(kind='bar', stacked=True)"
   ]
  },
  {
   "cell_type": "markdown",
   "id": "5c13242b",
   "metadata": {},
   "source": [
    "It's difficutly to see the effect, if any, that age has in the data. \n",
    "\n",
    "Percentages will make any effect visible."
   ]
  },
  {
   "cell_type": "code",
   "execution_count": 99,
   "id": "0a766bb5",
   "metadata": {},
   "outputs": [
    {
     "name": "stdout",
     "output_type": "stream",
     "text": [
      "  Age Group  Total in Group  Dissatisfied in Group  Satisfied or Other\n",
      "0       56+             162                     21                 141\n",
      "1     51-55              82                     14                  68\n",
      "2     41–45              80                     13                  67\n",
      "3     46–50              59                     12                  47\n",
      "4     31–35              52                     11                  41\n",
      "5     36–40              51                      9                  42\n",
      "6     26–30              50                      9                  41\n",
      "7     21–25              44                      8                  36\n",
      "8     18-20              16                      2                  14\n",
      "  Age Group  Total in Group  Dissatisfied in Group  Satisfied or Other\n",
      "0       56+             396                     51                 345\n",
      "1     51-55             103                     24                  79\n",
      "2     41–45              63                     12                  51\n",
      "3     46–50              61                      9                  52\n",
      "4     31–35              57                      9                  48\n",
      "5     36–40              51                      8                  43\n",
      "6     26–30              40                      8                  32\n",
      "7     21–25              39                      4                  35\n"
     ]
    }
   ],
   "source": [
    "#Create a new column of employees not citing dissatisfaction to use to create percentages.\n",
    "tafe_frame['Satisfied or Other'] = tafe_frame['Total in Group'] - tafe_frame['Dissatisfied in Group']\n",
    "print(tafe_frame)\n",
    "dete_frame['Satisfied or Other'] = dete_frame['Total in Group'] - dete_frame['Dissatisfied in Group']\n",
    "print(dete_frame)"
   ]
  },
  {
   "cell_type": "code",
   "execution_count": 100,
   "id": "b70a7096",
   "metadata": {},
   "outputs": [
    {
     "name": "stdout",
     "output_type": "stream",
     "text": [
      "   Dissatisfied in Group  Satisfied or Other\n",
      "0              12.962963           87.037037\n",
      "1              17.073171           82.926829\n",
      "2              16.250000           83.750000\n",
      "3              20.338983           79.661017\n",
      "4              21.153846           78.846154\n",
      "5              17.647059           82.352941\n",
      "6              18.000000           82.000000\n",
      "7              18.181818           81.818182\n",
      "8              12.500000           87.500000\n",
      "   Dissatisfied in Group  Satisfied or Other\n",
      "0              12.878788           87.121212\n",
      "1              23.300971           76.699029\n",
      "2              19.047619           80.952381\n",
      "3              14.754098           85.245902\n",
      "4              15.789474           84.210526\n",
      "5              15.686275           84.313725\n",
      "6              20.000000           80.000000\n",
      "7              10.256410           89.743590\n"
     ]
    }
   ],
   "source": [
    "# Functions to apply to the Dataframe\n",
    "def perc_tafe(col):\n",
    "    div = col / tafe_frame['Total in Group']\n",
    "    return div*100\n",
    "\n",
    "def perc_dete(col):\n",
    "    div = col / dete_frame['Total in Group']\n",
    "    return div*100\n",
    "\n",
    "# Identify the range for calculation\n",
    "columns = ['Dissatisfied in Group','Satisfied or Other']\n",
    "\n",
    "# Convert to percentages and create new DataFrame\n",
    "tafe_frame_perc = tafe_frame[columns].apply(perc_tafe)\n",
    "dete_frame_perc = dete_frame[columns].apply(perc_dete)\n",
    "\n",
    "print(tafe_frame_perc)\n",
    "print(dete_frame_perc)\n"
   ]
  },
  {
   "cell_type": "code",
   "execution_count": 101,
   "id": "8797533b",
   "metadata": {},
   "outputs": [
    {
     "data": {
      "image/png": "[encoded data removed]",
      "text/plain": [
       "<Figure size 432x288 with 1 Axes>"
      ]
     },
     "metadata": {
      "needs_background": "light"
     },
     "output_type": "display_data"
    },
    {
     "data": {
      "image/png": "[encoded data removed]",
      "text/plain": [
       "<Figure size 432x288 with 1 Axes>"
      ]
     },
     "metadata": {
      "needs_background": "light"
     },
     "output_type": "display_data"
    }
   ],
   "source": [
    "# Quick exploratory plot\n",
    "tafe_frame_perc.plot(kind='bar', stacked=True)\n",
    "plt.show()\n",
    "dete_frame_perc.plot(kind='bar', stacked=True)\n",
    "plt.show()"
   ]
  },
  {
   "cell_type": "markdown",
   "id": "0f422e5d",
   "metadata": {},
   "source": [
    "# Conclusions\n",
    "\n",
    "There is no correlation between older employees and dissatisfaction. Older employees make a significant portion of the population which initially suggested that there may be a dissatisfaction problem in older employees. However, once adjusted to percentages in each age bucket, it is clear that there are no negative trends in that age group.\n",
    "\n",
    "At TAFE, dissatisfaction is well distributed and there are no discernable patterns.\n",
    "\n",
    "At DETE, there is perhaps a bulge at the yonger end in 21-25 year olds, but it is likely not significant.\n",
    "\n",
    "Therefore, flag as a possible concern in the report but do not create visualisation.\n",
    "\n"
   ]
  }
 ],
 "metadata": {
  "kernelspec": {
   "display_name": "jpython",
   "language": "python",
   "name": "jpython"
  },
  "language_info": {
   "codemirror_mode": {
    "name": "ipython",
    "version": 3
   },
   "file_extension": ".py",
   "mimetype": "text/x-python",
   "name": "python",
   "nbconvert_exporter": "python",
   "pygments_lexer": "ipython3",
   "version": "3.9.2"
  }
 },
 "nbformat": 4,
 "nbformat_minor": 5
}
