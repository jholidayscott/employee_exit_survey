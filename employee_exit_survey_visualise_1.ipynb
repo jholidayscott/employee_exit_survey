{
 "cells": [
  {
   "cell_type": "markdown",
   "id": "aaf9b486",
   "metadata": {},
   "source": [
    "# Visualising Employee Exit Survey Data\n",
    "- Correlation\n",
    "- Aggregation\n",
    "- Storytelling"
   ]
  },
  {
   "cell_type": "code",
   "execution_count": 307,
   "id": "ba7648d2",
   "metadata": {},
   "outputs": [],
   "source": [
    "import pandas as pd\n",
    "import matplotlib.pyplot as plt\n",
    "import matplotlib.style as style\n",
    "import numpy as np"
   ]
  },
  {
   "cell_type": "code",
   "execution_count": 16,
   "id": "2542bb49",
   "metadata": {},
   "outputs": [],
   "source": [
    "# tafe = pd.read_csv('tafe_cleaned_for_visualisation.csv')\n",
    "# dete = pd.read_csv('dete_cleaned_for_visualisation.csv')"
   ]
  },
  {
   "cell_type": "code",
   "execution_count": 20,
   "id": "628bc5a2",
   "metadata": {},
   "outputs": [],
   "source": [
    "#exit_survey = pd.concat([tafe,dete],ignore_index=True)"
   ]
  },
  {
   "cell_type": "code",
   "execution_count": 28,
   "id": "31cc1617",
   "metadata": {},
   "outputs": [],
   "source": [
    "#exit_survey = exit_survey.drop(exit_survey.columns[0], axis=1)"
   ]
  },
  {
   "cell_type": "code",
   "execution_count": 32,
   "id": "2b52f5fe",
   "metadata": {},
   "outputs": [],
   "source": [
    "#exit_survey.index.set_names('index',inplace=True)"
   ]
  },
  {
   "cell_type": "code",
   "execution_count": 99,
   "id": "6fb929c2",
   "metadata": {},
   "outputs": [],
   "source": [
    "#exit_survey.to_csv('exit_survey_2017.csv')\n",
    "#exit_survey = pd.read_csv('exit_survey_1252.csv')"
   ]
  },
  {
   "cell_type": "code",
   "execution_count": 4,
   "id": "5e522b55",
   "metadata": {},
   "outputs": [
    {
     "data": {
      "text/html": [
       "<div>\n",
       "<style scoped>\n",
       "    .dataframe tbody tr th:only-of-type {\n",
       "        vertical-align: middle;\n",
       "    }\n",
       "\n",
       "    .dataframe tbody tr th {\n",
       "        vertical-align: top;\n",
       "    }\n",
       "\n",
       "    .dataframe thead th {\n",
       "        text-align: right;\n",
       "    }\n",
       "</style>\n",
       "<table border=\"1\" class=\"dataframe\">\n",
       "  <thead>\n",
       "    <tr style=\"text-align: right;\">\n",
       "      <th></th>\n",
       "      <th>index</th>\n",
       "      <th>cf_to_private_sector</th>\n",
       "      <th>cf_health</th>\n",
       "      <th>cf_family</th>\n",
       "      <th>cf_dept_dissatisfaction</th>\n",
       "      <th>cf_job_dissatisfaction</th>\n",
       "      <th>cf_interpersonal_conflict</th>\n",
       "      <th>cf_other</th>\n",
       "      <th>institute_recognition</th>\n",
       "      <th>institute_job_security</th>\n",
       "      <th>dept_workload</th>\n",
       "      <th>dept_work_life_balance</th>\n",
       "      <th>dept_work_environment</th>\n",
       "      <th>exit_year</th>\n",
       "    </tr>\n",
       "  </thead>\n",
       "  <tbody>\n",
       "    <tr>\n",
       "      <th>index</th>\n",
       "      <td>1.000000</td>\n",
       "      <td>-0.059761</td>\n",
       "      <td>0.159205</td>\n",
       "      <td>0.071500</td>\n",
       "      <td>-0.051166</td>\n",
       "      <td>-0.048530</td>\n",
       "      <td>-0.006882</td>\n",
       "      <td>0.097038</td>\n",
       "      <td>-0.073342</td>\n",
       "      <td>-0.150416</td>\n",
       "      <td>-0.103197</td>\n",
       "      <td>0.081554</td>\n",
       "      <td>-0.287864</td>\n",
       "      <td>0.814613</td>\n",
       "    </tr>\n",
       "    <tr>\n",
       "      <th>cf_to_private_sector</th>\n",
       "      <td>-0.059761</td>\n",
       "      <td>1.000000</td>\n",
       "      <td>-0.105713</td>\n",
       "      <td>-0.030012</td>\n",
       "      <td>0.014065</td>\n",
       "      <td>0.066957</td>\n",
       "      <td>0.007815</td>\n",
       "      <td>-0.120904</td>\n",
       "      <td>0.024903</td>\n",
       "      <td>0.025662</td>\n",
       "      <td>0.022970</td>\n",
       "      <td>-0.040754</td>\n",
       "      <td>0.072119</td>\n",
       "      <td>-0.043086</td>\n",
       "    </tr>\n",
       "    <tr>\n",
       "      <th>cf_health</th>\n",
       "      <td>0.159205</td>\n",
       "      <td>-0.105713</td>\n",
       "      <td>1.000000</td>\n",
       "      <td>-0.023230</td>\n",
       "      <td>0.030921</td>\n",
       "      <td>0.000695</td>\n",
       "      <td>0.013150</td>\n",
       "      <td>-0.141528</td>\n",
       "      <td>-0.036189</td>\n",
       "      <td>-0.033907</td>\n",
       "      <td>-0.040208</td>\n",
       "      <td>-0.022595</td>\n",
       "      <td>-0.009234</td>\n",
       "      <td>0.126138</td>\n",
       "    </tr>\n",
       "    <tr>\n",
       "      <th>cf_family</th>\n",
       "      <td>0.071500</td>\n",
       "      <td>-0.030012</td>\n",
       "      <td>-0.023230</td>\n",
       "      <td>1.000000</td>\n",
       "      <td>-0.013571</td>\n",
       "      <td>-0.032373</td>\n",
       "      <td>0.006855</td>\n",
       "      <td>-0.093963</td>\n",
       "      <td>-0.025735</td>\n",
       "      <td>-0.028121</td>\n",
       "      <td>-0.043384</td>\n",
       "      <td>0.035355</td>\n",
       "      <td>-0.047402</td>\n",
       "      <td>0.041493</td>\n",
       "    </tr>\n",
       "    <tr>\n",
       "      <th>cf_dept_dissatisfaction</th>\n",
       "      <td>-0.051166</td>\n",
       "      <td>0.014065</td>\n",
       "      <td>0.030921</td>\n",
       "      <td>-0.013571</td>\n",
       "      <td>1.000000</td>\n",
       "      <td>0.290847</td>\n",
       "      <td>0.265444</td>\n",
       "      <td>-0.121508</td>\n",
       "      <td>0.059994</td>\n",
       "      <td>-0.032208</td>\n",
       "      <td>-0.016983</td>\n",
       "      <td>-0.043867</td>\n",
       "      <td>-0.029966</td>\n",
       "      <td>-0.052225</td>\n",
       "    </tr>\n",
       "    <tr>\n",
       "      <th>cf_job_dissatisfaction</th>\n",
       "      <td>-0.048530</td>\n",
       "      <td>0.066957</td>\n",
       "      <td>0.000695</td>\n",
       "      <td>-0.032373</td>\n",
       "      <td>0.290847</td>\n",
       "      <td>1.000000</td>\n",
       "      <td>0.154247</td>\n",
       "      <td>-0.134933</td>\n",
       "      <td>0.095660</td>\n",
       "      <td>-0.036092</td>\n",
       "      <td>-0.003482</td>\n",
       "      <td>-0.029783</td>\n",
       "      <td>-0.056739</td>\n",
       "      <td>-0.039030</td>\n",
       "    </tr>\n",
       "    <tr>\n",
       "      <th>cf_interpersonal_conflict</th>\n",
       "      <td>-0.006882</td>\n",
       "      <td>0.007815</td>\n",
       "      <td>0.013150</td>\n",
       "      <td>0.006855</td>\n",
       "      <td>0.265444</td>\n",
       "      <td>0.154247</td>\n",
       "      <td>1.000000</td>\n",
       "      <td>-0.081322</td>\n",
       "      <td>0.032920</td>\n",
       "      <td>0.005031</td>\n",
       "      <td>-0.031572</td>\n",
       "      <td>-0.018393</td>\n",
       "      <td>-0.043921</td>\n",
       "      <td>-0.039908</td>\n",
       "    </tr>\n",
       "    <tr>\n",
       "      <th>cf_other</th>\n",
       "      <td>0.097038</td>\n",
       "      <td>-0.120904</td>\n",
       "      <td>-0.141528</td>\n",
       "      <td>-0.093963</td>\n",
       "      <td>-0.121508</td>\n",
       "      <td>-0.134933</td>\n",
       "      <td>-0.081322</td>\n",
       "      <td>1.000000</td>\n",
       "      <td>-0.055930</td>\n",
       "      <td>-0.032663</td>\n",
       "      <td>-0.123622</td>\n",
       "      <td>-0.185102</td>\n",
       "      <td>-0.001794</td>\n",
       "      <td>0.061978</td>\n",
       "    </tr>\n",
       "    <tr>\n",
       "      <th>institute_recognition</th>\n",
       "      <td>-0.073342</td>\n",
       "      <td>0.024903</td>\n",
       "      <td>-0.036189</td>\n",
       "      <td>-0.025735</td>\n",
       "      <td>0.059994</td>\n",
       "      <td>0.095660</td>\n",
       "      <td>0.032920</td>\n",
       "      <td>-0.055930</td>\n",
       "      <td>1.000000</td>\n",
       "      <td>0.399842</td>\n",
       "      <td>0.257985</td>\n",
       "      <td>0.188996</td>\n",
       "      <td>0.292634</td>\n",
       "      <td>-0.068798</td>\n",
       "    </tr>\n",
       "    <tr>\n",
       "      <th>institute_job_security</th>\n",
       "      <td>-0.150416</td>\n",
       "      <td>0.025662</td>\n",
       "      <td>-0.033907</td>\n",
       "      <td>-0.028121</td>\n",
       "      <td>-0.032208</td>\n",
       "      <td>-0.036092</td>\n",
       "      <td>0.005031</td>\n",
       "      <td>-0.032663</td>\n",
       "      <td>0.399842</td>\n",
       "      <td>1.000000</td>\n",
       "      <td>0.242599</td>\n",
       "      <td>0.175712</td>\n",
       "      <td>0.378895</td>\n",
       "      <td>-0.104590</td>\n",
       "    </tr>\n",
       "    <tr>\n",
       "      <th>dept_workload</th>\n",
       "      <td>-0.103197</td>\n",
       "      <td>0.022970</td>\n",
       "      <td>-0.040208</td>\n",
       "      <td>-0.043384</td>\n",
       "      <td>-0.016983</td>\n",
       "      <td>-0.003482</td>\n",
       "      <td>-0.031572</td>\n",
       "      <td>-0.123622</td>\n",
       "      <td>0.257985</td>\n",
       "      <td>0.242599</td>\n",
       "      <td>1.000000</td>\n",
       "      <td>0.414853</td>\n",
       "      <td>0.427341</td>\n",
       "      <td>-0.027857</td>\n",
       "    </tr>\n",
       "    <tr>\n",
       "      <th>dept_work_life_balance</th>\n",
       "      <td>0.081554</td>\n",
       "      <td>-0.040754</td>\n",
       "      <td>-0.022595</td>\n",
       "      <td>0.035355</td>\n",
       "      <td>-0.043867</td>\n",
       "      <td>-0.029783</td>\n",
       "      <td>-0.018393</td>\n",
       "      <td>-0.185102</td>\n",
       "      <td>0.188996</td>\n",
       "      <td>0.175712</td>\n",
       "      <td>0.414853</td>\n",
       "      <td>1.000000</td>\n",
       "      <td>0.279793</td>\n",
       "      <td>0.092513</td>\n",
       "    </tr>\n",
       "    <tr>\n",
       "      <th>dept_work_environment</th>\n",
       "      <td>-0.287864</td>\n",
       "      <td>0.072119</td>\n",
       "      <td>-0.009234</td>\n",
       "      <td>-0.047402</td>\n",
       "      <td>-0.029966</td>\n",
       "      <td>-0.056739</td>\n",
       "      <td>-0.043921</td>\n",
       "      <td>-0.001794</td>\n",
       "      <td>0.292634</td>\n",
       "      <td>0.378895</td>\n",
       "      <td>0.427341</td>\n",
       "      <td>0.279793</td>\n",
       "      <td>1.000000</td>\n",
       "      <td>-0.193669</td>\n",
       "    </tr>\n",
       "    <tr>\n",
       "      <th>exit_year</th>\n",
       "      <td>0.814613</td>\n",
       "      <td>-0.043086</td>\n",
       "      <td>0.126138</td>\n",
       "      <td>0.041493</td>\n",
       "      <td>-0.052225</td>\n",
       "      <td>-0.039030</td>\n",
       "      <td>-0.039908</td>\n",
       "      <td>0.061978</td>\n",
       "      <td>-0.068798</td>\n",
       "      <td>-0.104590</td>\n",
       "      <td>-0.027857</td>\n",
       "      <td>0.092513</td>\n",
       "      <td>-0.193669</td>\n",
       "      <td>1.000000</td>\n",
       "    </tr>\n",
       "  </tbody>\n",
       "</table>\n",
       "</div>"
      ],
      "text/plain": [
       "                              index  cf_to_private_sector  cf_health  \\\n",
       "index                      1.000000             -0.059761   0.159205   \n",
       "cf_to_private_sector      -0.059761              1.000000  -0.105713   \n",
       "cf_health                  0.159205             -0.105713   1.000000   \n",
       "cf_family                  0.071500             -0.030012  -0.023230   \n",
       "cf_dept_dissatisfaction   -0.051166              0.014065   0.030921   \n",
       "cf_job_dissatisfaction    -0.048530              0.066957   0.000695   \n",
       "cf_interpersonal_conflict -0.006882              0.007815   0.013150   \n",
       "cf_other                   0.097038             -0.120904  -0.141528   \n",
       "institute_recognition     -0.073342              0.024903  -0.036189   \n",
       "institute_job_security    -0.150416              0.025662  -0.033907   \n",
       "dept_workload             -0.103197              0.022970  -0.040208   \n",
       "dept_work_life_balance     0.081554             -0.040754  -0.022595   \n",
       "dept_work_environment     -0.287864              0.072119  -0.009234   \n",
       "exit_year                  0.814613             -0.043086   0.126138   \n",
       "\n",
       "                           cf_family  cf_dept_dissatisfaction  \\\n",
       "index                       0.071500                -0.051166   \n",
       "cf_to_private_sector       -0.030012                 0.014065   \n",
       "cf_health                  -0.023230                 0.030921   \n",
       "cf_family                   1.000000                -0.013571   \n",
       "cf_dept_dissatisfaction    -0.013571                 1.000000   \n",
       "cf_job_dissatisfaction     -0.032373                 0.290847   \n",
       "cf_interpersonal_conflict   0.006855                 0.265444   \n",
       "cf_other                   -0.093963                -0.121508   \n",
       "institute_recognition      -0.025735                 0.059994   \n",
       "institute_job_security     -0.028121                -0.032208   \n",
       "dept_workload              -0.043384                -0.016983   \n",
       "dept_work_life_balance      0.035355                -0.043867   \n",
       "dept_work_environment      -0.047402                -0.029966   \n",
       "exit_year                   0.041493                -0.052225   \n",
       "\n",
       "                           cf_job_dissatisfaction  cf_interpersonal_conflict  \\\n",
       "index                                   -0.048530                  -0.006882   \n",
       "cf_to_private_sector                     0.066957                   0.007815   \n",
       "cf_health                                0.000695                   0.013150   \n",
       "cf_family                               -0.032373                   0.006855   \n",
       "cf_dept_dissatisfaction                  0.290847                   0.265444   \n",
       "cf_job_dissatisfaction                   1.000000                   0.154247   \n",
       "cf_interpersonal_conflict                0.154247                   1.000000   \n",
       "cf_other                                -0.134933                  -0.081322   \n",
       "institute_recognition                    0.095660                   0.032920   \n",
       "institute_job_security                  -0.036092                   0.005031   \n",
       "dept_workload                           -0.003482                  -0.031572   \n",
       "dept_work_life_balance                  -0.029783                  -0.018393   \n",
       "dept_work_environment                   -0.056739                  -0.043921   \n",
       "exit_year                               -0.039030                  -0.039908   \n",
       "\n",
       "                           cf_other  institute_recognition  \\\n",
       "index                      0.097038              -0.073342   \n",
       "cf_to_private_sector      -0.120904               0.024903   \n",
       "cf_health                 -0.141528              -0.036189   \n",
       "cf_family                 -0.093963              -0.025735   \n",
       "cf_dept_dissatisfaction   -0.121508               0.059994   \n",
       "cf_job_dissatisfaction    -0.134933               0.095660   \n",
       "cf_interpersonal_conflict -0.081322               0.032920   \n",
       "cf_other                   1.000000              -0.055930   \n",
       "institute_recognition     -0.055930               1.000000   \n",
       "institute_job_security    -0.032663               0.399842   \n",
       "dept_workload             -0.123622               0.257985   \n",
       "dept_work_life_balance    -0.185102               0.188996   \n",
       "dept_work_environment     -0.001794               0.292634   \n",
       "exit_year                  0.061978              -0.068798   \n",
       "\n",
       "                           institute_job_security  dept_workload  \\\n",
       "index                                   -0.150416      -0.103197   \n",
       "cf_to_private_sector                     0.025662       0.022970   \n",
       "cf_health                               -0.033907      -0.040208   \n",
       "cf_family                               -0.028121      -0.043384   \n",
       "cf_dept_dissatisfaction                 -0.032208      -0.016983   \n",
       "cf_job_dissatisfaction                  -0.036092      -0.003482   \n",
       "cf_interpersonal_conflict                0.005031      -0.031572   \n",
       "cf_other                                -0.032663      -0.123622   \n",
       "institute_recognition                    0.399842       0.257985   \n",
       "institute_job_security                   1.000000       0.242599   \n",
       "dept_workload                            0.242599       1.000000   \n",
       "dept_work_life_balance                   0.175712       0.414853   \n",
       "dept_work_environment                    0.378895       0.427341   \n",
       "exit_year                               -0.104590      -0.027857   \n",
       "\n",
       "                           dept_work_life_balance  dept_work_environment  \\\n",
       "index                                    0.081554              -0.287864   \n",
       "cf_to_private_sector                    -0.040754               0.072119   \n",
       "cf_health                               -0.022595              -0.009234   \n",
       "cf_family                                0.035355              -0.047402   \n",
       "cf_dept_dissatisfaction                 -0.043867              -0.029966   \n",
       "cf_job_dissatisfaction                  -0.029783              -0.056739   \n",
       "cf_interpersonal_conflict               -0.018393              -0.043921   \n",
       "cf_other                                -0.185102              -0.001794   \n",
       "institute_recognition                    0.188996               0.292634   \n",
       "institute_job_security                   0.175712               0.378895   \n",
       "dept_workload                            0.414853               0.427341   \n",
       "dept_work_life_balance                   1.000000               0.279793   \n",
       "dept_work_environment                    0.279793               1.000000   \n",
       "exit_year                                0.092513              -0.193669   \n",
       "\n",
       "                           exit_year  \n",
       "index                       0.814613  \n",
       "cf_to_private_sector       -0.043086  \n",
       "cf_health                   0.126138  \n",
       "cf_family                   0.041493  \n",
       "cf_dept_dissatisfaction    -0.052225  \n",
       "cf_job_dissatisfaction     -0.039030  \n",
       "cf_interpersonal_conflict  -0.039908  \n",
       "cf_other                    0.061978  \n",
       "institute_recognition      -0.068798  \n",
       "institute_job_security     -0.104590  \n",
       "dept_workload              -0.027857  \n",
       "dept_work_life_balance      0.092513  \n",
       "dept_work_environment      -0.193669  \n",
       "exit_year                   1.000000  "
      ]
     },
     "execution_count": 4,
     "metadata": {},
     "output_type": "execute_result"
    }
   ],
   "source": [
    "exit_survey.corr(method='pearson')"
   ]
  },
  {
   "cell_type": "code",
   "execution_count": 5,
   "id": "510a6f1d",
   "metadata": {},
   "outputs": [
    {
     "data": {
      "text/plain": [
       "0.26544364072618015"
      ]
     },
     "execution_count": 5,
     "metadata": {},
     "output_type": "execute_result"
    }
   ],
   "source": [
    "exit_survey['cf_dept_dissatisfaction'].corr(exit_survey['cf_interpersonal_conflict'], method='pearson')"
   ]
  },
  {
   "cell_type": "markdown",
   "id": "23511e2f",
   "metadata": {},
   "source": [
    "## Correlation to **cf_dept_dissatisfaction** or **cf_job_dissatisfaction**\n",
    "The DataFrame.corr() function ignores our primary targets of **age** and **gender** but there is one interesting correlation to explore:\n",
    "\n",
    "- 'cf_dept_dissatisfaction' and 'cf_interpersonal_conflict'\n",
    "\n",
    "0.265 is signficant enough in a binary correlation to explore in more detail."
   ]
  },
  {
   "cell_type": "code",
   "execution_count": 44,
   "id": "7dac5ef7",
   "metadata": {},
   "outputs": [
    {
     "name": "stdout",
     "output_type": "stream",
     "text": [
      "<class 'pandas.core.frame.DataFrame'>\n",
      "RangeIndex: 1524 entries, 0 to 1523\n",
      "Data columns (total 18 columns):\n",
      " #   Column                     Non-Null Count  Dtype \n",
      "---  ------                     --------------  ----- \n",
      " 0   index                      1524 non-null   int64 \n",
      " 1   cf_to_private_sector       1524 non-null   bool  \n",
      " 2   cf_health                  1524 non-null   bool  \n",
      " 3   cf_family                  1524 non-null   bool  \n",
      " 4   cf_dept_dissatisfaction    1524 non-null   bool  \n",
      " 5   cf_job_dissatisfaction     1524 non-null   bool  \n",
      " 6   cf_interpersonal_conflict  1524 non-null   bool  \n",
      " 7   cf_other                   1524 non-null   bool  \n",
      " 8   institute_recognition      1524 non-null   bool  \n",
      " 9   institute_job_security     1524 non-null   bool  \n",
      " 10  dept_workload              1524 non-null   bool  \n",
      " 11  dept_work_life_balance     1524 non-null   bool  \n",
      " 12  dept_work_environment      1524 non-null   bool  \n",
      " 13  gender                     1524 non-null   object\n",
      " 14  age                        1407 non-null   object\n",
      " 15  service_years              1293 non-null   object\n",
      " 16  exit_year                  1524 non-null   int64 \n",
      " 17  college                    1524 non-null   object\n",
      "dtypes: bool(12), int64(2), object(4)\n",
      "memory usage: 89.4+ KB\n"
     ]
    }
   ],
   "source": [
    "exit_survey.info()"
   ]
  },
  {
   "cell_type": "code",
   "execution_count": 45,
   "id": "9dccd3b6",
   "metadata": {},
   "outputs": [
    {
     "data": {
      "text/plain": [
       "<AxesSubplot:title={'center':'Dept Dissatisfaction as a CF by Age'}, xlabel='age'>"
      ]
     },
     "execution_count": 45,
     "metadata": {},
     "output_type": "execute_result"
    },
    {
     "data": {
      "image/png": "[encoded data removed]",
      "text/plain": [
       "<Figure size 432x288 with 1 Axes>"
      ]
     },
     "metadata": {
      "needs_background": "light"
     },
     "output_type": "display_data"
    }
   ],
   "source": [
    "pv_age = exit_survey.pivot_table(values='cf_dept_dissatisfaction', index='age', aggfunc=np.sum, margins=True)\n",
    "pv_age.plot(kind='bar', xlim=((0,10)), title='Dept Dissatisfaction as a CF by Age', legend=False)"
   ]
  },
  {
   "cell_type": "code",
   "execution_count": 80,
   "id": "b7e4c3b4",
   "metadata": {},
   "outputs": [
    {
     "data": {
      "text/plain": [
       "<AxesSubplot:title={'center':'Job Dissatisfaction as a CF by Age'}, xlabel='age'>"
      ]
     },
     "execution_count": 80,
     "metadata": {},
     "output_type": "execute_result"
    },
    {
     "data": {
      "image/png": "[encoded data removed]",
      "text/plain": [
       "<Figure size 432x288 with 1 Axes>"
      ]
     },
     "metadata": {
      "needs_background": "light"
     },
     "output_type": "display_data"
    }
   ],
   "source": [
    "pv_age = exit_survey.pivot_table(values='cf_job_dissatisfaction', index='age', aggfunc=np.sum, margins=True)\n",
    "pv_age.plot(kind='bar', xlim=((0,10)), title='Job Dissatisfaction as a CF by Age', legend=False)"
   ]
  },
  {
   "cell_type": "code",
   "execution_count": 89,
   "id": "2ec4d4cc",
   "metadata": {},
   "outputs": [
    {
     "name": "stdout",
     "output_type": "stream",
     "text": [
      "<class 'pandas.core.frame.DataFrame'>\n",
      "RangeIndex: 1524 entries, 0 to 1523\n",
      "Data columns (total 20 columns):\n",
      " #   Column                                  Non-Null Count  Dtype \n",
      "---  ------                                  --------------  ----- \n",
      " 0   index                                   1524 non-null   int64 \n",
      " 1   cf_to_private_sector                    1524 non-null   bool  \n",
      " 2   cf_health                               1524 non-null   bool  \n",
      " 3   cf_family                               1524 non-null   bool  \n",
      " 4   cf_dept_dissatisfaction                 1524 non-null   bool  \n",
      " 5   cf_job_dissatisfaction                  1524 non-null   bool  \n",
      " 6   cf_interpersonal_conflict               1524 non-null   bool  \n",
      " 7   cf_other                                1524 non-null   bool  \n",
      " 8   institute_recognition                   1524 non-null   bool  \n",
      " 9   institute_job_security                  1524 non-null   bool  \n",
      " 10  dept_workload                           1524 non-null   bool  \n",
      " 11  dept_work_life_balance                  1524 non-null   bool  \n",
      " 12  dept_work_environment                   1524 non-null   bool  \n",
      " 13  gender                                  1524 non-null   object\n",
      " 14  age                                     1407 non-null   object\n",
      " 15  service_years                           1293 non-null   object\n",
      " 16  exit_year                               1524 non-null   int64 \n",
      " 17  college                                 1524 non-null   object\n",
      " 18  cf_dept_or_job_cf_dept_dissatisfaction  1524 non-null   bool  \n",
      " 19  cf_dept_or_job_dissatisfaction          1524 non-null   bool  \n",
      "dtypes: bool(14), int64(2), object(4)\n",
      "memory usage: 92.4+ KB\n"
     ]
    }
   ],
   "source": [
    "# Since cf_job and cf_dept are broadly the same, we can combine these into one dataframe by OR \n",
    "\n",
    "exit_survey['cf_dept_or_job_dissatisfaction'] = dissatisfied = exit_survey['cf_dept_dissatisfaction'] | exit_survey['cf_job_dissatisfaction']"
   ]
  },
  {
   "cell_type": "code",
   "execution_count": 94,
   "id": "cfcef425",
   "metadata": {},
   "outputs": [],
   "source": [
    "#exit_survey.drop('cf_dept_or_job_cf_dept_dissatisfaction', axis=1, inplace=True)"
   ]
  },
  {
   "cell_type": "code",
   "execution_count": 96,
   "id": "335d2df0",
   "metadata": {},
   "outputs": [
    {
     "data": {
      "text/plain": [
       "<AxesSubplot:title={'center':'Job Dissatisfaction as a CF by Age'}, xlabel='age'>"
      ]
     },
     "execution_count": 96,
     "metadata": {},
     "output_type": "execute_result"
    },
    {
     "data": {
      "image/png": "[encoded data removed]",
      "text/plain": [
       "<Figure size 432x288 with 1 Axes>"
      ]
     },
     "metadata": {
      "needs_background": "light"
     },
     "output_type": "display_data"
    }
   ],
   "source": [
    "pv_age = exit_survey.pivot_table(values='cf_dept_or_job_dissatisfaction', index='age', aggfunc=np.sum, margins=True)\n",
    "pv_age.plot(kind='bar', xlim=((0,10)), title='Job Dissatisfaction as a CF by Age', legend=False)"
   ]
  },
  {
   "cell_type": "code",
   "execution_count": 186,
   "id": "a2c936bf",
   "metadata": {},
   "outputs": [
    {
     "name": "stdout",
     "output_type": "stream",
     "text": [
      "        cf_dept_or_job_dissatisfaction\n",
      "gender                                \n",
      "Female                             149\n",
      "Male                                92\n",
      "All                                241\n"
     ]
    },
    {
     "data": {
      "text/plain": [
       "<AxesSubplot:title={'center':'Dept Dissatisfaction as a CF by Gender'}, xlabel='gender'>"
      ]
     },
     "execution_count": 186,
     "metadata": {},
     "output_type": "execute_result"
    },
    {
     "data": {
      "image/png": "[encoded data removed]",
      "text/plain": [
       "<Figure size 432x288 with 1 Axes>"
      ]
     },
     "metadata": {
      "needs_background": "light"
     },
     "output_type": "display_data"
    }
   ],
   "source": [
    "pv_gender = exit_survey.pivot_table(values='cf_dept_or_job_dissatisfaction', index='gender', aggfunc=np.sum, margins=True)\n",
    "print(pv_gender)\n",
    "pv_gender.plot(kind='bar', xlim=((0,10)), title='Dept Dissatisfaction as a CF by Gender', legend=False)"
   ]
  },
  {
   "cell_type": "code",
   "execution_count": 187,
   "id": "da5f7929",
   "metadata": {},
   "outputs": [
    {
     "data": {
      "text/html": [
       "<div>\n",
       "<style scoped>\n",
       "    .dataframe tbody tr th:only-of-type {\n",
       "        vertical-align: middle;\n",
       "    }\n",
       "\n",
       "    .dataframe tbody tr th {\n",
       "        vertical-align: top;\n",
       "    }\n",
       "\n",
       "    .dataframe thead th {\n",
       "        text-align: right;\n",
       "    }\n",
       "</style>\n",
       "<table border=\"1\" class=\"dataframe\">\n",
       "  <thead>\n",
       "    <tr style=\"text-align: right;\">\n",
       "      <th></th>\n",
       "      <th>cf_dept_or_job_dissatisfaction</th>\n",
       "      <th>perc_gender</th>\n",
       "      <th>all_perc_gender</th>\n",
       "    </tr>\n",
       "    <tr>\n",
       "      <th>gender</th>\n",
       "      <th></th>\n",
       "      <th></th>\n",
       "      <th></th>\n",
       "    </tr>\n",
       "  </thead>\n",
       "  <tbody>\n",
       "    <tr>\n",
       "      <th>Female</th>\n",
       "      <td>149</td>\n",
       "      <td>30.912863</td>\n",
       "      <td>68.569554</td>\n",
       "    </tr>\n",
       "    <tr>\n",
       "      <th>Male</th>\n",
       "      <td>92</td>\n",
       "      <td>19.087137</td>\n",
       "      <td>31.430446</td>\n",
       "    </tr>\n",
       "  </tbody>\n",
       "</table>\n",
       "</div>"
      ],
      "text/plain": [
       "        cf_dept_or_job_dissatisfaction  perc_gender  all_perc_gender\n",
       "gender                                                              \n",
       "Female                             149    30.912863        68.569554\n",
       "Male                                92    19.087137        31.430446"
      ]
     },
     "execution_count": 187,
     "metadata": {},
     "output_type": "execute_result"
    }
   ],
   "source": [
    "pv_gender['perc_gender'] = (pv_gender['cf_dept_or_job_dissatisfaction']/pv_gender['cf_dept_or_job_dissatisfaction'].sum())*100\n",
    "\n",
    "all_gender = exit_survey['gender'].value_counts()\n",
    "\n",
    "pv_gender['all_perc_gender'] = (all_gender/all_gender.sum())*100\n",
    "#pv_gender.drop('All', axis=0, inplace=True)\n",
    "\n",
    "pv_gender"
   ]
  },
  {
   "cell_type": "code",
   "execution_count": 188,
   "id": "6210da06",
   "metadata": {},
   "outputs": [
    {
     "data": {
      "text/plain": [
       "<AxesSubplot:ylabel='perc_gender'>"
      ]
     },
     "execution_count": 188,
     "metadata": {},
     "output_type": "execute_result"
    },
    {
     "data": {
      "image/png": "[encoded data removed]",
      "text/plain": [
       "<Figure size 432x288 with 1 Axes>"
      ]
     },
     "metadata": {},
     "output_type": "display_data"
    }
   ],
   "source": [
    "pv_gender.plot(kind='pie', y='perc_gender')"
   ]
  },
  {
   "cell_type": "code",
   "execution_count": 228,
   "id": "258ebf32",
   "metadata": {},
   "outputs": [
    {
     "data": {
      "text/plain": [
       "<AxesSubplot:ylabel='all_perc_gender'>"
      ]
     },
     "execution_count": 228,
     "metadata": {},
     "output_type": "execute_result"
    },
    {
     "data": {
      "image/png": "[encoded data removed]",
      "text/plain": [
       "<Figure size 432x288 with 1 Axes>"
      ]
     },
     "metadata": {},
     "output_type": "display_data"
    }
   ],
   "source": [
    "pv_gender.plot(kind='pie', y='all_perc_gender')"
   ]
  },
  {
   "cell_type": "code",
   "execution_count": 219,
   "id": "cdb3f031",
   "metadata": {},
   "outputs": [
    {
     "data": {
      "text/html": [
       "<div>\n",
       "<style scoped>\n",
       "    .dataframe tbody tr th:only-of-type {\n",
       "        vertical-align: middle;\n",
       "    }\n",
       "\n",
       "    .dataframe tbody tr th {\n",
       "        vertical-align: top;\n",
       "    }\n",
       "\n",
       "    .dataframe thead th {\n",
       "        text-align: right;\n",
       "    }\n",
       "</style>\n",
       "<table border=\"1\" class=\"dataframe\">\n",
       "  <thead>\n",
       "    <tr style=\"text-align: right;\">\n",
       "      <th></th>\n",
       "      <th>cf_dept_or_job_dissatisfaction</th>\n",
       "      <th>perc_gender</th>\n",
       "      <th>all_perc_gender</th>\n",
       "    </tr>\n",
       "  </thead>\n",
       "  <tbody>\n",
       "    <tr>\n",
       "      <th>Female</th>\n",
       "      <td>149</td>\n",
       "      <td>30.912863</td>\n",
       "      <td>68.569554</td>\n",
       "    </tr>\n",
       "    <tr>\n",
       "      <th>Male</th>\n",
       "      <td>92</td>\n",
       "      <td>19.087137</td>\n",
       "      <td>31.430446</td>\n",
       "    </tr>\n",
       "    <tr>\n",
       "      <th>Male_x</th>\n",
       "      <td>0</td>\n",
       "      <td>0.000000</td>\n",
       "      <td>6.743828</td>\n",
       "    </tr>\n",
       "  </tbody>\n",
       "</table>\n",
       "</div>"
      ],
      "text/plain": [
       "        cf_dept_or_job_dissatisfaction  perc_gender  all_perc_gender\n",
       "Female                             149    30.912863        68.569554\n",
       "Male                                92    19.087137        31.430446\n",
       "Male_x                               0     0.000000         6.743828"
      ]
     },
     "execution_count": 219,
     "metadata": {},
     "output_type": "execute_result"
    }
   ],
   "source": [
    "diff = 38.174274 - 31.430446\n",
    "gender_diff = {'cf_dept_or_job_dissatisfaction':0, 'perc_gender':0, 'all_perc_gender': diff}\n",
    "df_row = pd.DataFrame(data=gender_diff, index=['Male_x'])\n",
    "pv_gender_diff = pv_gender\n",
    "\n",
    "#pv_gender_diff = pd.concat([pv_gender_diff,df_row])\n",
    "pv_gender_diff"
   ]
  },
  {
   "cell_type": "code",
   "execution_count": 229,
   "id": "0e1f8517",
   "metadata": {},
   "outputs": [
    {
     "data": {
      "text/plain": [
       "<AxesSubplot:ylabel='all_perc_gender'>"
      ]
     },
     "execution_count": 229,
     "metadata": {},
     "output_type": "execute_result"
    },
    {
     "data": {
      "image/png": "[encoded data removed]",
      "text/plain": [
       "<Figure size 432x288 with 1 Axes>"
      ]
     },
     "metadata": {},
     "output_type": "display_data"
    }
   ],
   "source": [
    "pv_gender_diff.plot(kind='pie', y='all_perc_gender')"
   ]
  },
  {
   "cell_type": "code",
   "execution_count": 364,
   "id": "8badeeae",
   "metadata": {},
   "outputs": [
    {
     "data": {
      "image/png": "[encoded data removed]",
      "text/plain": [
       "<Figure size 1000x300 with 3 Axes>"
      ]
     },
     "metadata": {},
     "output_type": "display_data"
    }
   ],
   "source": [
    "fig1, (ax1,ax2,ax3) = plt.subplots(ncols=3, nrows=1, figsize=((10,3)))\n",
    "\n",
    "style.use('default')\n",
    "style.use('fivethirtyeight')\n",
    "\n",
    "explode = (0, 0, 0.1)  # only \"explode\" the 2nd slice (i.e. 'Hogs')\n",
    "\n",
    "ax1.pie(x=pv_gender['all_perc_gender'], startangle=23)\n",
    "ax2.pie(x=pv_gender['perc_gender'], startangle=47)\n",
    "ax3.pie(x=pv_gender_diff['all_perc_gender'], startangle=39, explode=explode)\n",
    "\n",
    "ax1.set_title('Gender Split\\nTAFE & DETE', size=17,color='grey')\n",
    "ax2.set_title('Gender Split\\nDissatisfied', size=17,color='grey')\n",
    "ax3.set_title('Gender Most\\nDissatisfied', size=17,color='grey')\n",
    "\n",
    "ax1.axis('equal')\n",
    "ax2.axis('equal')\n",
    "ax3.axis('equal')\n",
    "\n",
    "ax1.text(x=-1, y=-1.3, s='Men\\'s Reason For Leaving More Likely to Be Dissatisfaction at Work',size=18,color='dimgray')\n",
    "x_pos = 0.3\n",
    "y_pos = -0.3\n",
    "\n",
    "axes=[ax1,ax2,ax3]\n",
    "\n",
    "for ax in axes:\n",
    "    ax.text(x=x_pos, y=y_pos, s='Men', size=15, weight='bold',color='white')\n",
    "    ax.text(x=x_pos-1, y=y_pos, s='Women',size=15, weight='bold',color='white')\n",
    "\n",
    "ax3.text(x=0.75, y=0.38, s='7%',size=15, weight='bold',color='black')\n",
    "#plt.savefig('gender_and_dissatisfaction.png')\n",
    "plt.show()"
   ]
  },
  {
   "cell_type": "code",
   "execution_count": 346,
   "id": "5f215259",
   "metadata": {},
   "outputs": [
    {
     "data": {
      "text/plain": [
       "<Figure size 640x480 with 0 Axes>"
      ]
     },
     "metadata": {},
     "output_type": "display_data"
    }
   ],
   "source": []
  }
 ],
 "metadata": {
  "kernelspec": {
   "display_name": "jpython",
   "language": "python",
   "name": "jpython"
  },
  "language_info": {
   "codemirror_mode": {
    "name": "ipython",
    "version": 3
   },
   "file_extension": ".py",
   "mimetype": "text/x-python",
   "name": "python",
   "nbconvert_exporter": "python",
   "pygments_lexer": "ipython3",
   "version": "3.9.2"
  }
 },
 "nbformat": 4,
 "nbformat_minor": 5
}
