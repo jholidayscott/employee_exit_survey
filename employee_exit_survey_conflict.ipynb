{
 "cells": [
  {
   "cell_type": "markdown",
   "id": "662ff8a5",
   "metadata": {},
   "source": [
    "# Employee Exit Survey\n",
    "\n",
    "## The Client\n",
    "TAFE and DETE are vocational colleges in Australia. They have been doing exit surveys for a while and have now gathered a dataset of about 1600 results which they would like analysed. The client is focussed on internal contributing factors.\n",
    "\n",
    "## Aims of Analysis: Dissatisfaction\n",
    "The client has asked for a report to help them understand the results of their recent exit survey.\n",
    "\n",
    "They wish to understand the profile of employees who cite dissatisfaction as a contributing factor to their exit from the organisation.\n",
    "\n",
    "Leadership wants to understand where to target retention improvement strategies."
   ]
  },
  {
   "cell_type": "markdown",
   "id": "5514962a",
   "metadata": {},
   "source": [
    "# Visualisations"
   ]
  },
  {
   "cell_type": "markdown",
   "id": "063dafb6",
   "metadata": {},
   "source": [
    "## Notebooks and Reports\n",
    "The following notebooks and documents are part of this anaylsis:\n",
    "\n",
    "### Jupyter Notebook Filename: Summary\n",
    "- [employee_exit_survey_cleaning_1.ibynb](https://github.com/jholidayscott/employee_exit_survey/blob/main/employee_exit_survey_cleaning_1.ipynb): Columns drops, missing data, renaming columns, tidying data for consistency\n",
    "- [employee_exit_survey_cleaning_2.ibynb](https://github.com/jholidayscott/employee_exit_survey/blob/main/employee_exit_survey_cleaning_2.ipynb): Adding calculated columns, adding category columns, further drops\n",
    "- [employee_exit_survey_correlation.ibynb](https://github.com/jholidayscott/employee_exit_survey/blob/main/employee_exit_survey_correlation.ipynb): Investigating correlations to guide analysis\n",
    "- [employee_exit_survey_gender.ibynb](https://github.com/jholidayscott/employee_exit_survey/blob/main/employee_exit_survey_gender.ipynb): Aggregation by pivot_table of gender subsets, visualisations\n",
    "- [employee_exit_survey_age.ibynb](https://github.com/jholidayscott/employee_exit_survey/blob/main/employee_exit_survey_age.ipynb): Aggregation by pivot_table of age subsets, visualisations\n",
    "- [employee_exit_survey_conflict.ibynb](https://github.com/jholidayscott/employee_exit_survey/blob/main/employee_exit_survey_conflict.ipynb): Exploration of conflict as a contributory factor"
   ]
  },
  {
   "cell_type": "code",
   "execution_count": 36,
   "id": "70f0ae71",
   "metadata": {},
   "outputs": [],
   "source": [
    "import pandas as pd\n",
    "import numpy as np\n",
    "import matplotlib.pyplot as plt\n",
    "import matplotlib.style as style"
   ]
  },
  {
   "cell_type": "code",
   "execution_count": 2,
   "id": "fb322db5",
   "metadata": {},
   "outputs": [],
   "source": [
    "survey = pd.read_csv('employee_exit_survey_clean_final.csv')"
   ]
  },
  {
   "cell_type": "code",
   "execution_count": 3,
   "id": "115c320e",
   "metadata": {},
   "outputs": [],
   "source": [
    "# Slice out the columns we want going forward\n",
    "keep_cols = [\n",
    "    'cf_dept_or_job_dissatisfaction',\n",
    "    'cf_interpersonal_conflict',\n",
    "    'gender',\n",
    "    'age',\n",
    "    'service_years',\n",
    "    'college',\n",
    "]\n",
    "\n",
    "survey = survey[keep_cols]"
   ]
  },
  {
   "cell_type": "code",
   "execution_count": 137,
   "id": "f939728e",
   "metadata": {},
   "outputs": [
    {
     "name": "stdout",
     "output_type": "stream",
     "text": [
      "<class 'pandas.core.frame.DataFrame'>\n",
      "RangeIndex: 1524 entries, 0 to 1523\n",
      "Data columns (total 6 columns):\n",
      " #   Column                          Non-Null Count  Dtype \n",
      "---  ------                          --------------  ----- \n",
      " 0   cf_dept_or_job_dissatisfaction  1524 non-null   bool  \n",
      " 1   cf_interpersonal_conflict       1524 non-null   bool  \n",
      " 2   gender                          1524 non-null   object\n",
      " 3   age                             1407 non-null   object\n",
      " 4   service_years                   1293 non-null   object\n",
      " 5   college                         1524 non-null   object\n",
      "dtypes: bool(2), object(4)\n",
      "memory usage: 50.7+ KB\n"
     ]
    }
   ],
   "source": [
    "survey.info()"
   ]
  },
  {
   "cell_type": "markdown",
   "id": "5779cbd9",
   "metadata": {},
   "source": [
    "## Conflic and Gender"
   ]
  },
  {
   "cell_type": "code",
   "execution_count": 5,
   "id": "a68fe88a",
   "metadata": {},
   "outputs": [
    {
     "name": "stdout",
     "output_type": "stream",
     "text": [
      "        cf_interpersonal_conflict\n",
      "gender                           \n",
      "Female                         42\n",
      "Male                           19\n"
     ]
    },
    {
     "data": {
      "text/plain": [
       "Female    1045\n",
       "Male       479\n",
       "Name: gender, dtype: int64"
      ]
     },
     "execution_count": 5,
     "metadata": {},
     "output_type": "execute_result"
    }
   ],
   "source": [
    "pv_gender = survey.pivot_table(values='cf_interpersonal_conflict', index='gender', aggfunc=np.sum, margins=False)\n",
    "print(pv_gender)\n",
    "survey['gender'].value_counts()"
   ]
  },
  {
   "cell_type": "markdown",
   "id": "0aafcbb8",
   "metadata": {},
   "source": [
    "No connection between interpersonal conflict and gender."
   ]
  },
  {
   "cell_type": "markdown",
   "id": "5f851c9b",
   "metadata": {},
   "source": [
    "## Conflict and Age"
   ]
  },
  {
   "cell_type": "code",
   "execution_count": 6,
   "id": "37bcdc72",
   "metadata": {},
   "outputs": [
    {
     "name": "stdout",
     "output_type": "stream",
     "text": [
      "False    1463\n",
      "True       61\n",
      "Name: cf_interpersonal_conflict, dtype: int64\n",
      "       cf_interpersonal_conflict\n",
      "age                             \n",
      "18-20                          1\n",
      "21-25                          2\n",
      "26-30                          4\n",
      "31-35                          2\n",
      "36-40                          7\n",
      "41-45                          3\n",
      "46-50                          8\n",
      "51-55                         13\n",
      "56+                           14\n"
     ]
    },
    {
     "data": {
      "text/plain": [
       "18-20     17\n",
       "21-25     84\n",
       "26-30    107\n",
       "31-35     91\n",
       "36-40    102\n",
       "41-45    141\n",
       "46-50    122\n",
       "51-55    185\n",
       "56+      558\n",
       "Name: age, dtype: int64"
      ]
     },
     "execution_count": 6,
     "metadata": {},
     "output_type": "execute_result"
    }
   ],
   "source": [
    "print(survey['cf_interpersonal_conflict'].value_counts())\n",
    "pv_age = survey.pivot_table(values='cf_interpersonal_conflict', index='age', aggfunc=np.sum, margins=False)\n",
    "print(pv_age)\n",
    "survey['age'].value_counts().sort_index(ascending=True)"
   ]
  },
  {
   "cell_type": "code",
   "execution_count": 7,
   "id": "1e5467ab",
   "metadata": {},
   "outputs": [],
   "source": [
    "pv_age['all'] = survey['age'].value_counts().sort_index(ascending=True)"
   ]
  },
  {
   "cell_type": "code",
   "execution_count": 8,
   "id": "021d3625",
   "metadata": {},
   "outputs": [],
   "source": [
    "pv_age.rename(columns={'cf_interpersonal_conflict':'conflict'}, inplace=True)"
   ]
  },
  {
   "cell_type": "code",
   "execution_count": 139,
   "id": "fe0b1703",
   "metadata": {},
   "outputs": [],
   "source": [
    "pv_age['conflict_perc'] = round(pv_age['conflict']/pv_age['all']*100)"
   ]
  },
  {
   "cell_type": "code",
   "execution_count": 145,
   "id": "b5d710ce",
   "metadata": {},
   "outputs": [
    {
     "data": {
      "text/html": [
       "<div>\n",
       "<style scoped>\n",
       "    .dataframe tbody tr th:only-of-type {\n",
       "        vertical-align: middle;\n",
       "    }\n",
       "\n",
       "    .dataframe tbody tr th {\n",
       "        vertical-align: top;\n",
       "    }\n",
       "\n",
       "    .dataframe thead th {\n",
       "        text-align: right;\n",
       "    }\n",
       "</style>\n",
       "<table border=\"1\" class=\"dataframe\">\n",
       "  <thead>\n",
       "    <tr style=\"text-align: right;\">\n",
       "      <th></th>\n",
       "      <th>conflict_perc</th>\n",
       "    </tr>\n",
       "    <tr>\n",
       "      <th>age</th>\n",
       "      <th></th>\n",
       "    </tr>\n",
       "  </thead>\n",
       "  <tbody>\n",
       "    <tr>\n",
       "      <th>18-20</th>\n",
       "      <td>6.0</td>\n",
       "    </tr>\n",
       "    <tr>\n",
       "      <th>21-25</th>\n",
       "      <td>2.0</td>\n",
       "    </tr>\n",
       "    <tr>\n",
       "      <th>26-30</th>\n",
       "      <td>4.0</td>\n",
       "    </tr>\n",
       "    <tr>\n",
       "      <th>31-35</th>\n",
       "      <td>2.0</td>\n",
       "    </tr>\n",
       "    <tr>\n",
       "      <th>36-40</th>\n",
       "      <td>7.0</td>\n",
       "    </tr>\n",
       "    <tr>\n",
       "      <th>41-45</th>\n",
       "      <td>2.0</td>\n",
       "    </tr>\n",
       "    <tr>\n",
       "      <th>46-50</th>\n",
       "      <td>7.0</td>\n",
       "    </tr>\n",
       "    <tr>\n",
       "      <th>51-55</th>\n",
       "      <td>7.0</td>\n",
       "    </tr>\n",
       "    <tr>\n",
       "      <th>56+</th>\n",
       "      <td>3.0</td>\n",
       "    </tr>\n",
       "  </tbody>\n",
       "</table>\n",
       "</div>"
      ],
      "text/plain": [
       "       conflict_perc\n",
       "age                 \n",
       "18-20            6.0\n",
       "21-25            2.0\n",
       "26-30            4.0\n",
       "31-35            2.0\n",
       "36-40            7.0\n",
       "41-45            2.0\n",
       "46-50            7.0\n",
       "51-55            7.0\n",
       "56+              3.0"
      ]
     },
     "execution_count": 145,
     "metadata": {},
     "output_type": "execute_result"
    }
   ],
   "source": [
    "#pv_age.drop('conflict', axis=1, inplace=True)\n",
    "pv_age"
   ]
  },
  {
   "cell_type": "markdown",
   "id": "d48c0fe5",
   "metadata": {},
   "source": [
    "Small values, so conclusions have to be cautious...\n",
    "\n",
    "But it does seem like some age groups experience high amounts of interpersonal confict compared to others - over triple.\n",
    "\n",
    "Interesting to explore if dissatisfaction CF correlates."
   ]
  },
  {
   "cell_type": "code",
   "execution_count": 156,
   "id": "16befe4d",
   "metadata": {},
   "outputs": [],
   "source": [
    "pv_age_diss = survey.pivot_table(values='cf_dept_or_job_dissatisfaction', index='age', aggfunc=np.sum, margins=False)\n",
    "pv_age_diss['all'] = survey['age'].value_counts().sort_index(ascending=True)\n",
    "pv_age_diss.rename(columns={'cf_dept_or_job_dissatisfaction':'dissatisfied'}, inplace=True)\n",
    "pv_age_diss['diss_perc'] = round(pv_age_diss['dissatisfied']/pv_age_diss['all']*100)\n",
    "pv_age_diss.drop('dissatisfied', axis=1, inplace=True)\n",
    "pv_age_diss.drop('all', axis=1, inplace=True)"
   ]
  },
  {
   "cell_type": "code",
   "execution_count": 158,
   "id": "a5834af1",
   "metadata": {},
   "outputs": [
    {
     "data": {
      "text/html": [
       "<div>\n",
       "<style scoped>\n",
       "    .dataframe tbody tr th:only-of-type {\n",
       "        vertical-align: middle;\n",
       "    }\n",
       "\n",
       "    .dataframe tbody tr th {\n",
       "        vertical-align: top;\n",
       "    }\n",
       "\n",
       "    .dataframe thead th {\n",
       "        text-align: right;\n",
       "    }\n",
       "</style>\n",
       "<table border=\"1\" class=\"dataframe\">\n",
       "  <thead>\n",
       "    <tr style=\"text-align: right;\">\n",
       "      <th></th>\n",
       "      <th>diss_perc</th>\n",
       "    </tr>\n",
       "    <tr>\n",
       "      <th>age</th>\n",
       "      <th></th>\n",
       "    </tr>\n",
       "  </thead>\n",
       "  <tbody>\n",
       "    <tr>\n",
       "      <th>18-20</th>\n",
       "      <td>12.0</td>\n",
       "    </tr>\n",
       "    <tr>\n",
       "      <th>21-25</th>\n",
       "      <td>18.0</td>\n",
       "    </tr>\n",
       "    <tr>\n",
       "      <th>26-30</th>\n",
       "      <td>20.0</td>\n",
       "    </tr>\n",
       "    <tr>\n",
       "      <th>31-35</th>\n",
       "      <td>19.0</td>\n",
       "    </tr>\n",
       "    <tr>\n",
       "      <th>36-40</th>\n",
       "      <td>17.0</td>\n",
       "    </tr>\n",
       "    <tr>\n",
       "      <th>41-45</th>\n",
       "      <td>15.0</td>\n",
       "    </tr>\n",
       "    <tr>\n",
       "      <th>46-50</th>\n",
       "      <td>18.0</td>\n",
       "    </tr>\n",
       "    <tr>\n",
       "      <th>51-55</th>\n",
       "      <td>20.0</td>\n",
       "    </tr>\n",
       "    <tr>\n",
       "      <th>56+</th>\n",
       "      <td>13.0</td>\n",
       "    </tr>\n",
       "  </tbody>\n",
       "</table>\n",
       "</div>"
      ],
      "text/plain": [
       "       diss_perc\n",
       "age             \n",
       "18-20       12.0\n",
       "21-25       18.0\n",
       "26-30       20.0\n",
       "31-35       19.0\n",
       "36-40       17.0\n",
       "41-45       15.0\n",
       "46-50       18.0\n",
       "51-55       20.0\n",
       "56+         13.0"
      ]
     },
     "execution_count": 158,
     "metadata": {},
     "output_type": "execute_result"
    }
   ],
   "source": [
    "pv_age_diss"
   ]
  },
  {
   "cell_type": "code",
   "execution_count": 159,
   "id": "79433df3",
   "metadata": {},
   "outputs": [],
   "source": [
    "pv_age['diss_perc'] = pv_age_diss"
   ]
  },
  {
   "cell_type": "code",
   "execution_count": 169,
   "id": "20f5a5a2",
   "metadata": {},
   "outputs": [
    {
     "data": {
      "text/html": [
       "<div>\n",
       "<style scoped>\n",
       "    .dataframe tbody tr th:only-of-type {\n",
       "        vertical-align: middle;\n",
       "    }\n",
       "\n",
       "    .dataframe tbody tr th {\n",
       "        vertical-align: top;\n",
       "    }\n",
       "\n",
       "    .dataframe thead th {\n",
       "        text-align: right;\n",
       "    }\n",
       "</style>\n",
       "<table border=\"1\" class=\"dataframe\">\n",
       "  <thead>\n",
       "    <tr style=\"text-align: right;\">\n",
       "      <th></th>\n",
       "      <th>conflict_perc</th>\n",
       "      <th>diss_perc</th>\n",
       "    </tr>\n",
       "  </thead>\n",
       "  <tbody>\n",
       "    <tr>\n",
       "      <th>conflict_perc</th>\n",
       "      <td>1.000000</td>\n",
       "      <td>0.082409</td>\n",
       "    </tr>\n",
       "    <tr>\n",
       "      <th>diss_perc</th>\n",
       "      <td>0.082409</td>\n",
       "      <td>1.000000</td>\n",
       "    </tr>\n",
       "  </tbody>\n",
       "</table>\n",
       "</div>"
      ],
      "text/plain": [
       "               conflict_perc  diss_perc\n",
       "conflict_perc       1.000000   0.082409\n",
       "diss_perc           0.082409   1.000000"
      ]
     },
     "execution_count": 169,
     "metadata": {},
     "output_type": "execute_result"
    }
   ],
   "source": [
    "pv_age.corr()"
   ]
  },
  {
   "cell_type": "markdown",
   "id": "8f10016c",
   "metadata": {},
   "source": [
    "There is nothing here. There is clearly something going on with age causing conflict, but it does not map across to dissatisfaction as a reason for leaving."
   ]
  },
  {
   "cell_type": "markdown",
   "id": "b7e3ce27",
   "metadata": {},
   "source": [
    "## Conflict and Years of Service"
   ]
  },
  {
   "cell_type": "code",
   "execution_count": 11,
   "id": "ab1c9bf1",
   "metadata": {},
   "outputs": [
    {
     "data": {
      "text/html": [
       "<div>\n",
       "<style scoped>\n",
       "    .dataframe tbody tr th:only-of-type {\n",
       "        vertical-align: middle;\n",
       "    }\n",
       "\n",
       "    .dataframe tbody tr th {\n",
       "        vertical-align: top;\n",
       "    }\n",
       "\n",
       "    .dataframe thead th {\n",
       "        text-align: right;\n",
       "    }\n",
       "</style>\n",
       "<table border=\"1\" class=\"dataframe\">\n",
       "  <thead>\n",
       "    <tr style=\"text-align: right;\">\n",
       "      <th></th>\n",
       "      <th>cf_interpersonal_conflict</th>\n",
       "    </tr>\n",
       "    <tr>\n",
       "      <th>service_years</th>\n",
       "      <th></th>\n",
       "    </tr>\n",
       "  </thead>\n",
       "  <tbody>\n",
       "    <tr>\n",
       "      <th>1 to 2 Years</th>\n",
       "      <td>7</td>\n",
       "    </tr>\n",
       "    <tr>\n",
       "      <th>11 to 20 Years</th>\n",
       "      <td>7</td>\n",
       "    </tr>\n",
       "    <tr>\n",
       "      <th>20 Plus Years</th>\n",
       "      <td>9</td>\n",
       "    </tr>\n",
       "    <tr>\n",
       "      <th>3 to 4 Years</th>\n",
       "      <td>10</td>\n",
       "    </tr>\n",
       "    <tr>\n",
       "      <th>5 to 6 Years</th>\n",
       "      <td>6</td>\n",
       "    </tr>\n",
       "    <tr>\n",
       "      <th>7 to 10 Years</th>\n",
       "      <td>5</td>\n",
       "    </tr>\n",
       "    <tr>\n",
       "      <th>Under 1 Year</th>\n",
       "      <td>8</td>\n",
       "    </tr>\n",
       "  </tbody>\n",
       "</table>\n",
       "</div>"
      ],
      "text/plain": [
       "                cf_interpersonal_conflict\n",
       "service_years                            \n",
       "1 to 2 Years                            7\n",
       "11 to 20 Years                          7\n",
       "20 Plus Years                           9\n",
       "3 to 4 Years                           10\n",
       "5 to 6 Years                            6\n",
       "7 to 10 Years                           5\n",
       "Under 1 Year                            8"
      ]
     },
     "execution_count": 11,
     "metadata": {},
     "output_type": "execute_result"
    }
   ],
   "source": [
    "pv_service_conflict = survey.pivot_table(values='cf_interpersonal_conflict', index='service_years', aggfunc=np.sum)\n",
    "pv_service_conflict"
   ]
  },
  {
   "cell_type": "code",
   "execution_count": 12,
   "id": "cd5c36fe",
   "metadata": {},
   "outputs": [
    {
     "data": {
      "text/plain": [
       "11 to 20 Years    234\n",
       "20 Plus Years     216\n",
       "Under 1 Year      213\n",
       "1 to 2 Years      212\n",
       "3 to 4 Years      185\n",
       "7 to 10 Years     123\n",
       "5 to 6 Years      110\n",
       "Name: service_years, dtype: int64"
      ]
     },
     "execution_count": 12,
     "metadata": {},
     "output_type": "execute_result"
    }
   ],
   "source": [
    "survey['service_years'].value_counts()"
   ]
  },
  {
   "cell_type": "code",
   "execution_count": 13,
   "id": "537d2539",
   "metadata": {},
   "outputs": [
    {
     "data": {
      "text/html": [
       "<div>\n",
       "<style scoped>\n",
       "    .dataframe tbody tr th:only-of-type {\n",
       "        vertical-align: middle;\n",
       "    }\n",
       "\n",
       "    .dataframe tbody tr th {\n",
       "        vertical-align: top;\n",
       "    }\n",
       "\n",
       "    .dataframe thead th {\n",
       "        text-align: right;\n",
       "    }\n",
       "</style>\n",
       "<table border=\"1\" class=\"dataframe\">\n",
       "  <thead>\n",
       "    <tr style=\"text-align: right;\">\n",
       "      <th></th>\n",
       "      <th>cf_interpersonal_conflict</th>\n",
       "      <th>all</th>\n",
       "      <th>perc_conf</th>\n",
       "    </tr>\n",
       "    <tr>\n",
       "      <th>service_years</th>\n",
       "      <th></th>\n",
       "      <th></th>\n",
       "      <th></th>\n",
       "    </tr>\n",
       "  </thead>\n",
       "  <tbody>\n",
       "    <tr>\n",
       "      <th>1 to 2 Years</th>\n",
       "      <td>7</td>\n",
       "      <td>212</td>\n",
       "      <td>3.0</td>\n",
       "    </tr>\n",
       "    <tr>\n",
       "      <th>11 to 20 Years</th>\n",
       "      <td>7</td>\n",
       "      <td>234</td>\n",
       "      <td>3.0</td>\n",
       "    </tr>\n",
       "    <tr>\n",
       "      <th>20 Plus Years</th>\n",
       "      <td>9</td>\n",
       "      <td>216</td>\n",
       "      <td>4.0</td>\n",
       "    </tr>\n",
       "    <tr>\n",
       "      <th>3 to 4 Years</th>\n",
       "      <td>10</td>\n",
       "      <td>185</td>\n",
       "      <td>5.0</td>\n",
       "    </tr>\n",
       "    <tr>\n",
       "      <th>5 to 6 Years</th>\n",
       "      <td>6</td>\n",
       "      <td>110</td>\n",
       "      <td>5.0</td>\n",
       "    </tr>\n",
       "    <tr>\n",
       "      <th>7 to 10 Years</th>\n",
       "      <td>5</td>\n",
       "      <td>123</td>\n",
       "      <td>4.0</td>\n",
       "    </tr>\n",
       "    <tr>\n",
       "      <th>Under 1 Year</th>\n",
       "      <td>8</td>\n",
       "      <td>213</td>\n",
       "      <td>4.0</td>\n",
       "    </tr>\n",
       "  </tbody>\n",
       "</table>\n",
       "</div>"
      ],
      "text/plain": [
       "                cf_interpersonal_conflict  all  perc_conf\n",
       "service_years                                            \n",
       "1 to 2 Years                            7  212        3.0\n",
       "11 to 20 Years                          7  234        3.0\n",
       "20 Plus Years                           9  216        4.0\n",
       "3 to 4 Years                           10  185        5.0\n",
       "5 to 6 Years                            6  110        5.0\n",
       "7 to 10 Years                           5  123        4.0\n",
       "Under 1 Year                            8  213        4.0"
      ]
     },
     "execution_count": 13,
     "metadata": {},
     "output_type": "execute_result"
    }
   ],
   "source": [
    "pv_service_conflict['all'] = survey['service_years'].value_counts()\n",
    "pv_service_conflict['perc_conf'] = round(pv_service_conflict['cf_interpersonal_conflict']/pv_service_conflict['all']*100)\n",
    "pv_service_conflict"
   ]
  },
  {
   "cell_type": "code",
   "execution_count": 14,
   "id": "e0ea7214",
   "metadata": {},
   "outputs": [
    {
     "data": {
      "text/html": [
       "<div>\n",
       "<style scoped>\n",
       "    .dataframe tbody tr th:only-of-type {\n",
       "        vertical-align: middle;\n",
       "    }\n",
       "\n",
       "    .dataframe tbody tr th {\n",
       "        vertical-align: top;\n",
       "    }\n",
       "\n",
       "    .dataframe thead th {\n",
       "        text-align: right;\n",
       "    }\n",
       "</style>\n",
       "<table border=\"1\" class=\"dataframe\">\n",
       "  <thead>\n",
       "    <tr style=\"text-align: right;\">\n",
       "      <th></th>\n",
       "      <th>cf_dept_or_job_dissatisfaction</th>\n",
       "    </tr>\n",
       "    <tr>\n",
       "      <th>service_years</th>\n",
       "      <th></th>\n",
       "    </tr>\n",
       "  </thead>\n",
       "  <tbody>\n",
       "    <tr>\n",
       "      <th>1 to 2 Years</th>\n",
       "      <td>35</td>\n",
       "    </tr>\n",
       "    <tr>\n",
       "      <th>11 to 20 Years</th>\n",
       "      <td>28</td>\n",
       "    </tr>\n",
       "    <tr>\n",
       "      <th>20 Plus Years</th>\n",
       "      <td>39</td>\n",
       "    </tr>\n",
       "    <tr>\n",
       "      <th>3 to 4 Years</th>\n",
       "      <td>37</td>\n",
       "    </tr>\n",
       "    <tr>\n",
       "      <th>5 to 6 Years</th>\n",
       "      <td>20</td>\n",
       "    </tr>\n",
       "    <tr>\n",
       "      <th>7 to 10 Years</th>\n",
       "      <td>23</td>\n",
       "    </tr>\n",
       "    <tr>\n",
       "      <th>Under 1 Year</th>\n",
       "      <td>32</td>\n",
       "    </tr>\n",
       "  </tbody>\n",
       "</table>\n",
       "</div>"
      ],
      "text/plain": [
       "                cf_dept_or_job_dissatisfaction\n",
       "service_years                                 \n",
       "1 to 2 Years                                35\n",
       "11 to 20 Years                              28\n",
       "20 Plus Years                               39\n",
       "3 to 4 Years                                37\n",
       "5 to 6 Years                                20\n",
       "7 to 10 Years                               23\n",
       "Under 1 Year                                32"
      ]
     },
     "execution_count": 14,
     "metadata": {},
     "output_type": "execute_result"
    }
   ],
   "source": [
    "pv_service_diss = survey.pivot_table(values='cf_dept_or_job_dissatisfaction', index='service_years', aggfunc=np.sum)\n",
    "pv_service_diss"
   ]
  },
  {
   "cell_type": "code",
   "execution_count": 15,
   "id": "9677a4e7",
   "metadata": {},
   "outputs": [
    {
     "data": {
      "text/html": [
       "<div>\n",
       "<style scoped>\n",
       "    .dataframe tbody tr th:only-of-type {\n",
       "        vertical-align: middle;\n",
       "    }\n",
       "\n",
       "    .dataframe tbody tr th {\n",
       "        vertical-align: top;\n",
       "    }\n",
       "\n",
       "    .dataframe thead th {\n",
       "        text-align: right;\n",
       "    }\n",
       "</style>\n",
       "<table border=\"1\" class=\"dataframe\">\n",
       "  <thead>\n",
       "    <tr style=\"text-align: right;\">\n",
       "      <th></th>\n",
       "      <th>cf_dept_or_job_dissatisfaction</th>\n",
       "      <th>all</th>\n",
       "      <th>perc_diss</th>\n",
       "    </tr>\n",
       "    <tr>\n",
       "      <th>service_years</th>\n",
       "      <th></th>\n",
       "      <th></th>\n",
       "      <th></th>\n",
       "    </tr>\n",
       "  </thead>\n",
       "  <tbody>\n",
       "    <tr>\n",
       "      <th>1 to 2 Years</th>\n",
       "      <td>35</td>\n",
       "      <td>212</td>\n",
       "      <td>17.0</td>\n",
       "    </tr>\n",
       "    <tr>\n",
       "      <th>11 to 20 Years</th>\n",
       "      <td>28</td>\n",
       "      <td>234</td>\n",
       "      <td>12.0</td>\n",
       "    </tr>\n",
       "    <tr>\n",
       "      <th>20 Plus Years</th>\n",
       "      <td>39</td>\n",
       "      <td>216</td>\n",
       "      <td>18.0</td>\n",
       "    </tr>\n",
       "    <tr>\n",
       "      <th>3 to 4 Years</th>\n",
       "      <td>37</td>\n",
       "      <td>185</td>\n",
       "      <td>20.0</td>\n",
       "    </tr>\n",
       "    <tr>\n",
       "      <th>5 to 6 Years</th>\n",
       "      <td>20</td>\n",
       "      <td>110</td>\n",
       "      <td>18.0</td>\n",
       "    </tr>\n",
       "    <tr>\n",
       "      <th>7 to 10 Years</th>\n",
       "      <td>23</td>\n",
       "      <td>123</td>\n",
       "      <td>19.0</td>\n",
       "    </tr>\n",
       "    <tr>\n",
       "      <th>Under 1 Year</th>\n",
       "      <td>32</td>\n",
       "      <td>213</td>\n",
       "      <td>15.0</td>\n",
       "    </tr>\n",
       "  </tbody>\n",
       "</table>\n",
       "</div>"
      ],
      "text/plain": [
       "                cf_dept_or_job_dissatisfaction  all  perc_diss\n",
       "service_years                                                 \n",
       "1 to 2 Years                                35  212       17.0\n",
       "11 to 20 Years                              28  234       12.0\n",
       "20 Plus Years                               39  216       18.0\n",
       "3 to 4 Years                                37  185       20.0\n",
       "5 to 6 Years                                20  110       18.0\n",
       "7 to 10 Years                               23  123       19.0\n",
       "Under 1 Year                                32  213       15.0"
      ]
     },
     "execution_count": 15,
     "metadata": {},
     "output_type": "execute_result"
    }
   ],
   "source": [
    "pv_service_diss['all'] = survey['service_years'].value_counts()\n",
    "pv_service_diss['perc_diss'] = round(pv_service_diss['cf_dept_or_job_dissatisfaction']/pv_service_diss['all']*100)\n",
    "pv_service_diss"
   ]
  },
  {
   "cell_type": "code",
   "execution_count": 16,
   "id": "a2d919ef",
   "metadata": {},
   "outputs": [],
   "source": [
    "pv_service_diss['perc_conf'] = pv_service_conflict['perc_conf']\n",
    "pv_service = pv_service_diss\n",
    "pv_service.drop('cf_dept_or_job_dissatisfaction', axis=1, inplace=True)"
   ]
  },
  {
   "cell_type": "code",
   "execution_count": 17,
   "id": "1e31a84e",
   "metadata": {},
   "outputs": [
    {
     "name": "stdout",
     "output_type": "stream",
     "text": [
      "                all  perc_diss  perc_conf\n",
      "service_years                            \n",
      "1 to 2 Years    212       17.0        3.0\n",
      "11 to 20 Years  234       12.0        3.0\n",
      "20 Plus Years   216       18.0        4.0\n",
      "3 to 4 Years    185       20.0        5.0\n",
      "5 to 6 Years    110       18.0        5.0\n",
      "7 to 10 Years   123       19.0        4.0\n",
      "Under 1 Year    213       15.0        4.0\n"
     ]
    },
    {
     "data": {
      "text/plain": [
       "<AxesSubplot:xlabel='service_years'>"
      ]
     },
     "execution_count": 17,
     "metadata": {},
     "output_type": "execute_result"
    },
    {
     "data": {
      "image/png": "[encoded data removed]",
      "text/plain": [
       "<Figure size 432x288 with 1 Axes>"
      ]
     },
     "metadata": {
      "needs_background": "light"
     },
     "output_type": "display_data"
    }
   ],
   "source": [
    "print(pv_service)\n",
    "pv_service[['perc_diss','perc_conf']].plot(rot=45)"
   ]
  },
  {
   "cell_type": "code",
   "execution_count": 18,
   "id": "b9330a16",
   "metadata": {},
   "outputs": [
    {
     "data": {
      "text/html": [
       "<div>\n",
       "<style scoped>\n",
       "    .dataframe tbody tr th:only-of-type {\n",
       "        vertical-align: middle;\n",
       "    }\n",
       "\n",
       "    .dataframe tbody tr th {\n",
       "        vertical-align: top;\n",
       "    }\n",
       "\n",
       "    .dataframe thead th {\n",
       "        text-align: right;\n",
       "    }\n",
       "</style>\n",
       "<table border=\"1\" class=\"dataframe\">\n",
       "  <thead>\n",
       "    <tr style=\"text-align: right;\">\n",
       "      <th></th>\n",
       "      <th>all</th>\n",
       "      <th>perc_diss</th>\n",
       "      <th>perc_conf</th>\n",
       "    </tr>\n",
       "  </thead>\n",
       "  <tbody>\n",
       "    <tr>\n",
       "      <th>all</th>\n",
       "      <td>1.000000</td>\n",
       "      <td>-0.590364</td>\n",
       "      <td>-0.630406</td>\n",
       "    </tr>\n",
       "    <tr>\n",
       "      <th>perc_diss</th>\n",
       "      <td>-0.590364</td>\n",
       "      <td>1.000000</td>\n",
       "      <td>0.678401</td>\n",
       "    </tr>\n",
       "    <tr>\n",
       "      <th>perc_conf</th>\n",
       "      <td>-0.630406</td>\n",
       "      <td>0.678401</td>\n",
       "      <td>1.000000</td>\n",
       "    </tr>\n",
       "  </tbody>\n",
       "</table>\n",
       "</div>"
      ],
      "text/plain": [
       "                all  perc_diss  perc_conf\n",
       "all        1.000000  -0.590364  -0.630406\n",
       "perc_diss -0.590364   1.000000   0.678401\n",
       "perc_conf -0.630406   0.678401   1.000000"
      ]
     },
     "execution_count": 18,
     "metadata": {},
     "output_type": "execute_result"
    }
   ],
   "source": [
    "pv_service.corr()"
   ]
  },
  {
   "cell_type": "markdown",
   "id": "694982ca",
   "metadata": {},
   "source": [
    "Strong correlation found between interpersonal conflict / dissatisfaction and years of service. \n",
    "\n",
    "This means that:\n",
    "- Least conflict in employees between 11 and 20 years of service.\n",
    "- Highest conflict in employees between 3 and 6 years of service.\n",
    "- Conflict creating biggest dissatisfied employee leavers is at 3 to 4 years service."
   ]
  },
  {
   "cell_type": "code",
   "execution_count": 29,
   "id": "746b4052",
   "metadata": {},
   "outputs": [],
   "source": [
    "new_index = [\n",
    "    '01-02',\n",
    "    '11-20',\n",
    "    '21+',\n",
    "    '03-04',\n",
    "    '05-06',\n",
    "    '07-10',\n",
    "    '00-01'\n",
    "]\n",
    "\n",
    "pv_service.index = new_index"
   ]
  },
  {
   "cell_type": "code",
   "execution_count": 24,
   "id": "275ed07f",
   "metadata": {},
   "outputs": [],
   "source": [
    "#pv_service.drop('all', axis=1, inplace=True)"
   ]
  },
  {
   "cell_type": "code",
   "execution_count": 30,
   "id": "4618e508",
   "metadata": {},
   "outputs": [
    {
     "data": {
      "text/html": [
       "<div>\n",
       "<style scoped>\n",
       "    .dataframe tbody tr th:only-of-type {\n",
       "        vertical-align: middle;\n",
       "    }\n",
       "\n",
       "    .dataframe tbody tr th {\n",
       "        vertical-align: top;\n",
       "    }\n",
       "\n",
       "    .dataframe thead th {\n",
       "        text-align: right;\n",
       "    }\n",
       "</style>\n",
       "<table border=\"1\" class=\"dataframe\">\n",
       "  <thead>\n",
       "    <tr style=\"text-align: right;\">\n",
       "      <th></th>\n",
       "      <th>perc_diss</th>\n",
       "      <th>perc_conf</th>\n",
       "    </tr>\n",
       "  </thead>\n",
       "  <tbody>\n",
       "    <tr>\n",
       "      <th>01-02</th>\n",
       "      <td>17.0</td>\n",
       "      <td>3.0</td>\n",
       "    </tr>\n",
       "    <tr>\n",
       "      <th>11-20</th>\n",
       "      <td>12.0</td>\n",
       "      <td>3.0</td>\n",
       "    </tr>\n",
       "    <tr>\n",
       "      <th>21+</th>\n",
       "      <td>18.0</td>\n",
       "      <td>4.0</td>\n",
       "    </tr>\n",
       "    <tr>\n",
       "      <th>03-04</th>\n",
       "      <td>20.0</td>\n",
       "      <td>5.0</td>\n",
       "    </tr>\n",
       "    <tr>\n",
       "      <th>05-06</th>\n",
       "      <td>18.0</td>\n",
       "      <td>5.0</td>\n",
       "    </tr>\n",
       "    <tr>\n",
       "      <th>07-10</th>\n",
       "      <td>19.0</td>\n",
       "      <td>4.0</td>\n",
       "    </tr>\n",
       "    <tr>\n",
       "      <th>00-01</th>\n",
       "      <td>15.0</td>\n",
       "      <td>4.0</td>\n",
       "    </tr>\n",
       "  </tbody>\n",
       "</table>\n",
       "</div>"
      ],
      "text/plain": [
       "       perc_diss  perc_conf\n",
       "01-02       17.0        3.0\n",
       "11-20       12.0        3.0\n",
       "21+         18.0        4.0\n",
       "03-04       20.0        5.0\n",
       "05-06       18.0        5.0\n",
       "07-10       19.0        4.0\n",
       "00-01       15.0        4.0"
      ]
     },
     "execution_count": 30,
     "metadata": {},
     "output_type": "execute_result"
    }
   ],
   "source": [
    "pv_service"
   ]
  },
  {
   "cell_type": "code",
   "execution_count": 205,
   "id": "612364e7",
   "metadata": {},
   "outputs": [
    {
     "data": {
      "image/png": "[encoded data removed]",
      "text/plain": [
       "<Figure size 1200x500 with 1 Axes>"
      ]
     },
     "metadata": {},
     "output_type": "display_data"
    }
   ],
   "source": [
    "fig, ax = plt.subplots(figsize=(12,5))\n",
    "\n",
    "style.use('default')\n",
    "style.use('fivethirtyeight')\n",
    "\n",
    "# Style Plot\n",
    "width = 0.8\n",
    "conflict_color = '#fc4f30' #538 Red\n",
    "dissatisfied_color = '#e5ae38' #538 Yellow\n",
    "ax.grid(False)\n",
    "\n",
    "# Plot\n",
    "ax.bar(pv_service.sort_index().index, pv_service['perc_diss'],width,color=dissatisfied_color,label='Dissatisfied Employees')\n",
    "ax.bar(pv_service.sort_index().index, pv_service['perc_conf'],width,color=conflict_color,label='Conflict at Work')\n",
    "\n",
    "\n",
    "# Y Axis Style\n",
    "ax.set_yticklabels([])\n",
    "\n",
    "\n",
    "# X Axis Style\n",
    "x_tick_size = 13\n",
    "x_tick_weight = 'bold'\n",
    "x_tick_color = '#8b8b8b'\n",
    "# y_pos = 1.15\n",
    "ax.set_xticks(pv_service.index)\n",
    "ax.set_xticklabels(pv_service.index + ' yrs', size=x_tick_size, weight=x_tick_weight, color=x_tick_color)\n",
    "\n",
    "# Title\n",
    "title_x = 0.12\n",
    "title_y = 0.95\n",
    "title_size = 35\n",
    "title_weight = 'bold'\n",
    "title_color = '#8b8b8b'\n",
    "fig.text(x=title_x, y=title_y, s='Conflict Pushes Up Dissatisfaction',size=title_size, weight=title_weight, color=title_color)\n",
    "\n",
    "# Title\n",
    "stitle_x = 0.12\n",
    "stitle_y = 0.9\n",
    "stitle_size = 12\n",
    "stitle_weight = 'normal'\n",
    "stitle_color = '#8b8b8b'\n",
    "fig.text(x=stitle_x, y=stitle_y, s='Conflict at work correlates to dissatisfaction and is more pronounced in employees with 3 to 10 years of service',size=stitle_size, weight=stitle_weight, color=stitle_color)\n",
    "\n",
    "\n",
    "# Legend Style\n",
    "legend_size = 13\n",
    "legend_weight = 'bold'\n",
    "legend_color = 'white'\n",
    "legend_y_pos = 0.16\n",
    "legend_x_pos = 0.48\n",
    "fig.text(x=legend_x_pos, y=legend_y_pos, s='Conflict',size=legend_size, weight=legend_weight, color=legend_color)\n",
    "fig.text(x=legend_x_pos-0.007, y=legend_y_pos+0.65, s='Dissatisfaction',size=legend_size-4, weight=legend_weight, color=legend_color)\n",
    "\n",
    "\n",
    "# Footer\n",
    "ax.text(x=-0.5, y=-3, s='James Holiday-Scott, 2021' + ' '*160, backgroundcolor='grey', color='white', size=11)\n",
    "\n",
    "plt.show()"
   ]
  },
  {
   "cell_type": "markdown",
   "id": "c4a56013",
   "metadata": {},
   "source": [
    "# Conclusion\n",
    "\n",
    "A strong correlation of about 0.6 exists such that years of service and affects levels of departmental conflict which results in dissatisfaction, both of which are given as reasons for leaving DETE and TAFE.\n",
    "\n",
    "This visualisation reads from left to right, and shows how conflict rises and then falls again depending on how many years of service the employee has. The minimal text and the absence of figures invites the desired comparison of the height of the bars and the conlusion is clear: if conflict is reduced, the dissatisfaction bar will fall as well. The legend is used to draw attention to the most problematic group of employees."
   ]
  },
  {
   "cell_type": "code",
   "execution_count": 48,
   "id": "a8d8c4c2",
   "metadata": {},
   "outputs": [
    {
     "data": {
      "image/png": "[encoded data removed]",
      "text/plain": [
       "<Figure size 500x100 with 1 Axes>"
      ]
     },
     "metadata": {},
     "output_type": "display_data"
    }
   ],
   "source": [
    "\"\"\"\n",
    "A simple FiveThirtyEight palette for Seaborn plots.\n",
    "\"\"\"\n",
    "\n",
    "import seaborn as sns\n",
    "import matplotlib.pyplot as plt\n",
    "\n",
    "five_thirty_eight = [\n",
    "    \"#30a2da\", #538 Blue\n",
    "    \"#fc4f30\", #538 Red\n",
    "    \"#e5ae38\", #538 Yellow\n",
    "    \"#6d904f\", #538 Green\n",
    "    \"#8b8b8b\", #538 Grey\n",
    "]\n",
    "\n",
    "sns.set_palette(five_thirty_eight)\n",
    "sns.palplot(sns.color_palette())\n",
    "plt.show()"
   ]
  }
 ],
 "metadata": {
  "kernelspec": {
   "display_name": "jpython",
   "language": "python",
   "name": "jpython"
  },
  "language_info": {
   "codemirror_mode": {
    "name": "ipython",
    "version": 3
   },
   "file_extension": ".py",
   "mimetype": "text/x-python",
   "name": "python",
   "nbconvert_exporter": "python",
   "pygments_lexer": "ipython3",
   "version": "3.9.2"
  }
 },
 "nbformat": 4,
 "nbformat_minor": 5
}
