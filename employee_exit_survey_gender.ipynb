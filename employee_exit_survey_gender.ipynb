{
 "cells": [
  {
   "cell_type": "markdown",
   "id": "9a5fea47",
   "metadata": {},
   "source": [
    "# Employee Exit Survey\n",
    "\n",
    "## The Client\n",
    "TAFE and DETE are vocational colleges in Australia. They have been doing exit surveys for a while and have now gathered a dataset of about 1600 results which they would like analysed. The client is focussed on internal contributing factors.\n",
    "\n",
    "## Aims of Analysis: Dissatisfaction\n",
    "The client has asked for a report to help them understand the results of their recent exit survey.\n",
    "\n",
    "They wish to understand the profile of employees who cite dissatisfaction as a contributing factor to their exit from the organisation.\n",
    "\n",
    "Leadership wants to understand where to target retention improvement strategies.\n",
    "\n",
    "## Notebooks and Reports\n",
    "The following notebooks and documents are part of this anaylsis:\n",
    "\n",
    "| Jupyter Notebook Filename | Contents |\n",
    "|:----------------------------------|:-------|\n",
    "|employee_exit_survey_cleaning_1.csv|Columns drops, missing data, renaming columns, tidying data for consistency|\n",
    "|employee_exit_survey_cleaning_2.csv|Adding calculated columns, adding category columns, further drops|\n",
    "|employee_exit_survey_correlation.csv|Investigating correlations to guide analysis|\n",
    "|employee_exit_survey_gender.csv|Aggregation by pivot_table of gender subsets, visualisations|\n",
    "|employee_exit_survey_age.csv|Aggregation by pivot_table of gender subsets, visualisations|\n",
    "|employee_exit_survey_conflict.csv|Aggregation by pivot_table of gender subsets, visualisations|"
   ]
  },
  {
   "cell_type": "code",
   "execution_count": 25,
   "id": "8b5a8e37",
   "metadata": {},
   "outputs": [
    {
     "ename": "NameError",
     "evalue": "name 'pv_gender' is not defined",
     "output_type": "error",
     "traceback": [
      "\u001b[0;31m---------------------------------------------------------------------------\u001b[0m",
      "\u001b[0;31mNameError\u001b[0m                                 Traceback (most recent call last)",
      "\u001b[0;32m<ipython-input-25-2a08f290d2b0>\u001b[0m in \u001b[0;36m<module>\u001b[0;34m\u001b[0m\n\u001b[0;32m----> 1\u001b[0;31m \u001b[0mpv_gender\u001b[0m\u001b[0;34m[\u001b[0m\u001b[0;34m'perc_gender'\u001b[0m\u001b[0;34m]\u001b[0m \u001b[0;34m=\u001b[0m \u001b[0;34m(\u001b[0m\u001b[0mpv_gender\u001b[0m\u001b[0;34m[\u001b[0m\u001b[0;34m'cf_dept_or_job_dissatisfaction'\u001b[0m\u001b[0;34m]\u001b[0m\u001b[0;34m/\u001b[0m\u001b[0mpv_gender\u001b[0m\u001b[0;34m[\u001b[0m\u001b[0;34m'cf_dept_or_job_dissatisfaction'\u001b[0m\u001b[0;34m]\u001b[0m\u001b[0;34m.\u001b[0m\u001b[0msum\u001b[0m\u001b[0;34m(\u001b[0m\u001b[0;34m)\u001b[0m\u001b[0;34m)\u001b[0m\u001b[0;34m*\u001b[0m\u001b[0;36m100\u001b[0m\u001b[0;34m\u001b[0m\u001b[0;34m\u001b[0m\u001b[0m\n\u001b[0m\u001b[1;32m      2\u001b[0m \u001b[0;34m\u001b[0m\u001b[0m\n\u001b[1;32m      3\u001b[0m \u001b[0mall_gender\u001b[0m \u001b[0;34m=\u001b[0m \u001b[0mexit_survey\u001b[0m\u001b[0;34m[\u001b[0m\u001b[0;34m'gender'\u001b[0m\u001b[0;34m]\u001b[0m\u001b[0;34m.\u001b[0m\u001b[0mvalue_counts\u001b[0m\u001b[0;34m(\u001b[0m\u001b[0;34m)\u001b[0m\u001b[0;34m\u001b[0m\u001b[0;34m\u001b[0m\u001b[0m\n\u001b[1;32m      4\u001b[0m \u001b[0;34m\u001b[0m\u001b[0m\n\u001b[1;32m      5\u001b[0m \u001b[0mpv_gender\u001b[0m\u001b[0;34m[\u001b[0m\u001b[0;34m'all_perc_gender'\u001b[0m\u001b[0;34m]\u001b[0m \u001b[0;34m=\u001b[0m \u001b[0;34m(\u001b[0m\u001b[0mall_gender\u001b[0m\u001b[0;34m/\u001b[0m\u001b[0mall_gender\u001b[0m\u001b[0;34m.\u001b[0m\u001b[0msum\u001b[0m\u001b[0;34m(\u001b[0m\u001b[0;34m)\u001b[0m\u001b[0;34m)\u001b[0m\u001b[0;34m*\u001b[0m\u001b[0;36m100\u001b[0m\u001b[0;34m\u001b[0m\u001b[0;34m\u001b[0m\u001b[0m\n",
      "\u001b[0;31mNameError\u001b[0m: name 'pv_gender' is not defined"
     ]
    }
   ],
   "source": [
    "pv_gender['perc_gender'] = (pv_gender['cf_dept_or_job_dissatisfaction']/pv_gender['cf_dept_or_job_dissatisfaction'].sum())*100\n",
    "\n",
    "all_gender = exit_survey['gender'].value_counts()\n",
    "\n",
    "pv_gender['all_perc_gender'] = (all_gender/all_gender.sum())*100\n",
    "#pv_gender.drop('All', axis=0, inplace=True)\n",
    "\n",
    "pv_gender"
   ]
  },
  {
   "cell_type": "code",
   "execution_count": 26,
   "id": "0c319bad",
   "metadata": {},
   "outputs": [
    {
     "ename": "NameError",
     "evalue": "name 'pv_gender' is not defined",
     "output_type": "error",
     "traceback": [
      "\u001b[0;31m---------------------------------------------------------------------------\u001b[0m",
      "\u001b[0;31mNameError\u001b[0m                                 Traceback (most recent call last)",
      "\u001b[0;32m<ipython-input-26-877108000c00>\u001b[0m in \u001b[0;36m<module>\u001b[0;34m\u001b[0m\n\u001b[0;32m----> 1\u001b[0;31m \u001b[0mpv_gender\u001b[0m\u001b[0;34m.\u001b[0m\u001b[0mplot\u001b[0m\u001b[0;34m(\u001b[0m\u001b[0mkind\u001b[0m\u001b[0;34m=\u001b[0m\u001b[0;34m'pie'\u001b[0m\u001b[0;34m,\u001b[0m \u001b[0my\u001b[0m\u001b[0;34m=\u001b[0m\u001b[0;34m'perc_gender'\u001b[0m\u001b[0;34m)\u001b[0m\u001b[0;34m\u001b[0m\u001b[0;34m\u001b[0m\u001b[0m\n\u001b[0m",
      "\u001b[0;31mNameError\u001b[0m: name 'pv_gender' is not defined"
     ]
    }
   ],
   "source": [
    "pv_gender.plot(kind='pie', y='perc_gender')"
   ]
  },
  {
   "cell_type": "code",
   "execution_count": 27,
   "id": "d98c07c0",
   "metadata": {},
   "outputs": [
    {
     "ename": "NameError",
     "evalue": "name 'pv_gender' is not defined",
     "output_type": "error",
     "traceback": [
      "\u001b[0;31m---------------------------------------------------------------------------\u001b[0m",
      "\u001b[0;31mNameError\u001b[0m                                 Traceback (most recent call last)",
      "\u001b[0;32m<ipython-input-27-cd08076a237c>\u001b[0m in \u001b[0;36m<module>\u001b[0;34m\u001b[0m\n\u001b[0;32m----> 1\u001b[0;31m \u001b[0mpv_gender\u001b[0m\u001b[0;34m.\u001b[0m\u001b[0mplot\u001b[0m\u001b[0;34m(\u001b[0m\u001b[0mkind\u001b[0m\u001b[0;34m=\u001b[0m\u001b[0;34m'pie'\u001b[0m\u001b[0;34m,\u001b[0m \u001b[0my\u001b[0m\u001b[0;34m=\u001b[0m\u001b[0;34m'all_perc_gender'\u001b[0m\u001b[0;34m)\u001b[0m\u001b[0;34m\u001b[0m\u001b[0;34m\u001b[0m\u001b[0m\n\u001b[0m",
      "\u001b[0;31mNameError\u001b[0m: name 'pv_gender' is not defined"
     ]
    }
   ],
   "source": [
    "pv_gender.plot(kind='pie', y='all_perc_gender')"
   ]
  },
  {
   "cell_type": "code",
   "execution_count": 28,
   "id": "972a9741",
   "metadata": {},
   "outputs": [
    {
     "ename": "NameError",
     "evalue": "name 'pv_gender' is not defined",
     "output_type": "error",
     "traceback": [
      "\u001b[0;31m---------------------------------------------------------------------------\u001b[0m",
      "\u001b[0;31mNameError\u001b[0m                                 Traceback (most recent call last)",
      "\u001b[0;32m<ipython-input-28-4cab5f983356>\u001b[0m in \u001b[0;36m<module>\u001b[0;34m\u001b[0m\n\u001b[1;32m      2\u001b[0m \u001b[0mgender_diff\u001b[0m \u001b[0;34m=\u001b[0m \u001b[0;34m{\u001b[0m\u001b[0;34m'cf_dept_or_job_dissatisfaction'\u001b[0m\u001b[0;34m:\u001b[0m\u001b[0;36m0\u001b[0m\u001b[0;34m,\u001b[0m \u001b[0;34m'perc_gender'\u001b[0m\u001b[0;34m:\u001b[0m\u001b[0;36m0\u001b[0m\u001b[0;34m,\u001b[0m \u001b[0;34m'all_perc_gender'\u001b[0m\u001b[0;34m:\u001b[0m \u001b[0mdiff\u001b[0m\u001b[0;34m}\u001b[0m\u001b[0;34m\u001b[0m\u001b[0;34m\u001b[0m\u001b[0m\n\u001b[1;32m      3\u001b[0m \u001b[0mdf_row\u001b[0m \u001b[0;34m=\u001b[0m \u001b[0mpd\u001b[0m\u001b[0;34m.\u001b[0m\u001b[0mDataFrame\u001b[0m\u001b[0;34m(\u001b[0m\u001b[0mdata\u001b[0m\u001b[0;34m=\u001b[0m\u001b[0mgender_diff\u001b[0m\u001b[0;34m,\u001b[0m \u001b[0mindex\u001b[0m\u001b[0;34m=\u001b[0m\u001b[0;34m[\u001b[0m\u001b[0;34m'Male_x'\u001b[0m\u001b[0;34m]\u001b[0m\u001b[0;34m)\u001b[0m\u001b[0;34m\u001b[0m\u001b[0;34m\u001b[0m\u001b[0m\n\u001b[0;32m----> 4\u001b[0;31m \u001b[0mpv_gender_diff\u001b[0m \u001b[0;34m=\u001b[0m \u001b[0mpv_gender\u001b[0m\u001b[0;34m\u001b[0m\u001b[0;34m\u001b[0m\u001b[0m\n\u001b[0m\u001b[1;32m      5\u001b[0m \u001b[0;34m\u001b[0m\u001b[0m\n\u001b[1;32m      6\u001b[0m \u001b[0;31m#pv_gender_diff = pd.concat([pv_gender_diff,df_row])\u001b[0m\u001b[0;34m\u001b[0m\u001b[0;34m\u001b[0m\u001b[0;34m\u001b[0m\u001b[0m\n",
      "\u001b[0;31mNameError\u001b[0m: name 'pv_gender' is not defined"
     ]
    }
   ],
   "source": [
    "diff = 38.174274 - 31.430446\n",
    "gender_diff = {'cf_dept_or_job_dissatisfaction':0, 'perc_gender':0, 'all_perc_gender': diff}\n",
    "df_row = pd.DataFrame(data=gender_diff, index=['Male_x'])\n",
    "pv_gender_diff = pv_gender\n",
    "\n",
    "#pv_gender_diff = pd.concat([pv_gender_diff,df_row])\n",
    "pv_gender_diff"
   ]
  },
  {
   "cell_type": "code",
   "execution_count": 29,
   "id": "3d9488f6",
   "metadata": {},
   "outputs": [
    {
     "ename": "NameError",
     "evalue": "name 'pv_gender_diff' is not defined",
     "output_type": "error",
     "traceback": [
      "\u001b[0;31m---------------------------------------------------------------------------\u001b[0m",
      "\u001b[0;31mNameError\u001b[0m                                 Traceback (most recent call last)",
      "\u001b[0;32m<ipython-input-29-a1094a71ddf6>\u001b[0m in \u001b[0;36m<module>\u001b[0;34m\u001b[0m\n\u001b[0;32m----> 1\u001b[0;31m \u001b[0mpv_gender_diff\u001b[0m\u001b[0;34m.\u001b[0m\u001b[0mplot\u001b[0m\u001b[0;34m(\u001b[0m\u001b[0mkind\u001b[0m\u001b[0;34m=\u001b[0m\u001b[0;34m'pie'\u001b[0m\u001b[0;34m,\u001b[0m \u001b[0my\u001b[0m\u001b[0;34m=\u001b[0m\u001b[0;34m'all_perc_gender'\u001b[0m\u001b[0;34m)\u001b[0m\u001b[0;34m\u001b[0m\u001b[0;34m\u001b[0m\u001b[0m\n\u001b[0m",
      "\u001b[0;31mNameError\u001b[0m: name 'pv_gender_diff' is not defined"
     ]
    }
   ],
   "source": [
    "pv_gender_diff.plot(kind='pie', y='all_perc_gender')"
   ]
  },
  {
   "cell_type": "code",
   "execution_count": null,
   "id": "6eb0127c",
   "metadata": {},
   "outputs": [],
   "source": [
    "fig1, (ax1,ax2,ax3) = plt.subplots(ncols=3, nrows=1, figsize=((10,3)))\n",
    "\n",
    "style.use('default')\n",
    "style.use('fivethirtyeight')\n",
    "\n",
    "explode = (0, 0, 0.1)  # only \"explode\" the 2nd slice (i.e. 'Hogs')\n",
    "\n",
    "ax1.pie(x=pv_gender['all_perc_gender'], startangle=23)\n",
    "ax2.pie(x=pv_gender['perc_gender'], startangle=47)\n",
    "ax3.pie(x=pv_gender_diff['all_perc_gender'], startangle=39, explode=explode)\n",
    "\n",
    "ax1.set_title('Gender Split\\nTAFE & DETE', size=17,color='grey')\n",
    "ax2.set_title('Gender Split\\nDissatisfied', size=17,color='grey')\n",
    "ax3.set_title('Gender Most\\nDissatisfied', size=17,color='grey')\n",
    "\n",
    "ax1.axis('equal')\n",
    "ax2.axis('equal')\n",
    "ax3.axis('equal')\n",
    "\n",
    "ax1.text(x=-1, y=-1.3, s='Men\\'s Reason For Leaving More Likely to Be Dissatisfaction at Work',size=18,color='dimgray')\n",
    "x_pos = 0.3\n",
    "y_pos = -0.3\n",
    "\n",
    "axes=[ax1,ax2,ax3]\n",
    "\n",
    "for ax in axes:\n",
    "    ax.text(x=x_pos, y=y_pos, s='Men', size=15, weight='bold',color='white')\n",
    "    ax.text(x=x_pos-1, y=y_pos, s='Women',size=15, weight='bold',color='white')\n",
    "\n",
    "ax3.text(x=0.75, y=0.38, s='7%',size=15, weight='bold',color='black')\n",
    "#plt.savefig('gender_and_dissatisfaction.png')\n",
    "plt.show()"
   ]
  }
 ],
 "metadata": {
  "kernelspec": {
   "display_name": "jpython",
   "language": "python",
   "name": "jpython"
  },
  "language_info": {
   "codemirror_mode": {
    "name": "ipython",
    "version": 3
   },
   "file_extension": ".py",
   "mimetype": "text/x-python",
   "name": "python",
   "nbconvert_exporter": "python",
   "pygments_lexer": "ipython3",
   "version": "3.9.2"
  }
 },
 "nbformat": 4,
 "nbformat_minor": 5
}
