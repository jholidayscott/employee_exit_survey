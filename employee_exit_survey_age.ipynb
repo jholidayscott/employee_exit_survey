{
 "cells": [
  {
   "cell_type": "markdown",
   "id": "73d15d93",
   "metadata": {},
   "source": [
    "# Employee Exit Survey\n",
    "\n",
    "## The Client\n",
    "TAFE and DETE are vocational colleges in Australia. They have been doing exit surveys for a while and have now gathered a dataset of about 1600 results which they would like analysed. The client is focussed on internal contributing factors.\n",
    "\n",
    "## Aims of Analysis: Dissatisfaction\n",
    "The client has asked for a report to help them understand the results of their recent exit survey.\n",
    "\n",
    "They wish to understand the profile of employees who cite dissatisfaction as a contributing factor to their exit from the organisation.\n",
    "\n",
    "Leadership wants to understand where to target retention improvement strategies."
   ]
  },
  {
   "cell_type": "markdown",
   "id": "def5a0db",
   "metadata": {},
   "source": [
    "## Conclusions: Age and Dissatisfaction\n",
    "Older employees make up a signficant proportion of the employee demographics at TAFE and DETE. This explained the much larger number of dissatisfied leavers amongster older populations.\n",
    "\n",
    "Analysis revealed:\n",
    "- TAFE: 46-50 and 21-25 are the most dissatisfied age groups, showing significant levels above the college's mean, and 10% more than other age groups.\n",
    "- DETE: 51-50, 31-35, 26-30 are the most dissatisfied age groups, showing significant levels above the college's mean, and also 10% above that of other age groups."
   ]
  },
  {
   "cell_type": "markdown",
   "id": "b494f894",
   "metadata": {},
   "source": [
    "# Visualisations\n",
    "\n",
    "The correlation analysis revealed that there was likely a pattern in age and dissatisfaction. Initially, it seemed that older people were experiencing higher levels, but really it's younger and middle-aged people.\n",
    "\n",
    "## A Story of Two Bar Charts\n",
    "\n",
    "Bar charts, stacked as percentages, and arranged side-by-side make excellent tools for comparing.\n",
    "\n",
    "At the end of this notebook there is a useful infographic to communicate the above analysis.\n",
    "\n",
    "The bar charts allow the viewer to immediately grasp the comparison between TAFE and DETE and between the different age groups through use of similarity, proximity and (im)balance across a line of symmetry."
   ]
  },
  {
   "cell_type": "markdown",
   "id": "e8684a12",
   "metadata": {},
   "source": [
    "## Notebooks and Reports\n",
    "The following notebooks and documents are part of this anaylsis:\n",
    "\n",
    "### Jupyter Notebook Filename: Summary\n",
    "- [employee_exit_survey_cleaning_1.ibynb](https://github.com/jholidayscott/employee_exit_survey/blob/main/employee_exit_survey_cleaning_1.ipynb): Columns drops, missing data, renaming columns, tidying data for consistency\n",
    "- [employee_exit_survey_cleaning_2.ibynb](https://github.com/jholidayscott/employee_exit_survey/blob/main/employee_exit_survey_cleaning_2.ipynb): Adding calculated columns, adding category columns, further drops\n",
    "- [employee_exit_survey_correlation.ibynb](https://github.com/jholidayscott/employee_exit_survey/blob/main/employee_exit_survey_correlation.ipynb): Investigating correlations to guide analysis\n",
    "- [employee_exit_survey_gender.ibynb](https://github.com/jholidayscott/employee_exit_survey/blob/main/employee_exit_survey_gender.ipynb): Aggregation by pivot_table of gender subsets, visualisations\n",
    "- [employee_exit_survey_age.ibynb](https://github.com/jholidayscott/employee_exit_survey/blob/main/employee_exit_survey_age.ipynb): Aggregation by pivot_table of age subsets, visualisations\n",
    "- [employee_exit_survey_conflict.ibynb](https://github.com/jholidayscott/employee_exit_survey/blob/main/employee_exit_survey_conflict.ipynb): Exploration of conflict as a contributory factor"
   ]
  },
  {
   "cell_type": "code",
   "execution_count": 2,
   "id": "27fb57fa",
   "metadata": {},
   "outputs": [],
   "source": [
    "import pandas as pd\n",
    "import matplotlib.pyplot as plt\n",
    "import matplotlib.style as style\n",
    "import numpy as np"
   ]
  },
  {
   "cell_type": "code",
   "execution_count": 3,
   "id": "c6caf7a9",
   "metadata": {},
   "outputs": [],
   "source": [
    "survey = pd.read_csv('employee_exit_survey_clean_final.csv')"
   ]
  },
  {
   "cell_type": "code",
   "execution_count": 4,
   "id": "76e48615",
   "metadata": {},
   "outputs": [
    {
     "data": {
      "text/html": [
       "<div>\n",
       "<style scoped>\n",
       "    .dataframe tbody tr th:only-of-type {\n",
       "        vertical-align: middle;\n",
       "    }\n",
       "\n",
       "    .dataframe tbody tr th {\n",
       "        vertical-align: top;\n",
       "    }\n",
       "\n",
       "    .dataframe thead th {\n",
       "        text-align: right;\n",
       "    }\n",
       "</style>\n",
       "<table border=\"1\" class=\"dataframe\">\n",
       "  <thead>\n",
       "    <tr style=\"text-align: right;\">\n",
       "      <th></th>\n",
       "      <th>Unnamed: 0</th>\n",
       "      <th>Unnamed: 0.1</th>\n",
       "      <th>index</th>\n",
       "      <th>cf_to_private_sector</th>\n",
       "      <th>cf_health</th>\n",
       "      <th>cf_family</th>\n",
       "      <th>cf_dept_dissatisfaction</th>\n",
       "      <th>cf_job_dissatisfaction</th>\n",
       "      <th>cf_interpersonal_conflict</th>\n",
       "      <th>cf_other</th>\n",
       "      <th>...</th>\n",
       "      <th>institute_job_security</th>\n",
       "      <th>dept_workload</th>\n",
       "      <th>dept_work_life_balance</th>\n",
       "      <th>dept_work_environment</th>\n",
       "      <th>gender</th>\n",
       "      <th>service_years</th>\n",
       "      <th>exit_year</th>\n",
       "      <th>college</th>\n",
       "      <th>cf_dept_or_job_dissatisfaction</th>\n",
       "      <th>age</th>\n",
       "    </tr>\n",
       "  </thead>\n",
       "  <tbody>\n",
       "    <tr>\n",
       "      <th>0</th>\n",
       "      <td>0</td>\n",
       "      <td>0</td>\n",
       "      <td>0</td>\n",
       "      <td>False</td>\n",
       "      <td>False</td>\n",
       "      <td>False</td>\n",
       "      <td>False</td>\n",
       "      <td>False</td>\n",
       "      <td>False</td>\n",
       "      <td>False</td>\n",
       "      <td>...</td>\n",
       "      <td>False</td>\n",
       "      <td>False</td>\n",
       "      <td>False</td>\n",
       "      <td>False</td>\n",
       "      <td>Female</td>\n",
       "      <td>1 to 2 Years</td>\n",
       "      <td>2010</td>\n",
       "      <td>TAFE</td>\n",
       "      <td>False</td>\n",
       "      <td>26-30</td>\n",
       "    </tr>\n",
       "    <tr>\n",
       "      <th>1</th>\n",
       "      <td>1</td>\n",
       "      <td>1</td>\n",
       "      <td>1</td>\n",
       "      <td>False</td>\n",
       "      <td>False</td>\n",
       "      <td>False</td>\n",
       "      <td>False</td>\n",
       "      <td>False</td>\n",
       "      <td>False</td>\n",
       "      <td>False</td>\n",
       "      <td>...</td>\n",
       "      <td>True</td>\n",
       "      <td>True</td>\n",
       "      <td>False</td>\n",
       "      <td>True</td>\n",
       "      <td>Female</td>\n",
       "      <td>NaN</td>\n",
       "      <td>2010</td>\n",
       "      <td>TAFE</td>\n",
       "      <td>False</td>\n",
       "      <td>NaN</td>\n",
       "    </tr>\n",
       "    <tr>\n",
       "      <th>2</th>\n",
       "      <td>2</td>\n",
       "      <td>2</td>\n",
       "      <td>2</td>\n",
       "      <td>False</td>\n",
       "      <td>False</td>\n",
       "      <td>False</td>\n",
       "      <td>False</td>\n",
       "      <td>False</td>\n",
       "      <td>False</td>\n",
       "      <td>False</td>\n",
       "      <td>...</td>\n",
       "      <td>False</td>\n",
       "      <td>False</td>\n",
       "      <td>False</td>\n",
       "      <td>False</td>\n",
       "      <td>Female</td>\n",
       "      <td>NaN</td>\n",
       "      <td>2010</td>\n",
       "      <td>TAFE</td>\n",
       "      <td>False</td>\n",
       "      <td>NaN</td>\n",
       "    </tr>\n",
       "    <tr>\n",
       "      <th>3</th>\n",
       "      <td>3</td>\n",
       "      <td>3</td>\n",
       "      <td>3</td>\n",
       "      <td>False</td>\n",
       "      <td>False</td>\n",
       "      <td>False</td>\n",
       "      <td>False</td>\n",
       "      <td>False</td>\n",
       "      <td>False</td>\n",
       "      <td>False</td>\n",
       "      <td>...</td>\n",
       "      <td>False</td>\n",
       "      <td>True</td>\n",
       "      <td>True</td>\n",
       "      <td>True</td>\n",
       "      <td>Female</td>\n",
       "      <td>NaN</td>\n",
       "      <td>2010</td>\n",
       "      <td>TAFE</td>\n",
       "      <td>False</td>\n",
       "      <td>NaN</td>\n",
       "    </tr>\n",
       "    <tr>\n",
       "      <th>4</th>\n",
       "      <td>4</td>\n",
       "      <td>4</td>\n",
       "      <td>4</td>\n",
       "      <td>True</td>\n",
       "      <td>False</td>\n",
       "      <td>False</td>\n",
       "      <td>False</td>\n",
       "      <td>False</td>\n",
       "      <td>False</td>\n",
       "      <td>False</td>\n",
       "      <td>...</td>\n",
       "      <td>False</td>\n",
       "      <td>True</td>\n",
       "      <td>True</td>\n",
       "      <td>True</td>\n",
       "      <td>Male</td>\n",
       "      <td>3 to 4 Years</td>\n",
       "      <td>2010</td>\n",
       "      <td>TAFE</td>\n",
       "      <td>False</td>\n",
       "      <td>41-45</td>\n",
       "    </tr>\n",
       "  </tbody>\n",
       "</table>\n",
       "<p>5 rows × 21 columns</p>\n",
       "</div>"
      ],
      "text/plain": [
       "   Unnamed: 0  Unnamed: 0.1  index  cf_to_private_sector  cf_health  \\\n",
       "0           0             0      0                 False      False   \n",
       "1           1             1      1                 False      False   \n",
       "2           2             2      2                 False      False   \n",
       "3           3             3      3                 False      False   \n",
       "4           4             4      4                  True      False   \n",
       "\n",
       "   cf_family  cf_dept_dissatisfaction  cf_job_dissatisfaction  \\\n",
       "0      False                    False                   False   \n",
       "1      False                    False                   False   \n",
       "2      False                    False                   False   \n",
       "3      False                    False                   False   \n",
       "4      False                    False                   False   \n",
       "\n",
       "   cf_interpersonal_conflict  cf_other  ...  institute_job_security  \\\n",
       "0                      False     False  ...                   False   \n",
       "1                      False     False  ...                    True   \n",
       "2                      False     False  ...                   False   \n",
       "3                      False     False  ...                   False   \n",
       "4                      False     False  ...                   False   \n",
       "\n",
       "   dept_workload  dept_work_life_balance  dept_work_environment  gender  \\\n",
       "0          False                   False                  False  Female   \n",
       "1           True                   False                   True  Female   \n",
       "2          False                   False                  False  Female   \n",
       "3           True                    True                   True  Female   \n",
       "4           True                    True                   True    Male   \n",
       "\n",
       "  service_years exit_year  college cf_dept_or_job_dissatisfaction    age  \n",
       "0  1 to 2 Years      2010     TAFE                          False  26-30  \n",
       "1           NaN      2010     TAFE                          False    NaN  \n",
       "2           NaN      2010     TAFE                          False    NaN  \n",
       "3           NaN      2010     TAFE                          False    NaN  \n",
       "4  3 to 4 Years      2010     TAFE                          False  41-45  \n",
       "\n",
       "[5 rows x 21 columns]"
      ]
     },
     "execution_count": 4,
     "metadata": {},
     "output_type": "execute_result"
    }
   ],
   "source": [
    "survey.head()"
   ]
  },
  {
   "cell_type": "markdown",
   "id": "562ab86e",
   "metadata": {},
   "source": [
    "# Exploratory Charts\n",
    "From the initial exploration of correlations, there is a clear tendency for older employees to be more dissatisfied than younger ones.\n",
    "\n",
    "It would be beneficial to explore:\n",
    "- Measure the scale of increase in dissatisfaction as age increases\n",
    "- Link to length of service to see if this is a factor (note initial correlation analysis did not suggest length of servce was correlated directly to dissatisfaction)\n",
    "- Compare TAFE to DETE because there were clear differences."
   ]
  },
  {
   "cell_type": "markdown",
   "id": "18815ee5",
   "metadata": {},
   "source": [
    "## Baseline Age Charts\n",
    "These charts describe the age and dissatisfaction profiles of the two colleges."
   ]
  },
  {
   "cell_type": "code",
   "execution_count": 5,
   "id": "b9b1a767",
   "metadata": {},
   "outputs": [
    {
     "data": {
      "text/plain": [
       "<AxesSubplot:title={'center':'Dept and Job Dissatisfaction as a CF by Age'}, xlabel='age'>"
      ]
     },
     "execution_count": 5,
     "metadata": {},
     "output_type": "execute_result"
    },
    {
     "data": {
      "image/png": "[encoded data removed]",
      "text/plain": [
       "<Figure size 432x288 with 1 Axes>"
      ]
     },
     "metadata": {
      "needs_background": "light"
     },
     "output_type": "display_data"
    }
   ],
   "source": [
    "pv_age = survey.pivot_table(values='cf_dept_or_job_dissatisfaction', index='age', aggfunc=np.sum, margins=True)\n",
    "pv_age.plot(kind='bar', xlim=((0,10)), title='Dept and Job Dissatisfaction as a CF by Age', legend=False)"
   ]
  },
  {
   "cell_type": "markdown",
   "id": "4e579927",
   "metadata": {},
   "source": [
    "Initially, there appears to be rise in dissatisfaction in older people, and perhaps a small increase in the 20-30 buckets.\n",
    "\n",
    "To see if there is a tendency for these employees to cite dissatisfaction as their reason for leaving more than their peers, these values have to made proportionate to the age distribution."
   ]
  },
  {
   "cell_type": "code",
   "execution_count": 6,
   "id": "5d39dca9",
   "metadata": {},
   "outputs": [
    {
     "data": {
      "text/plain": [
       "<AxesSubplot:title={'center':'TAFE Age Distribution'}>"
      ]
     },
     "execution_count": 6,
     "metadata": {},
     "output_type": "execute_result"
    },
    {
     "data": {
      "image/png": "[encoded data removed]",
      "text/plain": [
       "<Figure size 432x288 with 1 Axes>"
      ]
     },
     "metadata": {
      "needs_background": "light"
     },
     "output_type": "display_data"
    }
   ],
   "source": [
    "values = survey.loc[survey['college'] == 'TAFE','age']\n",
    "values.value_counts().sort_values(ascending=True).plot(kind='bar', title='TAFE Age Distribution')"
   ]
  },
  {
   "cell_type": "code",
   "execution_count": 7,
   "id": "8c4999fa",
   "metadata": {},
   "outputs": [
    {
     "data": {
      "text/plain": [
       "<AxesSubplot:title={'center':'DETE Age Distribution'}>"
      ]
     },
     "execution_count": 7,
     "metadata": {},
     "output_type": "execute_result"
    },
    {
     "data": {
      "image/png": "[encoded data removed]",
      "text/plain": [
       "<Figure size 432x288 with 1 Axes>"
      ]
     },
     "metadata": {
      "needs_background": "light"
     },
     "output_type": "display_data"
    }
   ],
   "source": [
    "values = survey.loc[survey['college'] == 'DETE','age']\n",
    "values.value_counts().sort_values(ascending=True).plot(kind='bar', title='DETE Age Distribution')"
   ]
  },
  {
   "cell_type": "markdown",
   "id": "53daf14c",
   "metadata": {},
   "source": [
    "Both TAFE and DETE have many more employees aged 56+ than any other age group.\n",
    "\n",
    "TAFE does not have a higher number of 20-30 year olds to correspond to the slight bulge in dissatisfaction we saw above.\n",
    "\n",
    "Therefore, it is worth pressing on with a fulling proportional analysis."
   ]
  },
  {
   "cell_type": "code",
   "execution_count": 8,
   "id": "58be461b",
   "metadata": {},
   "outputs": [],
   "source": [
    "# Split the dataset into TAFE and DETE because the age profile is different.\n",
    "tafe_survey = survey[survey['college'] == 'TAFE']\n",
    "dete_survey = survey[survey['college'] == 'DETE']"
   ]
  },
  {
   "cell_type": "code",
   "execution_count": 9,
   "id": "2835b9eb",
   "metadata": {},
   "outputs": [
    {
     "name": "stdout",
     "output_type": "stream",
     "text": [
      "       cf_dept_or_job_dissatisfaction  All  Satisfied or Other\n",
      "age                                                           \n",
      "18-20                               2   16                  14\n",
      "21-25                              11   44                  33\n",
      "26-30                               9   50                  41\n",
      "31-35                               8   52                  44\n",
      "36-40                               9   51                  42\n",
      "41-45                              12   80                  68\n",
      "46-50                              14   59                  45\n",
      "51-55                              13   82                  69\n",
      "56+                                21  162                 141\n",
      "       cf_dept_or_job_dissatisfaction  All  Satisfied or Other\n",
      "age                                                           \n",
      "18-20                               0    1                   1\n",
      "21-25                               4   40                  36\n",
      "26-30                              12   57                  45\n",
      "31-35                               9   39                  30\n",
      "36-40                               8   51                  43\n",
      "41-45                               9   61                  52\n",
      "46-50                               8   63                  55\n",
      "51-55                              24  103                  79\n",
      "56+                                51  396                 345\n"
     ]
    }
   ],
   "source": [
    "# Find dissatisfied leavers in each age bucket.\n",
    "pv_tafe = tafe_survey.pivot_table(values='cf_dept_or_job_dissatisfaction', index='age', aggfunc=np.sum, margins=True).drop('All')\n",
    "pv_dete = dete_survey.pivot_table(values='cf_dept_or_job_dissatisfaction', index='age', aggfunc=np.sum, margins=True).drop('All')\n",
    "\n",
    "# Get TAFE DataFrame ready for converting to percentages.\n",
    "pv_tafe['All'] = tafe_survey['age'].value_counts()\n",
    "pv_tafe['Satisfied or Other'] = pv_tafe['All'] - pv_tafe['cf_dept_or_job_dissatisfaction']\n",
    "print(pv_tafe)\n",
    "\n",
    "# Get DETE DataFrame ready for converting to percentages.\n",
    "pv_dete['All'] = dete_survey['age'].value_counts()\n",
    "pv_dete['Satisfied or Other'] = pv_dete['All'] - pv_dete['cf_dept_or_job_dissatisfaction']\n",
    "print(pv_dete)"
   ]
  },
  {
   "cell_type": "code",
   "execution_count": 10,
   "id": "002ef891",
   "metadata": {},
   "outputs": [
    {
     "name": "stdout",
     "output_type": "stream",
     "text": [
      "       Dissatisfied  Total  Satisfied\n",
      "age                                  \n",
      "18-20             2     16         14\n",
      "21-25            11     44         33\n",
      "26-30             9     50         41\n",
      "31-35             8     52         44\n",
      "36-40             9     51         42\n",
      "41-45            12     80         68\n",
      "46-50            14     59         45\n",
      "51-55            13     82         69\n",
      "56+              21    162        141\n",
      "       Dissatisfied  Total  Satisfied\n",
      "age                                  \n",
      "18-20             0      1          1\n",
      "21-25             4     40         36\n",
      "26-30            12     57         45\n",
      "31-35             9     39         30\n",
      "36-40             8     51         43\n",
      "41-45             9     61         52\n",
      "46-50             8     63         55\n",
      "51-55            24    103         79\n",
      "56+              51    396        345\n"
     ]
    }
   ],
   "source": [
    "# Rename some columns and make it easier to work with.\n",
    "new_cols = {\n",
    "    'cf_dept_or_job_dissatisfaction':'Dissatisfied', \n",
    "    'All':'Total', \n",
    "    'Satisfied or Other':'Satisfied'\n",
    "}\n",
    "\n",
    "pv_tafe.rename(new_cols, axis=1, inplace=True)\n",
    "pv_dete.rename(new_cols, axis=1, inplace=True)\n",
    "print(pv_tafe)\n",
    "print(pv_dete)\n"
   ]
  },
  {
   "cell_type": "code",
   "execution_count": 11,
   "id": "ca64925b",
   "metadata": {},
   "outputs": [
    {
     "name": "stdout",
     "output_type": "stream",
     "text": [
      "       Dissatisfied  Satisfied\n",
      "age                           \n",
      "18-20     12.500000  87.500000\n",
      "21-25     25.000000  75.000000\n",
      "26-30     18.000000  82.000000\n",
      "31-35     15.384615  84.615385\n",
      "36-40     17.647059  82.352941\n",
      "41-45     15.000000  85.000000\n",
      "46-50     23.728814  76.271186\n",
      "51-55     15.853659  84.146341\n",
      "56+       12.962963  87.037037\n",
      "       Dissatisfied   Satisfied\n",
      "age                            \n",
      "18-20      0.000000  100.000000\n",
      "21-25     10.000000   90.000000\n",
      "26-30     21.052632   78.947368\n",
      "31-35     23.076923   76.923077\n",
      "36-40     15.686275   84.313725\n",
      "41-45     14.754098   85.245902\n",
      "46-50     12.698413   87.301587\n",
      "51-55     23.300971   76.699029\n",
      "56+       12.878788   87.121212\n"
     ]
    }
   ],
   "source": [
    "# Percentage conversion function for TAFE\n",
    "def tafe_perc(item):\n",
    "    div = item/pv_tafe['Total']\n",
    "    return div*100\n",
    "\n",
    "# Percentage conversion function for DETE\n",
    "def dete_perc(item):\n",
    "    div = item/pv_dete['Total']\n",
    "    return div*100\n",
    "\n",
    "# Apply the conversion and make a new DataFrame\n",
    "columns = ['Dissatisfied','Satisfied']\n",
    "\n",
    "pv_tafe_perc = pv_tafe[columns].apply(tafe_perc)\n",
    "print(pv_tafe_perc)\n",
    "\n",
    "pv_dete_perc = pv_dete[columns].apply(dete_perc)\n",
    "print(pv_dete_perc)"
   ]
  },
  {
   "cell_type": "code",
   "execution_count": 12,
   "id": "babf595b",
   "metadata": {},
   "outputs": [
    {
     "data": {
      "text/plain": [
       "<AxesSubplot:title={'center':'Percentage Stacked Bar Graph'}, xlabel='age'>"
      ]
     },
     "execution_count": 12,
     "metadata": {},
     "output_type": "execute_result"
    },
    {
     "data": {
      "image/png": "[encoded data removed]",
      "text/plain": [
       "<Figure size 432x288 with 1 Axes>"
      ]
     },
     "metadata": {
      "needs_background": "light"
     },
     "output_type": "display_data"
    }
   ],
   "source": [
    "# Quick exploratory Plot\n",
    "pv_tafe_perc.plot(kind='bar', stacked=True, title = 'Percentage Stacked Bar Graph', mark_right = True)\n"
   ]
  },
  {
   "cell_type": "code",
   "execution_count": 13,
   "id": "2ba0d1c6",
   "metadata": {},
   "outputs": [
    {
     "data": {
      "text/plain": [
       "<AxesSubplot:xlabel='age'>"
      ]
     },
     "execution_count": 13,
     "metadata": {},
     "output_type": "execute_result"
    },
    {
     "data": {
      "image/png": "[encoded data removed]",
      "text/plain": [
       "<Figure size 432x288 with 1 Axes>"
      ]
     },
     "metadata": {
      "needs_background": "light"
     },
     "output_type": "display_data"
    }
   ],
   "source": [
    "# Quick exploratory Plot\n",
    "pv_dete_perc.plot(kind='bar', stacked=True)"
   ]
  },
  {
   "cell_type": "markdown",
   "id": "8c430ced",
   "metadata": {},
   "source": [
    "There is no correlation between older employees and dissatisfaction. Older employees make a significant portion of the population which initially suggested that there may be a dissatisfaction problem in older employees. However, once adjusted to percentages in each age bucket, it is clear that there are no negative trends in that age group.\n",
    "\n",
    "Other age groups vary fairly widely. For example, twice as many 31-35 year olds are dissatisfied as 21-25 year olds.\n",
    "\n",
    "This information is worth knowing."
   ]
  },
  {
   "cell_type": "code",
   "execution_count": 14,
   "id": "6f502cdd",
   "metadata": {},
   "outputs": [
    {
     "data": {
      "text/plain": [
       "Index(['18-20', '21-25', '26-30', '31-35', '36-40', '41-45', '46-50', '51-55',\n",
       "       '56+'],\n",
       "      dtype='object', name='age')"
      ]
     },
     "execution_count": 14,
     "metadata": {},
     "output_type": "execute_result"
    }
   ],
   "source": [
    "pv_tafe_perc.index"
   ]
  },
  {
   "cell_type": "code",
   "execution_count": 15,
   "id": "5e341da1",
   "metadata": {},
   "outputs": [
    {
     "data": {
      "image/png": "[encoded data removed]",
      "text/plain": [
       "<Figure size 1080x360 with 2 Axes>"
      ]
     },
     "metadata": {},
     "output_type": "display_data"
    }
   ],
   "source": [
    "# ax = pd.crosstab(df['Name'], df['Subject']).apply(lambda r: r/r.sum()*100, axis=1)\n",
    "fig, (ax1,ax2) = plt.subplots(ncols=2, nrows=1, figsize=(15,5), sharey=True)\n",
    "\n",
    "style.use('default')\n",
    "style.use('fivethirtyeight')\n",
    "\n",
    "width = 0.8\n",
    "satisfied_color = '#6d904f'\n",
    "dissatisfied_color = '#e5ae38'\n",
    "\n",
    "ax1.bar(pv_tafe_perc.index, pv_tafe_perc['Satisfied'],width,color=satisfied_color)\n",
    "ax1.bar(pv_tafe_perc.index, pv_tafe_perc['Dissatisfied'],width, bottom=pv_tafe_perc['Satisfied'],color=dissatisfied_color)\n",
    "\n",
    "ax2.bar(pv_dete_perc.index, pv_dete_perc['Satisfied'],width,color=satisfied_color)\n",
    "ax2.bar(pv_dete_perc.index, pv_dete_perc['Dissatisfied'],width, bottom=pv_dete_perc['Satisfied'],color=dissatisfied_color)\n",
    "\n",
    "x_tick_size = 11\n",
    "x_tick_weight = 'bold'\n",
    "x_tick_color = '#8b8b8b'\n",
    "\n",
    "ax1.grid(False)\n",
    "ax1.set_xticks(pv_tafe_perc.index)\n",
    "ax1.set_xticklabels(pv_tafe_perc.index,size=x_tick_size, color=x_tick_color,weight=x_tick_weight)\n",
    "ax1.set_yticklabels([])\n",
    "\n",
    "ax2.grid(False)\n",
    "ax2.set_xticks(pv_dete_perc.index)\n",
    "ax2.set_xticklabels(pv_dete_perc.index,size=x_tick_size, color=x_tick_color,weight=x_tick_weight)\n",
    "ax2.set_yticklabels([])\n",
    "\n",
    "title_x = -0.4\n",
    "title_y = 103\n",
    "title_size = 18\n",
    "title_weight = 'bold'\n",
    "title_color = '#8b8b8b'\n",
    "ax1.text(x=title_x, y=title_y, s='Employee Satisfaction at TAFE by Age',size=title_size, weight=title_weight, color=title_color)\n",
    "ax2.text(x=title_x, y=title_y, s='Employee Satisfaction at DETE by Age',size=title_size, weight=title_weight, color=title_color)\n",
    "\n",
    "t_perc_x = -0.3\n",
    "t_perc_y = 93\n",
    "t_perc_size = 11\n",
    "t_perc_weight = 'bold'\n",
    "t_perc_color = 'white'\n",
    "\n",
    "for perc in pv_tafe_perc['Dissatisfied']:\n",
    "    ax1.text(x=t_perc_x,y=t_perc_y,s=str(round(perc))+'%',size=t_perc_size,color=t_perc_color,weight=t_perc_weight)\n",
    "    t_perc_x += 1\n",
    "\n",
    "d_perc_x = -0.3\n",
    "d_perc_y = 93\n",
    "d_perc_size = 11\n",
    "d_perc_weight = 'bold'\n",
    "d_perc_color = 'white'\n",
    "\n",
    "for perc in pv_dete_perc['Dissatisfied']:\n",
    "    ax2.text(x=d_perc_x,y=d_perc_y,s=str(round(perc))+'%',size=d_perc_size,color=d_perc_color,weight=d_perc_weight)\n",
    "    d_perc_x += 1\n",
    "\n",
    "    \n",
    "plt.show()"
   ]
  },
  {
   "cell_type": "markdown",
   "id": "827f6885",
   "metadata": {},
   "source": [
    "This visualisation is not optimal. The arrangement makes comparison hard, which is surely the point of having two charts. There's repetition in the title and in the age group axes."
   ]
  },
  {
   "cell_type": "code",
   "execution_count": 44,
   "id": "89f6f36d",
   "metadata": {},
   "outputs": [
    {
     "data": {
      "image/png": "[encoded data removed]",
      "text/plain": [
       "<Figure size 1200x500 with 2 Axes>"
      ]
     },
     "metadata": {},
     "output_type": "display_data"
    }
   ],
   "source": [
    "# ax = pd.crosstab(df['Name'], df['Subject']).apply(lambda r: r/r.sum()*100, axis=1)\n",
    "fig, (ax1,ax2) = plt.subplots(ncols=2, nrows=1, figsize=(12,5), sharey=True)\n",
    "\n",
    "style.use('default')\n",
    "style.use('fivethirtyeight')\n",
    "\n",
    "# Style Plot\n",
    "width = 0.8\n",
    "satisfied_color = '#6d904f'\n",
    "dissatisfied_color = '#e5ae38'\n",
    "\n",
    "\n",
    "\n",
    "# Make Plot\n",
    "ax1.barh(pv_tafe_perc.index, pv_tafe_perc['Satisfied'],width,color=satisfied_color)\n",
    "ax1.barh(pv_tafe_perc.index, pv_tafe_perc['Dissatisfied'],width, left=pv_tafe_perc['Satisfied'],color=dissatisfied_color)\n",
    "\n",
    "ax2.barh(pv_dete_perc.index, pv_dete_perc['Dissatisfied'],width,color=dissatisfied_color, label='Dissatisfied')\n",
    "ax2.barh(pv_dete_perc.index, pv_dete_perc['Satisfied'],width, left=pv_dete_perc['Dissatisfied'],color=satisfied_color, label='Satisfied')\n",
    "\n",
    "# Style and Display Y Axis\n",
    "y_tick_size = 13\n",
    "y_tick_weight = 'bold'\n",
    "y_tick_color = '#8b8b8b'\n",
    "x_pos = 1.15\n",
    "\n",
    "ax1.grid(False)\n",
    "ax1.set_yticks(pv_tafe_perc.index)\n",
    "ax1.set_yticklabels(pv_tafe_perc.index,size=y_tick_size, color=y_tick_color,weight=y_tick_weight,x=x_pos)\n",
    "ax1.set_xticklabels([])\n",
    "\n",
    "# Style out X Axis\n",
    "ax2.grid(False)\n",
    "ax2.set_xticklabels([])\n",
    "\n",
    "# Title\n",
    "title_x = 0.09\n",
    "title_y = 0.9\n",
    "title_size = 35\n",
    "title_weight = 'bold'\n",
    "title_color = '#8b8b8b'\n",
    "fig.text(x=title_x, y=title_y, s='Employee Satisfaction by Age Group',size=title_size, weight=title_weight, color=title_color)\n",
    "\n",
    "# Style and Display Percentage Values for TAFE\n",
    "t_perc_x = 90\n",
    "t_perc_y = -0.15\n",
    "t_perc_size = 11\n",
    "t_perc_weight = 'bold'\n",
    "t_perc_color = 'white'\n",
    "\n",
    "for perc in pv_tafe_perc['Dissatisfied']:\n",
    "    ax1.text(x=t_perc_x,y=t_perc_y,s=str(round(perc))+'%',size=t_perc_size,color=t_perc_color,weight=t_perc_weight)\n",
    "    t_perc_y += 1\n",
    "\n",
    "# Style and Display Percentage Values for DETE\n",
    "d_perc_x = 1.5\n",
    "d_perc_y = -0.15\n",
    "d_perc_size = 11\n",
    "d_perc_weight = 'bold'\n",
    "d_perc_color = 'white'\n",
    "\n",
    "for perc in pv_dete_perc['Dissatisfied']:\n",
    "    ax2.text(x=d_perc_x,y=d_perc_y,s=str(round(perc))+'%',size=d_perc_size,color=d_perc_color,weight=d_perc_weight)\n",
    "    d_perc_y += 1\n",
    "\n",
    "# Labels 'DETE' and 'TAFE'\n",
    "ax1.text(x=2,y=7.75,s='TAFE',color='white',weight='bold',size=20)\n",
    "ax2.text(x=80,y=7.75,s='DETE',color='white',weight='bold',size=20)\n",
    "\n",
    "# Mean Line\n",
    "ax1.axvline(100-pv_tafe_perc['Dissatisfied'].mean(), linewidth=1,ymin=0.05, ymax=0.95,label='Mean Dissatisfaction')\n",
    "ax2.axvline(pv_dete_perc['Dissatisfied'].mean(), linewidth=1,ymin=0.05, ymax=0.95)\n",
    "\n",
    "# Legends\n",
    "ax1.legend(ncol=3,fontsize='small', loc='right', bbox_to_anchor=(0.98, 0),markerfirst=False,frameon=False)\n",
    "ax2.legend(ncol=3,fontsize='small', loc='right', bbox_to_anchor=(0.64, 0),frameon=False)\n",
    "\n",
    "# Footer\n",
    "ax1.text(x=0, y=-1.9, s='James Holiday-Scott, 2021' + ' '*169, backgroundcolor='grey', color='white', size=11)\n",
    "\n",
    "plt.show()"
   ]
  },
  {
   "cell_type": "markdown",
   "id": "12e76bf6",
   "metadata": {},
   "source": [
    "This visualisation is much more efficient and uses proximity to the axis and similarity across a line of symmetry to communicate the comparison effortlessly."
   ]
  },
  {
   "cell_type": "markdown",
   "id": "5bc29984",
   "metadata": {},
   "source": [
    "## Conclusions: Age and Dissatisfaction\n",
    "Older employees make up a signficant proportion of the employee demographics at TAFE and DETE. This explained the much larger number of dissatisfied leavers amongster older populations.\n",
    "\n",
    "Analysis revealed:\n",
    "- TAFE: 46-50 and 21-25 are the most dissatisfied age groups, showing significant levels above the college's mean, and 10% more than other age groups.\n",
    "- DETE: 51-50, 31-35, 26-30 are the most dissatisfied age groups, showing significant levels above the college's mean, and also 10% above that of other age groups."
   ]
  }
 ],
 "metadata": {
  "kernelspec": {
   "display_name": "jpython",
   "language": "python",
   "name": "jpython"
  },
  "language_info": {
   "codemirror_mode": {
    "name": "ipython",
    "version": 3
   },
   "file_extension": ".py",
   "mimetype": "text/x-python",
   "name": "python",
   "nbconvert_exporter": "python",
   "pygments_lexer": "ipython3",
   "version": "3.9.2"
  }
 },
 "nbformat": 4,
 "nbformat_minor": 5
}
