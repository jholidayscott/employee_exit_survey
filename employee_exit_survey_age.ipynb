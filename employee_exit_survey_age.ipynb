{
 "cells": [
  {
   "cell_type": "markdown",
   "id": "03fe709e",
   "metadata": {},
   "source": [
    "# Employee Exit Survey\n",
    "\n",
    "## The Client\n",
    "TAFE and DETE are vocational colleges in Australia. They have been doing exit surveys for a while and have now gathered a dataset of about 1600 results which they would like analysed. The client is focussed on internal contributing factors.\n",
    "\n",
    "## Aims of Analysis: Dissatisfaction\n",
    "The client has asked for a report to help them understand the results of their recent exit survey.\n",
    "\n",
    "They wish to understand the profile of employees who cite dissatisfaction as a contributing factor to their exit from the organisation.\n",
    "\n",
    "Leadership wants to understand where to target retention improvement strategies.\n",
    "\n",
    "## Notebooks and Reports\n",
    "The following notebooks and documents are part of this anaylsis:\n",
    "\n",
    "| Jupyter Notebook Filename | Contents |\n",
    "|:----------------------------------|:-------|\n",
    "|employee_exit_survey_cleaning_1.csv|Columns drops, missing data, renaming columns, tidying data for consistency|\n",
    "|employee_exit_survey_cleaning_2.csv|Adding calculated columns, adding category columns, further drops|\n",
    "|employee_exit_survey_correlation.csv|Investigating correlations to guide analysis|\n",
    "|employee_exit_survey_gender.csv|Aggregation by pivot_table of gender subsets, visualisations|\n",
    "|employee_exit_survey_age.csv|Aggregation by pivot_table of gender subsets, visualisations|\n",
    "|employee_exit_survey_conflict.csv|Aggregation by pivot_table of gender subsets, visualisations|\n"
   ]
  }
 ],
 "metadata": {
  "kernelspec": {
   "display_name": "jpython",
   "language": "python",
   "name": "jpython"
  },
  "language_info": {
   "codemirror_mode": {
    "name": "ipython",
    "version": 3
   },
   "file_extension": ".py",
   "mimetype": "text/x-python",
   "name": "python",
   "nbconvert_exporter": "python",
   "pygments_lexer": "ipython3",
   "version": "3.9.2"
  }
 },
 "nbformat": 4,
 "nbformat_minor": 5
}
