{
 "cells": [
  {
   "cell_type": "code",
   "execution_count": 1,
   "id": "feb0bca6-798a-447c-b140-b981bb508538",
   "metadata": {},
   "outputs": [],
   "source": [
    "import pandas as pd\n",
    "import matplotlib.pyplot as plt\n",
    "import matplotlib.style as style\n",
    "import numpy as np"
   ]
  },
  {
   "cell_type": "code",
   "execution_count": 2,
   "id": "f5b5f974-28d1-4f77-9da3-62bedd8c72ed",
   "metadata": {},
   "outputs": [],
   "source": [
    "survey = pd.read_csv('employee_exit_survey_clean_final.csv')"
   ]
  },
  {
   "cell_type": "code",
   "execution_count": 3,
   "id": "f9c58099-f6f3-4c65-813a-0cc4d6d462b4",
   "metadata": {},
   "outputs": [
    {
     "data": {
      "text/plain": [
       "56+      558\n",
       "51-55    185\n",
       "41–45     80\n",
       "46-50     63\n",
       "41-45     61\n",
       "46–50     59\n",
       "26-30     57\n",
       "31–35     52\n",
       "36-40     51\n",
       "36–40     51\n",
       "26–30     50\n",
       "21–25     44\n",
       "21-25     40\n",
       "31-35     39\n",
       "18-20     17\n",
       "Name: age, dtype: int64"
      ]
     },
     "execution_count": 3,
     "metadata": {},
     "output_type": "execute_result"
    }
   ],
   "source": [
    "survey['age'].value_counts()"
   ]
  },
  {
   "cell_type": "code",
   "execution_count": 4,
   "id": "22564787-3df4-4ea4-b917-eb3d3bc29825",
   "metadata": {},
   "outputs": [
    {
     "data": {
      "text/plain": [
       "56+      558\n",
       "51-55    185\n",
       "41-45    141\n",
       "46-50    122\n",
       "26-30    107\n",
       "36-40    102\n",
       "31-35     91\n",
       "21-25     84\n",
       "18-20     17\n",
       "Name: new_age, dtype: int64"
      ]
     },
     "execution_count": 4,
     "metadata": {},
     "output_type": "execute_result"
    }
   ],
   "source": [
    "survey['new_age'] = survey['age'].str.strip().str.replace(' ','').str.replace('–','-')\n",
    "survey['new_age'].value_counts()"
   ]
  },
  {
   "cell_type": "code",
   "execution_count": 5,
   "id": "d567cc25-a0c1-4f3c-bd24-c9aab29752b9",
   "metadata": {},
   "outputs": [],
   "source": [
    "survey.drop('age', axis=1, inplace=True)"
   ]
  },
  {
   "cell_type": "code",
   "execution_count": 7,
   "id": "81ae4706-6787-47ac-abbb-e7c715939a98",
   "metadata": {},
   "outputs": [],
   "source": [
    "survey.rename(columns={'new_age':'age'}, inplace=True)"
   ]
  },
  {
   "cell_type": "code",
   "execution_count": 10,
   "id": "9223fe9d-488f-4484-b569-69866df61279",
   "metadata": {},
   "outputs": [
    {
     "data": {
      "text/plain": [
       "56+      558\n",
       "51-55    185\n",
       "41-45    141\n",
       "46-50    122\n",
       "26-30    107\n",
       "36-40    102\n",
       "31-35     91\n",
       "21-25     84\n",
       "18-20     17\n",
       "Name: age, dtype: int64"
      ]
     },
     "execution_count": 10,
     "metadata": {},
     "output_type": "execute_result"
    }
   ],
   "source": [
    "survey['age'].value_counts()"
   ]
  },
  {
   "cell_type": "code",
   "execution_count": 12,
   "id": "a99ec25c-3c6d-452e-a17f-357aef529872",
   "metadata": {},
   "outputs": [
    {
     "name": "stdout",
     "output_type": "stream",
     "text": [
      "<class 'pandas.core.frame.DataFrame'>\n",
      "RangeIndex: 1524 entries, 0 to 1523\n",
      "Data columns (total 20 columns):\n",
      " #   Column                          Non-Null Count  Dtype \n",
      "---  ------                          --------------  ----- \n",
      " 0   Unnamed: 0                      1524 non-null   int64 \n",
      " 1   index                           1524 non-null   int64 \n",
      " 2   cf_to_private_sector            1524 non-null   bool  \n",
      " 3   cf_health                       1524 non-null   bool  \n",
      " 4   cf_family                       1524 non-null   bool  \n",
      " 5   cf_dept_dissatisfaction         1524 non-null   bool  \n",
      " 6   cf_job_dissatisfaction          1524 non-null   bool  \n",
      " 7   cf_interpersonal_conflict       1524 non-null   bool  \n",
      " 8   cf_other                        1524 non-null   bool  \n",
      " 9   institute_recognition           1524 non-null   bool  \n",
      " 10  institute_job_security          1524 non-null   bool  \n",
      " 11  dept_workload                   1524 non-null   bool  \n",
      " 12  dept_work_life_balance          1524 non-null   bool  \n",
      " 13  dept_work_environment           1524 non-null   bool  \n",
      " 14  gender                          1524 non-null   object\n",
      " 15  service_years                   1293 non-null   object\n",
      " 16  exit_year                       1524 non-null   int64 \n",
      " 17  college                         1524 non-null   object\n",
      " 18  cf_dept_or_job_dissatisfaction  1524 non-null   bool  \n",
      " 19  age                             1407 non-null   object\n",
      "dtypes: bool(13), int64(3), object(4)\n",
      "memory usage: 102.8+ KB\n"
     ]
    }
   ],
   "source": [
    "survey.info()"
   ]
  },
  {
   "cell_type": "code",
   "execution_count": 14,
   "id": "3cd6af5e-b039-4b35-8b31-a310ecfd90af",
   "metadata": {},
   "outputs": [],
   "source": [
    "survey.to_csv('employee_exit_survey_clean_final.csv')"
   ]
  }
 ],
 "metadata": {
  "kernelspec": {
   "display_name": "jpython",
   "language": "python",
   "name": "jpython"
  },
  "language_info": {
   "codemirror_mode": {
    "name": "ipython",
    "version": 3
   },
   "file_extension": ".py",
   "mimetype": "text/x-python",
   "name": "python",
   "nbconvert_exporter": "python",
   "pygments_lexer": "ipython3",
   "version": "3.9.1"
  }
 },
 "nbformat": 4,
 "nbformat_minor": 5
}
